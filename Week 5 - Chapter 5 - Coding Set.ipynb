{
 "cells": [
  {
   "cell_type": "markdown",
   "id": "f193c60a",
   "metadata": {},
   "source": [
    "# Coding Set - Chapter 5 (Week 5)"
   ]
  },
  {
   "cell_type": "markdown",
   "id": "c0b20d45",
   "metadata": {},
   "source": [
    "## Algorithm Workbench - Problem 1"
   ]
  },
  {
   "cell_type": "markdown",
   "id": "52495104",
   "metadata": {},
   "source": [
    "Write a function named times_ten. The function should accept an argument and display the product of its argument multiplied times 10."
   ]
  },
  {
   "cell_type": "code",
   "execution_count": 3,
   "id": "07168b2f",
   "metadata": {},
   "outputs": [
    {
     "name": "stdout",
     "output_type": "stream",
     "text": [
      "130\n"
     ]
    }
   ],
   "source": [
    "#Define function with \"num\" as variable\n",
    "def times_ten(num):\n",
    "#Multiply the entered variable by 10 to get product\n",
    "    product=num*10\n",
    "#Print the product\n",
    "    print(product)\n",
    "#Test function\n",
    "times_ten(13)"
   ]
  },
  {
   "cell_type": "markdown",
   "id": "a3156fce",
   "metadata": {},
   "source": [
    "For this problem, I created a function named 'times_ten' as requested. The function asks the user to enter a number when calling the function, and the function then multiplies the entered number by 10 to receive the product."
   ]
  },
  {
   "cell_type": "markdown",
   "id": "72d15f81",
   "metadata": {},
   "source": [
    "## Algorithm Workbench - Problem 3"
   ]
  },
  {
   "cell_type": "markdown",
   "id": "2cc71991",
   "metadata": {},
   "source": [
    "Look at the following function header:\n",
    "def my_function(a, b, c): \n",
    "Now look at the following call to my_function:﻿\n",
    "my_function(3, 2, 1) \n",
    "When this call executes, what value will be assigned to a? What value will be assigned to b? What value will be assigned to c?"
   ]
  },
  {
   "cell_type": "markdown",
   "id": "89b249f9",
   "metadata": {},
   "source": [
    "When this function executes, the values assigned will follow the same format as the variables listed in the function. Therefore, 3 will be assigned to \"a\", 2 will be assigned to \"b\", and 1 will be assigned to \"c\"."
   ]
  },
  {
   "cell_type": "markdown",
   "id": "38c64420",
   "metadata": {},
   "source": [
    "## Programming Exercises - Problem 1"
   ]
  },
  {
   "cell_type": "markdown",
   "id": "fd8231f6",
   "metadata": {},
   "source": [
    "Write a program that asks the user to enter a distance in kilometers, then uses a function to convert that distance to miles. The conversion formula is as follows:\n",
    "\n",
    "Miles = Kilometers x 0.6214"
   ]
  },
  {
   "cell_type": "code",
   "execution_count": 5,
   "id": "aec14a70",
   "metadata": {},
   "outputs": [
    {
     "name": "stdout",
     "output_type": "stream",
     "text": [
      "Please enter a distance in kilometers:100\n",
      "100.0 kilometers is equal to 62.13999999999999 miles.\n"
     ]
    }
   ],
   "source": [
    "#Define conversion factor for the program\n",
    "conversion_factor = 0.6214\n",
    "\n",
    "#Start function, have user input distance in kilometers\n",
    "def main():\n",
    "    kilometers = float(input('Please enter a distance in kilometers:'))\n",
    "    #Display the distance converted to miles\n",
    "    show_miles (kilometers)\n",
    "    \n",
    "def show_miles (km):\n",
    "    #Calculate miles using conversion formula\n",
    "    miles = km * conversion_factor\n",
    "    #Display the calculated miles to the user\n",
    "    print(km, 'kilometers is equal to', miles, 'miles.')\n",
    "main()"
   ]
  },
  {
   "cell_type": "markdown",
   "id": "1a2ec351",
   "metadata": {},
   "source": [
    "For this problem, I created a main function, which asked the user to input a distance in kilometers. This main function then called the 'show_miles' function, which used the conversion factor to convert the inputted number into miles. Once converted, the function printed the output in miles to the user."
   ]
  },
  {
   "cell_type": "markdown",
   "id": "ab056a75",
   "metadata": {},
   "source": [
    "## Programming Exercises - Problem 3"
   ]
  },
  {
   "cell_type": "markdown",
   "id": "1c4b9aa9",
   "metadata": {},
   "source": [
    "Many financial experts advise that property owners should insure their homes or buildings for at least 80 percent of the amount it would cost to replace the structure. Write a program that asks the user to enter the replacement cost of a building, then displays the minimum amount of insurance he or she should buy for the property."
   ]
  },
  {
   "cell_type": "code",
   "execution_count": 8,
   "id": "a7c35d26",
   "metadata": {},
   "outputs": [
    {
     "name": "stdout",
     "output_type": "stream",
     "text": [
      "Enter the replacement cost of your building:100000\n",
      "80000.0 is the recommended minimum amount of insurance\n"
     ]
    }
   ],
   "source": [
    "#Define replacement percentage as 80% of value\n",
    "replacement_percentage = 0.8\n",
    "\n",
    "#Start function, have user input the replacement cost of a building\n",
    "def main():\n",
    "    replacement_cost = int(input('Enter the replacement cost of your building:'))\n",
    "    #Display the recommended amount of insurance\n",
    "    recommended_insurance (replacement_cost)\n",
    "    \n",
    "def recommended_insurance (rc):\n",
    "    #Calculate recommended insurance using formula\n",
    "    insurance = rc * replacement_percentage\n",
    "    #Display the recommended insurance to the user\n",
    "    print(insurance, 'is the recommended minimum amount of insurance')\n",
    "main()\n",
    "    "
   ]
  },
  {
   "cell_type": "markdown",
   "id": "ef636d40",
   "metadata": {},
   "source": [
    "For this problem, I created a main function, which asked the user to input the replacement cost of their building. This function then called the 'recommended_insurance' function, which calculateed the recommended insurance amount based on the formula of 80%. The function then displayed the recommended minimum insurance amount to the user."
   ]
  },
  {
   "cell_type": "markdown",
   "id": "f21b5779",
   "metadata": {},
   "source": [
    "## Programming Exercises - Problem 16"
   ]
  },
  {
   "cell_type": "markdown",
   "id": "a83691ad",
   "metadata": {},
   "source": [
    "A prime number is a number that is only evenly divisible by itself and 1. For example, the number 5 is prime because it can only be evenly divided by 1 and 5. The number 6, however, is not prime because it can be divided evenly by 1, 2, 3, and 6.\n",
    "\n",
    "Write a Boolean function named is_prime which takes an integer as an argument and returns true if the argument is a prime number, or false otherwise. Use the function in a program that prompts the user to enter a number then displays a message indicating whether the number is prime."
   ]
  },
  {
   "cell_type": "code",
   "execution_count": 51,
   "id": "cccb3be3",
   "metadata": {},
   "outputs": [],
   "source": [
    "import math\n",
    "#Create main function\n",
    "def main():\n",
    "    num = int(input('Please enter a number to test if it is prime'))\n",
    "    #If number is prime, display to the user\n",
    "    if is_prime(num):\n",
    "        print('You found a prime number!')\n",
    "    else:\n",
    "        print('This number is not a prime number!')\n",
    "#Create function to test if entered number is prime\n",
    "def is_prime(num):\n",
    "    #Test range beginning from 2 - going until the entered number\n",
    "    for i in range(2, math.floor(math.sqrt(num)) + 1):\n",
    "        if num % i == 0:\n",
    "            return False\n",
    "    return True"
   ]
  },
  {
   "cell_type": "code",
   "execution_count": 50,
   "id": "2a544f67",
   "metadata": {},
   "outputs": [
    {
     "name": "stdout",
     "output_type": "stream",
     "text": [
      "Please enter a number to test if it is prime 5479\n",
      "You found a prime number!\n"
     ]
    }
   ],
   "source": [
    "main()"
   ]
  },
  {
   "cell_type": "raw",
   "id": "543b55a0",
   "metadata": {},
   "source": [
    "For this problem, I created a main function that asked the user to input a number. Once the number was inputted, this function called the 'is_prime' function to determine if the entered number is a prime. If it is prime, it would display that to the user that it is a prime number, and if it is not prime, it would advise the user that it is not a prime number."
   ]
  },
  {
   "cell_type": "markdown",
   "id": "23bf8937",
   "metadata": {},
   "source": [
    "## Programming Exercises - Problem 17"
   ]
  },
  {
   "cell_type": "markdown",
   "id": "299392ae",
   "metadata": {},
   "source": [
    "This exercise assumes that you have already written the is_prime function in Programming Exercise 16. Write another program that displays all of the prime numbers from 1 to 100. The program should have a loop that calls the is_prime function."
   ]
  },
  {
   "cell_type": "code",
   "execution_count": 60,
   "id": "a7087bc3",
   "metadata": {},
   "outputs": [],
   "source": [
    "#Most of this code can be re-used, it simply requires changes to the main function\n",
    "import math\n",
    "\n",
    "#Create function to test if entered number is prime\n",
    "def is_prime(num):\n",
    "    #error check to avoid 0 or negative numbers\n",
    "    if num <= 1:\n",
    "        return False\n",
    "    #Test range beginning from 2 - going until the entered number\n",
    "    for i in range(2, math.floor(math.sqrt(num)) + 1):\n",
    "        if num % i == 0:\n",
    "            return False\n",
    "    return True\n",
    "\n",
    "#Create main function\n",
    "def main():\n",
    "    #Create list of prime numbers\n",
    "    prime_numbers = []\n",
    "    #Create range for program to check within\n",
    "    for num in range (1, 101):\n",
    "    #If number is prime, display to the user\n",
    "        if is_prime(num):\n",
    "            prime_numbers.append(num)\n",
    "            \n",
    "#Once function has been ran, display the prime numbers found\n",
    "    print('Prime numbers from 1 to 100:')\n",
    "    print(prime_numbers)"
   ]
  },
  {
   "cell_type": "code",
   "execution_count": 61,
   "id": "70ff3076",
   "metadata": {},
   "outputs": [
    {
     "name": "stdout",
     "output_type": "stream",
     "text": [
      "Prime numbers from 1 to 100:\n",
      "[2, 3, 5, 7, 11, 13, 17, 19, 23, 29, 31, 37, 41, 43, 47, 53, 59, 61, 67, 71, 73, 79, 83, 89, 97]\n"
     ]
    }
   ],
   "source": [
    "main()"
   ]
  },
  {
   "cell_type": "markdown",
   "id": "d8ba608e",
   "metadata": {},
   "source": [
    "For this problem, I repurposed my code from Problem 16, including both the main function and the 'is_prime' function. The 'is_prime'function remained largely the same, but I made some changes to the main function to allow for looping. I created the variable 'prime_numbers' to show the list of prime numbers once the function is called. I then created a range for the code to iterate from 1 - 100, while adding each prime number to the list. Once the iterations are complete, the function displays the prime numbers to the user."
   ]
  }
 ],
 "metadata": {
  "kernelspec": {
   "display_name": "Python 3 (ipykernel)",
   "language": "python",
   "name": "python3"
  },
  "language_info": {
   "codemirror_mode": {
    "name": "ipython",
    "version": 3
   },
   "file_extension": ".py",
   "mimetype": "text/x-python",
   "name": "python",
   "nbconvert_exporter": "python",
   "pygments_lexer": "ipython3",
   "version": "3.11.7"
  }
 },
 "nbformat": 4,
 "nbformat_minor": 5
}
