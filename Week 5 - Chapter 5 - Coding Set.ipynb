{
 "cells": [
  {
   "cell_type": "markdown",
   "id": "f193c60a",
   "metadata": {},
   "source": [
    "# Coding Set - Chapter 5 (Week 5)"
   ]
  },
  {
   "cell_type": "markdown",
   "id": "c0b20d45",
   "metadata": {},
   "source": [
    "## Algorithm Workbench - Problem 1"
   ]
  },
  {
   "cell_type": "markdown",
   "id": "52495104",
   "metadata": {},
   "source": [
    "Write a function named times_ten. The function should accept an argument and display the product of its argument multiplied times 10."
   ]
  },
  {
   "cell_type": "code",
   "execution_count": 3,
   "id": "07168b2f",
   "metadata": {},
   "outputs": [
    {
     "name": "stdout",
     "output_type": "stream",
     "text": [
      "130\n"
     ]
    }
   ],
   "source": [
    "#Define function with \"num\" as variable\n",
    "def times_ten(num):\n",
    "#Multiply the entered variable by 10 to get product\n",
    "    product=num*10\n",
    "#Print the product\n",
    "    print(product)\n",
    "#Test function\n",
    "times_ten(13)"
   ]
  },
  {
   "cell_type": "markdown",
   "id": "72d15f81",
   "metadata": {},
   "source": [
    "## Algorithm Workbench - Problem 3"
   ]
  },
  {
   "cell_type": "markdown",
   "id": "2cc71991",
   "metadata": {},
   "source": [
    "Look at the following function header:\n",
    "def my_function(a, b, c): \n",
    "Now look at the following call to my_function:﻿\n",
    "my_function(3, 2, 1) \n",
    "When this call executes, what value will be assigned to a? What value will be assigned to b? What value will be assigned to c?"
   ]
  },
  {
   "cell_type": "markdown",
   "id": "89b249f9",
   "metadata": {},
   "source": [
    "When this function executes, the values assigned will follow the same format as the variables listed in the function. Therefore, 3 will be assigned to \"a\", 2 will be assigned to \"b\", and 1 will be assigned to \"c\"."
   ]
  },
  {
   "cell_type": "markdown",
   "id": "40aa8913",
   "metadata": {},
   "source": [
    "## Programming Exercises - Problem 1"
   ]
  },
  {
   "cell_type": "markdown",
   "id": "e5ec9800",
   "metadata": {},
   "source": [
    "Write a program that asks the user to enter a distance in kilometers, then uses a function to convert that distance to miles. The conversion formula is as follows:\n",
    "\n",
    "Miles = Kilometers x 0.6214"
   ]
  },
  {
   "cell_type": "code",
   "execution_count": 5,
   "id": "deca1e34",
   "metadata": {},
   "outputs": [
    {
     "name": "stdout",
     "output_type": "stream",
     "text": [
      "Please enter a distance in kilometers:100\n",
      "100.0 kilometers is equal to 62.13999999999999 miles.\n"
     ]
    }
   ],
   "source": [
    "#Define conversion factor for the program\n",
    "conversion_factor = 0.6214\n",
    "\n",
    "#Start function, have user input distance in kilometers\n",
    "def main():\n",
    "    kilometers = float(input('Please enter a distance in kilometers:'))\n",
    "    #Display the distance converted to miles\n",
    "    show_miles (kilometers)\n",
    "    \n",
    "def show_miles (km):\n",
    "    #Calculate miles using conversion formula\n",
    "    miles = km * conversion_factor\n",
    "    #Display the calculated miles to the user\n",
    "    print(km, 'kilometers is equal to', miles, 'miles.')\n",
    "main()"
   ]
  },
  {
   "cell_type": "markdown",
   "id": "544c0cd5",
   "metadata": {},
   "source": [
    "Notes placeholder"
   ]
  },
  {
   "cell_type": "markdown",
   "id": "67e5119a",
   "metadata": {},
   "source": [
    "## Programming Exercises - Problem 3"
   ]
  },
  {
   "cell_type": "markdown",
   "id": "db3cf2cb",
   "metadata": {},
   "source": [
    "Many financial experts advise that property owners should insure their homes or buildings for at least 80 percent of the amount it would cost to replace the structure. Write a program that asks the user to enter the replacement cost of a building, then displays the minimum amount of insurance he or she should buy for the property."
   ]
  },
  {
   "cell_type": "code",
   "execution_count": 8,
   "id": "bb906fa6",
   "metadata": {},
   "outputs": [
    {
     "name": "stdout",
     "output_type": "stream",
     "text": [
      "Enter the replacement cost of your building:100000\n",
      "80000.0 is the recommended minimum amount of insurance\n"
     ]
    }
   ],
   "source": [
    "#Define replacement percentage as 80% of value\n",
    "replacement_percentage = 0.8\n",
    "\n",
    "#Start function, have user input the replacement cost of a building\n",
    "def main():\n",
    "    replacement_cost = int(input('Enter the replacement cost of your building:'))\n",
    "    #Display the recommended amount of insurance\n",
    "    recommended_insurance (replacement_cost)\n",
    "    \n",
    "def recommended_insurance (rc):\n",
    "    #Calculate recommended insurance using formula\n",
    "    insurance = rc * replacement_percentage\n",
    "    #Display the recommended insurance to the user\n",
    "    print(insurance, 'is the recommended minimum amount of insurance')\n",
    "main()\n",
    "    "
   ]
  },
  {
   "cell_type": "code",
   "execution_count": null,
   "id": "61e71be4",
   "metadata": {},
   "outputs": [],
   "source": []
  }
 ],
 "metadata": {
  "kernelspec": {
   "display_name": "Python 3 (ipykernel)",
   "language": "python",
   "name": "python3"
  },
  "language_info": {
   "codemirror_mode": {
    "name": "ipython",
    "version": 3
   },
   "file_extension": ".py",
   "mimetype": "text/x-python",
   "name": "python",
   "nbconvert_exporter": "python",
   "pygments_lexer": "ipython3",
   "version": "3.11.7"
  }
 },
 "nbformat": 4,
 "nbformat_minor": 5
}
