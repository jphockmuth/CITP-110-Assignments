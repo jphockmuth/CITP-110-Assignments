{
 "cells": [
  {
   "cell_type": "markdown",
   "id": "bfb93e93",
   "metadata": {},
   "source": [
    "# Coding Set - Chapter 6 (Week 6)"
   ]
  },
  {
   "cell_type": "markdown",
   "id": "d3527d8a",
   "metadata": {},
   "source": [
    "## Algorithm Workbench - Problem 1"
   ]
  },
  {
   "cell_type": "markdown",
   "id": "fee0eca3",
   "metadata": {},
   "source": [
    "Write a program that opens an output file with the filename my_name.txt, writes your name to the file, then closes the file. "
   ]
  },
  {
   "cell_type": "code",
   "execution_count": 4,
   "id": "3acc41c9",
   "metadata": {},
   "outputs": [],
   "source": [
    "#Create main function\n",
    "def main():\n",
    "    #Use open function to open the file\n",
    "    my_name = open('my_name.txt', 'w')\n",
    "    #Use write method to write data into file as a string\n",
    "    my_name.write('Jared Hockmuth')\n",
    "    #Use object close method to close file\n",
    "    my_name.close()\n",
    "main()"
   ]
  },
  {
   "cell_type": "markdown",
   "id": "08e77c9a",
   "metadata": {},
   "source": [
    "Notes Placeholder"
   ]
  },
  {
   "cell_type": "markdown",
   "id": "14eca10e",
   "metadata": {},
   "source": [
    "## Algorithm Workbench - Problem 2"
   ]
  },
  {
   "cell_type": "markdown",
   "id": "c5bfae39",
   "metadata": {},
   "source": [
    "Write a program that opens the my_name.txt file that was created by the program in problem 1, reads your name from the file, displays the name on the screen, then closes the file."
   ]
  },
  {
   "cell_type": "code",
   "execution_count": null,
   "id": "b6b68232",
   "metadata": {},
   "outputs": [],
   "source": []
  }
 ],
 "metadata": {
  "kernelspec": {
   "display_name": "Python 3 (ipykernel)",
   "language": "python",
   "name": "python3"
  },
  "language_info": {
   "codemirror_mode": {
    "name": "ipython",
    "version": 3
   },
   "file_extension": ".py",
   "mimetype": "text/x-python",
   "name": "python",
   "nbconvert_exporter": "python",
   "pygments_lexer": "ipython3",
   "version": "3.11.7"
  }
 },
 "nbformat": 4,
 "nbformat_minor": 5
}
