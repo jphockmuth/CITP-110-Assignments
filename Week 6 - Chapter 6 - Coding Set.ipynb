{
 "cells": [
  {
   "cell_type": "markdown",
   "id": "171ad46d",
   "metadata": {},
   "source": [
    "# Coding Set - Chapter 6 (Week 6)"
   ]
  },
  {
   "cell_type": "markdown",
   "id": "1568c0ae",
   "metadata": {},
   "source": [
    "## Algorithm Workbench - Problem 1"
   ]
  },
  {
   "cell_type": "markdown",
   "id": "05644adf",
   "metadata": {},
   "source": [
    "Write a program that opens an output file with the filename my_name.txt, writes your name to the file, then closes the file. "
   ]
  },
  {
   "cell_type": "code",
   "execution_count": 4,
   "id": "1e8c5e44",
   "metadata": {},
   "outputs": [],
   "source": [
    "#Create main function\n",
    "def main():\n",
    "    #Use open function to open the file\n",
    "    my_name = open('my_name.txt', 'w')\n",
    "    #Use write method to write data into file as a string\n",
    "    my_name.write('Jared Hockmuth')\n",
    "    #Use object close method to close file\n",
    "    my_name.close()\n",
    "#Call function\n",
    "main()"
   ]
  },
  {
   "cell_type": "markdown",
   "id": "e2a27da7",
   "metadata": {},
   "source": [
    "Notes Placeholder"
   ]
  },
  {
   "cell_type": "markdown",
   "id": "fe954bb1",
   "metadata": {},
   "source": [
    "## Algorithm Workbench - Problem 2"
   ]
  },
  {
   "cell_type": "markdown",
   "id": "902e547a",
   "metadata": {},
   "source": [
    "Write a program that opens the my_name.txt file that was created by the program in problem 1, reads your name from the file, displays the name on the screen, then closes the file."
   ]
  },
  {
   "cell_type": "code",
   "execution_count": 10,
   "id": "9fc82be6",
   "metadata": {
    "scrolled": true
   },
   "outputs": [
    {
     "name": "stdout",
     "output_type": "stream",
     "text": [
      "Your name is Jared Hockmuth\n"
     ]
    }
   ],
   "source": [
    "#Create function to display name\n",
    "def read_name():\n",
    "    #Open the file in read mode and assign to my_name file variable\n",
    "    with open ('my_name.txt', 'r') as my_name:\n",
    "    #Read the file contents and assign to variable name, strip of newline\n",
    "        y_name = my_name.read().rstrip()\n",
    "    #Ouput the name as read from the file\n",
    "    print(f'Your name is', y_name)\n",
    "#Call function\n",
    "read_name()"
   ]
  },
  {
   "cell_type": "markdown",
   "id": "56b84c1c",
   "metadata": {},
   "source": [
    "Notes placeholder"
   ]
  },
  {
   "cell_type": "markdown",
   "id": "fdcbde4f",
   "metadata": {},
   "source": [
    "## Programming Exercises - Problem 1"
   ]
  },
  {
   "cell_type": "markdown",
   "id": "b81fb415",
   "metadata": {},
   "source": [
    "Assume a file containing a series of integers is named numbers.txt and exists on the computer’s disk. Write a program that displays all of the numbers in the file."
   ]
  },
  {
   "cell_type": "code",
   "execution_count": 1,
   "id": "07f70a87",
   "metadata": {},
   "outputs": [
    {
     "name": "stdout",
     "output_type": "stream",
     "text": [
      "27\n",
      "52\n",
      "5\n",
      "13\n",
      "9\n",
      "6\n",
      "26\n"
     ]
    }
   ],
   "source": [
    "#Open the file in read mode\n",
    "myfile = open('numbers.txt', 'r')\n",
    "#Read/display the numbers in the file\n",
    "for line in myfile:\n",
    "    number = int(line)\n",
    "    print (number)\n",
    "#Close the file\n",
    "myfile.close()"
   ]
  },
  {
   "cell_type": "markdown",
   "id": "2b40c4c4",
   "metadata": {},
   "source": [
    "Notes placeholder"
   ]
  },
  {
   "cell_type": "markdown",
   "id": "8582c159",
   "metadata": {},
   "source": [
    "## Programming Exercises - Problem 5"
   ]
  },
  {
   "cell_type": "markdown",
   "id": "707b4034",
   "metadata": {},
   "source": [
    "Assume a file containing a series of integers is named numbers.txt and exists on the computer’s disk. Write a program that reads all of the numbers stored in the file and calculates their total."
   ]
  },
  {
   "cell_type": "code",
   "execution_count": 4,
   "id": "b9209ab7",
   "metadata": {},
   "outputs": [
    {
     "name": "stdout",
     "output_type": "stream",
     "text": [
      "The numbers in this file add up to a total of 138\n"
     ]
    }
   ],
   "source": [
    "#Create main function\n",
    "def main():\n",
    "#Open the file in read mode\n",
    "    myfile = open('numbers.txt', 'r')\n",
    "#Create variable for total\n",
    "    total = 0\n",
    "#Read the numbers in the file\n",
    "    for line in myfile:\n",
    "        #Add numbers together to get sum\n",
    "        total += int(line)\n",
    "    #Display total    \n",
    "    print('The numbers in this file add up to a total of', total)\n",
    "    #Close the file\n",
    "    myfile.close()\n",
    "main()"
   ]
  },
  {
   "cell_type": "markdown",
   "id": "9448ce71",
   "metadata": {},
   "source": [
    "Notes placeholder"
   ]
  },
  {
   "cell_type": "markdown",
   "id": "9ec432b0",
   "metadata": {},
   "source": [
    "## Programming Exercises - Problem 6"
   ]
  },
  {
   "cell_type": "markdown",
   "id": "077ed6e8",
   "metadata": {},
   "source": [
    "Assume a file containing a series of integers is named numbers.txt and exists on the computer’s disk. Write a program that calculates the average of all the numbers stored in the file."
   ]
  },
  {
   "cell_type": "code",
   "execution_count": 11,
   "id": "19ad0b7e",
   "metadata": {},
   "outputs": [
    {
     "name": "stdout",
     "output_type": "stream",
     "text": [
      "The average is 19\n"
     ]
    }
   ],
   "source": [
    "#Create main function\n",
    "def main():\n",
    "#Open the file in read mode\n",
    "    myfile = open('numbers.txt', 'r')\n",
    "#Create variable for total\n",
    "    total = 0\n",
    "    count = 0\n",
    "#Read the numbers in the file\n",
    "    for line in myfile:\n",
    "        #Add numbers together to get sum\n",
    "        total += int(line)\n",
    "        #Add count to keep track of the number of lines\n",
    "        count += 1\n",
    "        #Calculate average\n",
    "        average = int(int(total) // int(count))\n",
    "    #Display total   \n",
    "    print('The average is', average)\n",
    "    #Close the file\n",
    "    myfile.close()\n",
    "main()"
   ]
  },
  {
   "cell_type": "markdown",
   "id": "3fc50c91",
   "metadata": {},
   "source": [
    "## Programming Exercises - Problem 9"
   ]
  },
  {
   "cell_type": "markdown",
   "id": "9a4399b7",
   "metadata": {},
   "source": [
    "Modify the program that you wrote for Exercise 6 so it handles the following exceptions:\n",
    "\n",
    "It should handle any IOError exceptions that are raised when the file is opened and data is read from it.\n",
    "It should handle any ValueError exceptions that are raised when the items that are read from the file are converted to a number."
   ]
  },
  {
   "cell_type": "code",
   "execution_count": null,
   "id": "73002306",
   "metadata": {},
   "outputs": [],
   "source": []
  }
 ],
 "metadata": {
  "kernelspec": {
   "display_name": "Python 3 (ipykernel)",
   "language": "python",
   "name": "python3"
  },
  "language_info": {
   "codemirror_mode": {
    "name": "ipython",
    "version": 3
   },
   "file_extension": ".py",
   "mimetype": "text/x-python",
   "name": "python",
   "nbconvert_exporter": "python",
   "pygments_lexer": "ipython3",
   "version": "3.11.7"
  }
 },
 "nbformat": 4,
 "nbformat_minor": 5
}
