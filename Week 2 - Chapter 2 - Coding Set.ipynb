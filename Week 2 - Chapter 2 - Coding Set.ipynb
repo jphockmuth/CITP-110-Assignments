{
 "cells": [
  {
   "cell_type": "markdown",
   "id": "7936ea38",
   "metadata": {},
   "source": [
    "# Coding Set - Chapter 2 (Week 2)"
   ]
  },
  {
   "cell_type": "markdown",
   "id": "1e70f6a6",
   "metadata": {},
   "source": [
    "## Algorithm Workbench - Problem 8"
   ]
  },
  {
   "cell_type": "markdown",
   "id": "55108769",
   "metadata": {},
   "source": [
    "What would the following display?"
   ]
  },
  {
   "cell_type": "markdown",
   "id": "9ddfec27",
   "metadata": {},
   "source": [
    "a = 5\n",
    "b = 2\n",
    "c = 3\n",
    "result a + b * c"
   ]
  },
  {
   "cell_type": "markdown",
   "id": "7dde4dc2",
   "metadata": {},
   "source": [
    "Given the variables listed above and the rules of operator precedence, the multiplication of variable b and variable c should take place first, followed by the addition of variable a. Variable b multiplied by c would equal 6, and adding variable a will give us a final value of 11. I will confirm this prediction below."
   ]
  },
  {
   "cell_type": "code",
   "execution_count": 1,
   "id": "798ebeb8",
   "metadata": {},
   "outputs": [],
   "source": [
    "a=5"
   ]
  },
  {
   "cell_type": "code",
   "execution_count": 2,
   "id": "4c731218",
   "metadata": {},
   "outputs": [],
   "source": [
    "b=2"
   ]
  },
  {
   "cell_type": "code",
   "execution_count": 3,
   "id": "4a85ff3b",
   "metadata": {},
   "outputs": [],
   "source": [
    "c=3"
   ]
  },
  {
   "cell_type": "code",
   "execution_count": 4,
   "id": "3372f7e1",
   "metadata": {},
   "outputs": [],
   "source": [
    "result=a+b*c"
   ]
  },
  {
   "cell_type": "code",
   "execution_count": 5,
   "id": "c7d37f9b",
   "metadata": {},
   "outputs": [
    {
     "name": "stdout",
     "output_type": "stream",
     "text": [
      "11\n"
     ]
    }
   ],
   "source": [
    "print(result)"
   ]
  },
  {
   "cell_type": "markdown",
   "id": "ad99251c",
   "metadata": {},
   "source": [
    "## Programming Exercises - Problem 2"
   ]
  },
  {
   "cell_type": "markdown",
   "id": "7f257e6f",
   "metadata": {},
   "source": [
    "A company has determined that its annual profit is typically 23 percent of total sales. Write a program that asks the user to enter the projected amount of total sales, then displays the profit that will be made from that amount."
   ]
  },
  {
   "cell_type": "markdown",
   "id": "60fa7044",
   "metadata": {},
   "source": [
    "In order to solve this problem, I will create an input function that asks the user to input the projected total sales amount. I will also create a named constant for the profit percentage. Combining both the sales amount and profit percentage will allow us to calcualte the profit."
   ]
  },
  {
   "cell_type": "code",
   "execution_count": 6,
   "id": "70be8728",
   "metadata": {},
   "outputs": [],
   "source": [
    "#This is the named constant for the profit percentage\n",
    "profit_percentage=0.23"
   ]
  },
  {
   "cell_type": "code",
   "execution_count": 7,
   "id": "ae2e4800",
   "metadata": {},
   "outputs": [
    {
     "name": "stdout",
     "output_type": "stream",
     "text": [
      "Please enter the projected sales amount\n",
      "150000\n"
     ]
    }
   ],
   "source": [
    "#This function will have the user input the projected sales amount.\n",
    "print(\"Please enter the projected sales amount\")\n",
    "#wait for the user to imput the projected sales amount\n",
    "sales=float(input())"
   ]
  },
  {
   "cell_type": "code",
   "execution_count": 8,
   "id": "d9cf099d",
   "metadata": {},
   "outputs": [],
   "source": [
    "result=profit_percentage*sales"
   ]
  },
  {
   "cell_type": "code",
   "execution_count": 9,
   "id": "ac7fa23e",
   "metadata": {},
   "outputs": [
    {
     "name": "stdout",
     "output_type": "stream",
     "text": [
      "34500.0\n"
     ]
    }
   ],
   "source": [
    "print(result)"
   ]
  },
  {
   "cell_type": "markdown",
   "id": "32a4aa45",
   "metadata": {},
   "source": [
    "After determining that I needed to convert the sales number to a float in order to multiply the input by the float that is the profit percentage, I was able to correctly complete this function."
   ]
  },
  {
   "cell_type": "markdown",
   "id": "208167e3",
   "metadata": {},
   "source": [
    "## Programming Exercises - Problem 13"
   ]
  },
  {
   "cell_type": "markdown",
   "id": "16124e2b",
   "metadata": {},
   "source": [
    "A vineyard owner is planting several new rows of grapevines, and needs to know how many grapevines to plant in each row. She has determined that after measuring the length of a future row, she can use the following formula to calculate the number of vines that will fit in the row, along with the trellis end-post assemblies that will need to be constructed at each end of the row:"
   ]
  },
  {
   "cell_type": "markdown",
   "id": "edac38d2",
   "metadata": {},
   "source": [
    "The terms in the formula are:\n",
    "V is the number of grapevines that will fit in the row.\n",
    "R is the length of the row, in feet.\n",
    "E is the amount of space, in feet, used by an end-post assembly.\n",
    "S is the space between vines, in feet."
   ]
  },
  {
   "cell_type": "code",
   "execution_count": 10,
   "id": "67305c5e",
   "metadata": {},
   "outputs": [
    {
     "name": "stdout",
     "output_type": "stream",
     "text": [
      "Please enter the length of the row in feet\n",
      "125\n"
     ]
    }
   ],
   "source": [
    "#This function will have the user input the length of the row in feet.\n",
    "print('Please enter the length of the row in feet')\n",
    "#Wait for the user to input the length of the row in feet.\n",
    "length=input()"
   ]
  },
  {
   "cell_type": "code",
   "execution_count": 11,
   "id": "9ce3286a",
   "metadata": {},
   "outputs": [
    {
     "name": "stdout",
     "output_type": "stream",
     "text": [
      "Please enter the gap between vines in feet\n",
      "3\n"
     ]
    }
   ],
   "source": [
    "#This function will have the user input the gap between vines in feet.\n",
    "print('Please enter the gap between vines in feet')\n",
    "#Wait for the user to input the gap between vines in feet.\n",
    "gap=input()"
   ]
  },
  {
   "cell_type": "code",
   "execution_count": 15,
   "id": "d4c5e495",
   "metadata": {},
   "outputs": [
    {
     "name": "stdout",
     "output_type": "stream",
     "text": [
      "Please enter the amount of space used by an end-post assembly in feet\n",
      "5\n"
     ]
    }
   ],
   "source": [
    "#This function will have the user input the amount of space, in feet,used by an end-post assembly\n",
    "print('Please enter the amount of space used by an end-post assembly in feet')\n",
    "#Wait for the user to input the amount of space used by an end-post assembly in feet.\n",
    "assembly=input()\n",
    "\n"
   ]
  },
  {
   "cell_type": "code",
   "execution_count": null,
   "id": "990a9a9b",
   "metadata": {},
   "outputs": [],
   "source": []
  }
 ],
 "metadata": {
  "kernelspec": {
   "display_name": "Python 3 (ipykernel)",
   "language": "python",
   "name": "python3"
  },
  "language_info": {
   "codemirror_mode": {
    "name": "ipython",
    "version": 3
   },
   "file_extension": ".py",
   "mimetype": "text/x-python",
   "name": "python",
   "nbconvert_exporter": "python",
   "pygments_lexer": "ipython3",
   "version": "3.11.7"
  }
 },
 "nbformat": 4,
 "nbformat_minor": 5
}
