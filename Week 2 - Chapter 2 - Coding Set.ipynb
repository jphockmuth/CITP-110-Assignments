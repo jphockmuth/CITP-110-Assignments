{
 "cells": [
  {
   "cell_type": "markdown",
   "id": "7936ea38",
   "metadata": {},
   "source": [
    "# Coding Set - Chapter 2 (Week 2)"
   ]
  },
  {
   "cell_type": "markdown",
   "id": "1e70f6a6",
   "metadata": {},
   "source": [
    "## Algorithm Workbench - Problem 8"
   ]
  },
  {
   "cell_type": "markdown",
   "id": "607d83b6",
   "metadata": {},
   "source": [
    "What would the following display?"
   ]
  },
  {
   "cell_type": "markdown",
   "id": "7f7f6b52",
   "metadata": {},
   "source": [
    "a = 5\n",
    "b = 2\n",
    "c = 3\n",
    "result a + b * c"
   ]
  },
  {
   "cell_type": "markdown",
   "id": "f4196114",
   "metadata": {},
   "source": [
    "Given the variables listed above and the rules of operator precedence, the multiplication of variable b and variable c should take place first, followed by the addition of variable a. Variable b multiplied by c would equal 6, and adding variable a will give us a final value of 11. I will confirm this prediction below."
   ]
  },
  {
   "cell_type": "code",
   "execution_count": 5,
   "id": "db8073b0",
   "metadata": {},
   "outputs": [],
   "source": [
    "a=5"
   ]
  },
  {
   "cell_type": "code",
   "execution_count": 6,
   "id": "84329e0c",
   "metadata": {},
   "outputs": [],
   "source": [
    "b=2"
   ]
  },
  {
   "cell_type": "code",
   "execution_count": 7,
   "id": "056a35e3",
   "metadata": {},
   "outputs": [],
   "source": [
    "c=3"
   ]
  },
  {
   "cell_type": "code",
   "execution_count": 8,
   "id": "66f2db52",
   "metadata": {},
   "outputs": [],
   "source": [
    "result=a+b*c"
   ]
  },
  {
   "cell_type": "code",
   "execution_count": 10,
   "id": "16a48262",
   "metadata": {},
   "outputs": [
    {
     "name": "stdout",
     "output_type": "stream",
     "text": [
      "11\n"
     ]
    }
   ],
   "source": [
    "print(result)"
   ]
  },
  {
   "cell_type": "markdown",
   "id": "ad99251c",
   "metadata": {},
   "source": [
    "## Programming Exercises - Problem 2"
   ]
  },
  {
   "cell_type": "markdown",
   "id": "d7773b70",
   "metadata": {},
   "source": [
    "A company has determined that its annual profit is typically 23 percent of total sales. Write a program that asks the user to enter the projected amount of total sales, then displays the profit that will be made from that amount."
   ]
  },
  {
   "cell_type": "markdown",
   "id": "8d8879df",
   "metadata": {},
   "source": [
    "In order to solve this problem, I will create an input function that asks the user to input the projected total sales amount. I will also create a named constant for the profit percentage. Combining both the sales amount and profit percentage will allow us to calcualte the profit."
   ]
  },
  {
   "cell_type": "code",
   "execution_count": 13,
   "id": "ad5f761a",
   "metadata": {},
   "outputs": [],
   "source": [
    "#This is the named constant for the profit percentage\n",
    "profit_percentage=0.23"
   ]
  },
  {
   "cell_type": "code",
   "execution_count": 20,
   "id": "19423f88",
   "metadata": {},
   "outputs": [
    {
     "name": "stdout",
     "output_type": "stream",
     "text": [
      "Please enter the projected sales amount\n",
      "150000\n"
     ]
    }
   ],
   "source": [
    "#This function will have the user input the projected sales amount.\n",
    "print(\"Please enter the projected sales amount\")\n",
    "#wait for imput from user for the projected sales amount\n",
    "sales=float(input())"
   ]
  },
  {
   "cell_type": "code",
   "execution_count": 21,
   "id": "d4c76d5c",
   "metadata": {},
   "outputs": [],
   "source": [
    "result=profit_percentage*sales"
   ]
  },
  {
   "cell_type": "markdown",
   "id": "208167e3",
   "metadata": {},
   "source": [
    "## Programming Exercises - Problem 13"
   ]
  },
  {
   "cell_type": "code",
   "execution_count": null,
   "id": "1b6af88f",
   "metadata": {},
   "outputs": [],
   "source": []
  }
 ],
 "metadata": {
  "kernelspec": {
   "display_name": "Python 3 (ipykernel)",
   "language": "python",
   "name": "python3"
  },
  "language_info": {
   "codemirror_mode": {
    "name": "ipython",
    "version": 3
   },
   "file_extension": ".py",
   "mimetype": "text/x-python",
   "name": "python",
   "nbconvert_exporter": "python",
   "pygments_lexer": "ipython3",
   "version": "3.11.7"
  }
 },
 "nbformat": 4,
 "nbformat_minor": 5
}
