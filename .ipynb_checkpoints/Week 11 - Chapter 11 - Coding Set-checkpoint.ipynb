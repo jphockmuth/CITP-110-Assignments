{
 "cells": [
  {
   "cell_type": "markdown",
   "id": "332476ed",
   "metadata": {},
   "source": [
    "# Coding Set - Chapter 11 (Week 11)"
   ]
  },
  {
   "cell_type": "markdown",
   "id": "8fe0000e",
   "metadata": {},
   "source": [
    "## Programming Exercises - Problem 1"
   ]
  },
  {
   "cell_type": "markdown",
   "id": "07a11b01",
   "metadata": {},
   "source": [
    "Write an Employee class that keeps data attributes for the following pieces of information:\n",
    "\n",
    "Employee name\n",
    "Employee number\n",
    "Next, write a class named ProductionWorker that is a subclass of the Employee class. The ProductionWorker class should keep data attributes for the following information:\n",
    "\n",
    "Shift number (an integer, such as 1, 2, or 3)\n",
    "Hourly pay rate\n",
    "The workday is divided into two shifts: day and night. The shift attribute will hold an integer value representing the shift that the employee works. The day shift is shift 1 and the night shift is shift 2. Write the appropriate accessor and mutator methods for each class.\n",
    "\n",
    "Once you have written the classes, write a program that creates an object of the ProductionWorker class and prompts the user to enter data for each of the object’s data attributes. Store the data in the object, then use the object’s accessor methods to retrieve it and display it on the screen."
   ]
  },
  {
   "cell_type": "code",
   "execution_count": 23,
   "id": "722bfa11",
   "metadata": {},
   "outputs": [
    {
     "name": "stdout",
     "output_type": "stream",
     "text": [
      "Enter the employee name: John Smith\n",
      "Enter the employee number: 987654\n",
      "Enter the shift number: 2\n",
      "Enter the hourly pay rate: 21.75\n",
      "\n",
      "Employee Information:\n",
      "The employee name is John Smith\n",
      "The employee number is 987654\n",
      "The shift number is 2\n",
      "The hourly pay rate is 21.75\n"
     ]
    }
   ],
   "source": [
    "#Create class named Employee\n",
    "class Employee:\n",
    "    #Initialize class attributes\n",
    "    def __init__(self, name, number):\n",
    "        self._name = name\n",
    "        self._number = number\n",
    "\n",
    "    #Use accessor method\n",
    "    def get_name(self):\n",
    "        return self._name\n",
    "\n",
    "    def get_number(self):\n",
    "        return self._number\n",
    "\n",
    "    #Use mutator method\n",
    "    def set_name(self, name):\n",
    "        self._name = name\n",
    "\n",
    "    def set_number(self, number):\n",
    "        self._number = number\n",
    "        \n",
    "#Create superclass named ProductionWorker\n",
    "class ProductionWorker(Employee):\n",
    "    #Initialize superclass attributes\n",
    "    def __init__(self, name, number, shift, pay_rate):\n",
    "        super().__init__(name, number)\n",
    "        self._shift = shift\n",
    "        self._pay_rate = pay_rate\n",
    "        \n",
    "    #Use accessor method\n",
    "    def get_shift(self):\n",
    "        return self._shift\n",
    "    def get_pay_rate(self):\n",
    "        return self._pay_rate\n",
    "    \n",
    "    #Use mutator method\n",
    "    def set_shift(self, shift):\n",
    "        self._shift = shift\n",
    "    def set_pay_rate(self, pay_rate):\n",
    "        self._pay_rate = pay_rate\n",
    "\n",
    "#Create main function\n",
    "def main():\n",
    "    #Ask the user to input the employee data\n",
    "    name = input('Enter the employee name: ')\n",
    "    number = input('Enter the employee number: ')\n",
    "    shift = int(input('Enter the shift number: '))\n",
    "    pay_rate = float(input('Enter the hourly pay rate: '))\n",
    "\n",
    "    #Create object from ProductionWorker class\n",
    "    worker = ProductionWorker(name, number, shift, pay_rate)\n",
    "\n",
    "    #Display the employee data from the object\n",
    "    print('\\nEmployee Information:')\n",
    "    print('The employee name is', worker.get_name())\n",
    "    print('The employee number is', worker.get_number())\n",
    "    print('The shift number is', worker.get_shift())\n",
    "    print('The hourly pay rate is', worker.get_pay_rate())\n",
    "\n",
    "#Call the main function\n",
    "main()"
   ]
  },
  {
   "cell_type": "markdown",
   "id": "0b936700",
   "metadata": {},
   "source": [
    "Notes"
   ]
  },
  {
   "cell_type": "markdown",
   "id": "401726c3",
   "metadata": {},
   "source": [
    "## Programming Exercises - Problem 3"
   ]
  },
  {
   "cell_type": "markdown",
   "id": "1766d018",
   "metadata": {},
   "source": [
    "Write a class named Person with data attributes for a person’s name, address, and telephone number. Next, write a class named Customer that is a subclass of the Person class. The Customer class should have a data attribute for a customer number, and a Boolean data attribute indicating whether the customer wishes to be on a mailing list. Demonstrate an instance of the Customer class in a simple program."
   ]
  },
  {
   "cell_type": "code",
   "execution_count": 3,
   "id": "a5eb7711",
   "metadata": {},
   "outputs": [
    {
     "name": "stdout",
     "output_type": "stream",
     "text": [
      "Enter the customer nameJohn Doe\n",
      "Enter the customer phone number517-555-5555\n",
      "Enter the customer identification number1236589\n"
     ]
    },
    {
     "ename": "NameError",
     "evalue": "name 'customer' is not defined",
     "output_type": "error",
     "traceback": [
      "\u001b[1;31m---------------------------------------------------------------------------\u001b[0m",
      "\u001b[1;31mNameError\u001b[0m                                 Traceback (most recent call last)",
      "Cell \u001b[1;32mIn[3], line 66\u001b[0m\n\u001b[0;32m     63\u001b[0m     \u001b[38;5;28mprint\u001b[39m(\u001b[38;5;124m'\u001b[39m\u001b[38;5;124mIs this customer on the mailing list?:\u001b[39m\u001b[38;5;124m'\u001b[39m, my_customer\u001b[38;5;241m.\u001b[39mget_mailing_list())\n\u001b[0;32m     65\u001b[0m \u001b[38;5;66;03m#Call the main function\u001b[39;00m\n\u001b[1;32m---> 66\u001b[0m main()\n",
      "Cell \u001b[1;32mIn[3], line 56\u001b[0m, in \u001b[0;36mmain\u001b[1;34m()\u001b[0m\n\u001b[0;32m     53\u001b[0m mailing \u001b[38;5;241m=\u001b[39m (\u001b[38;5;124m'\u001b[39m\u001b[38;5;124mIs this customer included on the mailing list?\u001b[39m\u001b[38;5;124m'\u001b[39m)\n\u001b[0;32m     55\u001b[0m \u001b[38;5;66;03m#Create object from Customer class\u001b[39;00m\n\u001b[1;32m---> 56\u001b[0m my_customer \u001b[38;5;241m=\u001b[39m customer\u001b[38;5;241m.\u001b[39mCustomer(name, address, phone, customer_number, mailing_list)\n\u001b[0;32m     58\u001b[0m \u001b[38;5;66;03m#Display object attributes\u001b[39;00m\n\u001b[0;32m     59\u001b[0m \u001b[38;5;28mprint\u001b[39m(\u001b[38;5;124m'\u001b[39m\u001b[38;5;124mName:\u001b[39m\u001b[38;5;124m'\u001b[39m, my_customer\u001b[38;5;241m.\u001b[39mget_name())\n",
      "\u001b[1;31mNameError\u001b[0m: name 'customer' is not defined"
     ]
    }
   ],
   "source": [
    "#Create class named Person\n",
    "class Person:\n",
    "    #Initialize the class\n",
    "    def __init__(self, name, address, phone):\n",
    "        self._name = name\n",
    "        self._address = address\n",
    "        self._phone = phone\n",
    "        \n",
    "    #Use accessor method\n",
    "    def get_name(self):\n",
    "        return self._name\n",
    "    def get_address(self):\n",
    "        return self._address\n",
    "    def get_phone(self):\n",
    "        return self._phone\n",
    "    \n",
    "    #Use mutator method\n",
    "    def set_name(self, name):\n",
    "        self._name = name\n",
    "    def set_address(self, address):\n",
    "        self._address = address\n",
    "    def set_phone(self, phone):\n",
    "        self._phone = phone\n",
    "    \n",
    "#Create superclass named Customer\n",
    "class Customer(Person):\n",
    "    #Initialize the superclass\n",
    "    def __init__(self, name, address, phone, customer_number, mailing_list):\n",
    "        Person.__init__(self, name, address, phone)\n",
    "        \n",
    "        #Initialize the attributes\n",
    "        self._customer_number = customer_number\n",
    "        self._mailing_list = mailing_list\n",
    "        \n",
    "    #Use accessor method\n",
    "    def get_customer_number(self):\n",
    "        return self._customer_number\n",
    "    def get_mailing_list(self):\n",
    "        return self._mailing_list\n",
    "    \n",
    "    #Use mutator method\n",
    "    def set_customer_number(self, customer_number):\n",
    "        self._customer_number = customer_number\n",
    "    def set_mailing_list(self, mailing_list):\n",
    "        self._mailing_list = mailing_list\n",
    "        \n",
    "#Create main function\n",
    "def main():\n",
    "    #Ask user to input customer data\n",
    "    name = input('Enter the customer name')\n",
    "    phone =input('Enter the customer phone number')\n",
    "    customer_number = input('Enter the customer identification number')\n",
    "    mailing = ('Is this customer included on the mailing list?')\n",
    "    \n",
    "    #Create object from Customer class\n",
    "    my_customer = customer.Customer(name, address, phone, customer_number, mailing_list)\n",
    "\n",
    "    #Display object attributes\n",
    "    print('Name:', my_customer.get_name())\n",
    "    print('Address:', my_customer.get_address())\n",
    "    print('Phone:', my_customer.get_phone())\n",
    "    print('Customer Identification Number:', my_customer.get_customer_number())\n",
    "    print('Is this customer on the mailing list?:', my_customer.get_mailing_list())\n",
    "\n",
    "#Call the main function\n",
    "main()\n",
    "        "
   ]
  },
  {
   "cell_type": "code",
   "execution_count": null,
   "id": "3714f1f8",
   "metadata": {},
   "outputs": [],
   "source": []
  }
 ],
 "metadata": {
  "kernelspec": {
   "display_name": "Python 3 (ipykernel)",
   "language": "python",
   "name": "python3"
  },
  "language_info": {
   "codemirror_mode": {
    "name": "ipython",
    "version": 3
   },
   "file_extension": ".py",
   "mimetype": "text/x-python",
   "name": "python",
   "nbconvert_exporter": "python",
   "pygments_lexer": "ipython3",
   "version": "3.11.7"
  }
 },
 "nbformat": 4,
 "nbformat_minor": 5
}
