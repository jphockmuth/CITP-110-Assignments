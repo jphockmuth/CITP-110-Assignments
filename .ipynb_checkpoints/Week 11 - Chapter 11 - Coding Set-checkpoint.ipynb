{
 "cells": [
  {
   "cell_type": "markdown",
   "id": "7c20f221",
   "metadata": {},
   "source": [
    "# Coding Set - Chapter 11 (Week 11)"
   ]
  },
  {
   "cell_type": "markdown",
   "id": "0490f846",
   "metadata": {},
   "source": [
    "## Programming Exercises - Problem 1"
   ]
  },
  {
   "cell_type": "markdown",
   "id": "40c8043c",
   "metadata": {},
   "source": [
    "Write an Employee class that keeps data attributes for the following pieces of information:\n",
    "\n",
    "Employee name\n",
    "Employee number\n",
    "Next, write a class named ProductionWorker that is a subclass of the Employee class. The ProductionWorker class should keep data attributes for the following information:\n",
    "\n",
    "Shift number (an integer, such as 1, 2, or 3)\n",
    "Hourly pay rate\n",
    "The workday is divided into two shifts: day and night. The shift attribute will hold an integer value representing the shift that the employee works. The day shift is shift 1 and the night shift is shift 2. Write the appropriate accessor and mutator methods for each class.\n",
    "\n",
    "Once you have written the classes, write a program that creates an object of the ProductionWorker class and prompts the user to enter data for each of the object’s data attributes. Store the data in the object, then use the object’s accessor methods to retrieve it and display it on the screen."
   ]
  },
  {
   "cell_type": "code",
   "execution_count": 23,
   "id": "f59b65ce",
   "metadata": {},
   "outputs": [
    {
     "name": "stdout",
     "output_type": "stream",
     "text": [
      "Enter the employee name: John Smith\n",
      "Enter the employee number: 987654\n",
      "Enter the shift number: 2\n",
      "Enter the hourly pay rate: 21.75\n",
      "\n",
      "Employee Information:\n",
      "The employee name is John Smith\n",
      "The employee number is 987654\n",
      "The shift number is 2\n",
      "The hourly pay rate is 21.75\n"
     ]
    }
   ],
   "source": [
    "#Create class named Employee\n",
    "class Employee:\n",
    "    #Initialize class attributes\n",
    "    def __init__(self, name, number):\n",
    "        self._name = name\n",
    "        self._number = number\n",
    "\n",
    "    #Use accessor method\n",
    "    def get_name(self):\n",
    "        return self._name\n",
    "\n",
    "    def get_number(self):\n",
    "        return self._number\n",
    "\n",
    "    #Use mutator method\n",
    "    def set_name(self, name):\n",
    "        self._name = name\n",
    "\n",
    "    def set_number(self, number):\n",
    "        self._number = number\n",
    "        \n",
    "#Create superclass named ProductionWorker\n",
    "class ProductionWorker(Employee):\n",
    "    #Initialize superclass attributes\n",
    "    def __init__(self, name, number, shift, pay_rate):\n",
    "        super().__init__(name, number)\n",
    "        self._shift = shift\n",
    "        self._pay_rate = pay_rate\n",
    "        \n",
    "    #Use accessor method\n",
    "    def get_shift(self):\n",
    "        return self._shift\n",
    "    def get_pay_rate(self):\n",
    "        return self._pay_rate\n",
    "    \n",
    "    #Use mutator method\n",
    "    def set_shift(self, shift):\n",
    "        self._shift = shift\n",
    "    def set_pay_rate(self, pay_rate):\n",
    "        self._pay_rate = pay_rate\n",
    "\n",
    "#Create main function\n",
    "def main():\n",
    "    #Ask the user to input the employee data\n",
    "    name = input('Enter the employee name: ')\n",
    "    number = input('Enter the employee number: ')\n",
    "    shift = int(input('Enter the shift number: '))\n",
    "    pay_rate = float(input('Enter the hourly pay rate: '))\n",
    "\n",
    "    #Create object from ProductionWorker class\n",
    "    worker = ProductionWorker(name, number, shift, pay_rate)\n",
    "\n",
    "    #Display the employee data from the object\n",
    "    print('\\nEmployee Information:')\n",
    "    print('The employee name is', worker.get_name())\n",
    "    print('The employee number is', worker.get_number())\n",
    "    print('The shift number is', worker.get_shift())\n",
    "    print('The hourly pay rate is', worker.get_pay_rate())\n",
    "\n",
    "#Call the main function\n",
    "main()"
   ]
  },
  {
   "cell_type": "code",
   "execution_count": null,
   "id": "b2acebfc",
   "metadata": {},
   "outputs": [],
   "source": []
  }
 ],
 "metadata": {
  "kernelspec": {
   "display_name": "Python 3 (ipykernel)",
   "language": "python",
   "name": "python3"
  },
  "language_info": {
   "codemirror_mode": {
    "name": "ipython",
    "version": 3
   },
   "file_extension": ".py",
   "mimetype": "text/x-python",
   "name": "python",
   "nbconvert_exporter": "python",
   "pygments_lexer": "ipython3",
   "version": "3.11.7"
  }
 },
 "nbformat": 4,
 "nbformat_minor": 5
}
