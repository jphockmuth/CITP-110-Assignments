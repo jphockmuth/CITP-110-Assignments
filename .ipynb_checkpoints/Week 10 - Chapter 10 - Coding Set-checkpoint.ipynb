{
 "cells": [
  {
   "cell_type": "markdown",
   "id": "8cc77823",
   "metadata": {},
   "source": [
    "# Coding Set - Chapter 10 (Week 10)"
   ]
  },
  {
   "cell_type": "markdown",
   "id": "91ffc4cd",
   "metadata": {},
   "source": [
    "## Programming Exercises - Problem 1"
   ]
  },
  {
   "cell_type": "markdown",
   "id": "0cc7e164",
   "metadata": {},
   "source": [
    "Write a class named Pet, which should have the following data attributes:\n",
    "\n",
    "__name (for the name of a pet)\n",
    "__animal_type (for the type of animal that a pet is. Example values are ‘Dog’, ‘Cat’,and ‘Bird’)\n",
    "__age (for the pet’s age)\n",
    "The Pet class should have an __init__ method that creates these attributes. It should also have the following methods:\n",
    "\n",
    "set_name\n",
    "This method assigns a value to the __name field.\n",
    "set_animal_type\n",
    "This method assigns a value to the __animal_type field.\n",
    "set_age\n",
    "This method assigns a value to the __age field.\n",
    "get_name\n",
    "This method returns the value of the __name field.\n",
    "get_animal_type\n",
    "This method returns the value of the __animal_type field.\n",
    "get_age\n",
    "This method returns the value of the __age field.\n",
    "Once you have written the class, write a program that creates an object of the class and prompts the user to enter the name, type, and age of his or her pet. This data should be stored as the object’s attributes. Use the object’s accessor methods to retrieve the pet’s name, type, and age and display this data on the screen."
   ]
  },
  {
   "cell_type": "code",
   "execution_count": 9,
   "id": "ef5b684c",
   "metadata": {},
   "outputs": [
    {
     "name": "stdout",
     "output_type": "stream",
     "text": [
      "What is the name of your pet? Winston\n",
      "What type of animal is your pet? Dog\n",
      "What is the age of your pet? 3\n",
      "Here is the information about your pet\n",
      "Pet name:  Winston\n",
      "Animal type:  Dog\n",
      "Age:  3\n"
     ]
    }
   ],
   "source": [
    "#Create class named Pet\n",
    "class Pet:\n",
    "    #Initialize the attributes for the class\n",
    "    def __init__(self, name, animal_type, age):\n",
    "        #Create variables\n",
    "        self.__name = name\n",
    "        self.__animal_type = animal_type\n",
    "        self.__age = age\n",
    "    \n",
    "    #Use set_name method to set name\n",
    "    def set_name(self, name):\n",
    "        self.__name = name\n",
    "    \n",
    "    #Use set_animal_type method to set type of pet\n",
    "    def set_animal_type(self,animal_type):\n",
    "        self.__animal_type = animal_type\n",
    "    \n",
    "    #Use set_age method to set age\n",
    "    def set_age(self, age):\n",
    "        self.__age = age\n",
    "    \n",
    "    #Use get_name method to return name of pet\n",
    "    def get_name(self):\n",
    "        return self.__name\n",
    "    \n",
    "    #Use get_animal_type to return animal type\n",
    "    def get_animal_type(self):\n",
    "        return self.__animal_type\n",
    "    \n",
    "    #Use get_age method to return pet's age\n",
    "    def get_age(self):\n",
    "        return self.__age\n",
    "    \n",
    "\n",
    "#Ask user to input the pet's attributes\n",
    "name = input('What is the name of your pet?')\n",
    "animal_type = input('What type of animal is your pet?')\n",
    "age = input('What is the age of your pet?')\n",
    "\n",
    "#Create an instance of the Pet class\n",
    "my_pet = Pet(name, animal_type, age)\n",
    "\n",
    "#Display the Pet's attributes\n",
    "print('Here is the information about your pet')\n",
    "print('Pet name:', my_pet.get_name())\n",
    "print('Animal type:', my_pet.get_animal_type())\n",
    "print('Age:', my_pet.get_age())"
   ]
  },
  {
   "cell_type": "markdown",
   "id": "9492447f",
   "metadata": {},
   "source": [
    "## Programming Exercises - Problem 3"
   ]
  },
  {
   "cell_type": "markdown",
   "id": "125cb4f7",
   "metadata": {},
   "source": [
    "Design a class that holds the following personal data: name, address, age, and phone number. Write appropriate accessor and mutator methods. Also, write a program that creates three instances of the class. Each instance should hold fictional information for a fake person. (For privacy purposes, do not store real personal information in your program.)"
   ]
  },
  {
   "cell_type": "code",
   "execution_count": null,
   "id": "a715c1ab",
   "metadata": {},
   "outputs": [],
   "source": []
  }
 ],
 "metadata": {
  "kernelspec": {
   "display_name": "Python 3 (ipykernel)",
   "language": "python",
   "name": "python3"
  },
  "language_info": {
   "codemirror_mode": {
    "name": "ipython",
    "version": 3
   },
   "file_extension": ".py",
   "mimetype": "text/x-python",
   "name": "python",
   "nbconvert_exporter": "python",
   "pygments_lexer": "ipython3",
   "version": "3.11.7"
  }
 },
 "nbformat": 4,
 "nbformat_minor": 5
}
