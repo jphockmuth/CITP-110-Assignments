{
 "cells": [
  {
   "cell_type": "markdown",
   "id": "b99d5f42",
   "metadata": {},
   "source": [
    "# Coding Set - Chapter 10 (Week 10)"
   ]
  },
  {
   "cell_type": "markdown",
   "id": "0ee8ca47",
   "metadata": {},
   "source": [
    "## Programming Exercises - Problem 1"
   ]
  },
  {
   "cell_type": "markdown",
   "id": "7199cdfb",
   "metadata": {},
   "source": [
    "Write a class named Pet, which should have the following data attributes:\n",
    "\n",
    "__name (for the name of a pet)\n",
    "__animal_type (for the type of animal that a pet is. Example values are ‘Dog’, ‘Cat’,and ‘Bird’)\n",
    "__age (for the pet’s age)\n",
    "The Pet class should have an __init__ method that creates these attributes. It should also have the following methods:\n",
    "\n",
    "set_name\n",
    "This method assigns a value to the __name field.\n",
    "set_animal_type\n",
    "This method assigns a value to the __animal_type field.\n",
    "set_age\n",
    "This method assigns a value to the __age field.\n",
    "get_name\n",
    "This method returns the value of the __name field.\n",
    "get_animal_type\n",
    "This method returns the value of the __animal_type field.\n",
    "get_age\n",
    "This method returns the value of the __age field.\n",
    "Once you have written the class, write a program that creates an object of the class and prompts the user to enter the name, type, and age of his or her pet. This data should be stored as the object’s attributes. Use the object’s accessor methods to retrieve the pet’s name, type, and age and display this data on the screen."
   ]
  },
  {
   "cell_type": "code",
   "execution_count": 9,
   "id": "3ba9e657",
   "metadata": {},
   "outputs": [
    {
     "name": "stdout",
     "output_type": "stream",
     "text": [
      "What is the name of your pet? Winston\n",
      "What type of animal is your pet? Dog\n",
      "What is the age of your pet? 3\n",
      "Here is the information about your pet\n",
      "Pet name:  Winston\n",
      "Animal type:  Dog\n",
      "Age:  3\n"
     ]
    }
   ],
   "source": [
    "#Create class named Pet\n",
    "class Pet:\n",
    "    #Initialize the attributes for the class\n",
    "    def __init__(self, name, animal_type, age):\n",
    "        #Create variables\n",
    "        self.__name = name\n",
    "        self.__animal_type = animal_type\n",
    "        self.__age = age\n",
    "    \n",
    "    #Use set_name method to set name\n",
    "    def set_name(self, name):\n",
    "        self.__name = name\n",
    "    \n",
    "    #Use set_animal_type method to set type of pet\n",
    "    def set_animal_type(self,animal_type):\n",
    "        self.__animal_type = animal_type\n",
    "    \n",
    "    #Use set_age method to set age\n",
    "    def set_age(self, age):\n",
    "        self.__age = age\n",
    "    \n",
    "    #Use get_name method to return name of pet\n",
    "    def get_name(self):\n",
    "        return self.__name\n",
    "    \n",
    "    #Use get_animal_type to return animal type\n",
    "    def get_animal_type(self):\n",
    "        return self.__animal_type\n",
    "    \n",
    "    #Use get_age method to return pet's age\n",
    "    def get_age(self):\n",
    "        return self.__age\n",
    "    \n",
    "\n",
    "#Ask user to input the pet's attributes\n",
    "name = input('What is the name of your pet?')\n",
    "animal_type = input('What type of animal is your pet?')\n",
    "age = input('What is the age of your pet?')\n",
    "\n",
    "#Create an instance of the Pet class\n",
    "my_pet = Pet(name, animal_type, age)\n",
    "\n",
    "#Display the Pet's attributes\n",
    "print('Here is the information about your pet')\n",
    "print('Pet name:', my_pet.get_name())\n",
    "print('Animal type:', my_pet.get_animal_type())\n",
    "print('Age:', my_pet.get_age())"
   ]
  },
  {
   "cell_type": "markdown",
   "id": "8883e946",
   "metadata": {},
   "source": [
    "## Programming Exercises - Problem 3"
   ]
  },
  {
   "cell_type": "markdown",
   "id": "b3858d4a",
   "metadata": {},
   "source": [
    "Design a class that holds the following personal data: name, address, age, and phone number. Write appropriate accessor and mutator methods. Also, write a program that creates three instances of the class. Each instance should hold fictional information for a fake person. (For privacy purposes, do not store real personal information in your program.)"
   ]
  },
  {
   "cell_type": "code",
   "execution_count": null,
   "id": "3ac59929",
   "metadata": {},
   "outputs": [],
   "source": [
    "#Create person class\n",
    "class Person:\n",
    "    #Initialiaze attributes for the class\n",
    "    def __init__(self, name, address, age, phone_number):\n",
    "        #Create variables\n",
    "        self.__name = name\n",
    "        self.__address = address\n",
    "        self.__age = age\n",
    "        self.__phone_number = phone_number\n",
    "    #Use set method to set attributes\n",
    "    def set_name(self, name):\n",
    "        self.__name = name\n",
    "    def set_address(self, address):\n",
    "        self.__address = address\n",
    "    def set_age(self, age):\n",
    "        self.__age = age\n",
    "    def set_phone_number(self, phone_number):\n",
    "        self.__phone_number = phone_number\n",
    "\n",
    "    #Use get method to return attributes\n",
    "    def get_name(self):\n",
    "        return self.__name\n",
    "    def get_address(self):\n",
    "        return self.__address\n",
    "    def get_age(self):\n",
    "        return self.__age\n",
    "    def get_phone_number(self):\n",
    "        return self.__phone_number\n",
    "\n",
    "#Create main function to call\n",
    "def main():\n",
    "    #Create three persons and their attributes\n",
    "    person1 = Person('Steve Smith', '100 W Michigan Ave', '30', '867-5309')\n",
    "    person2 = Person('Jane Doe', '1234 Main Ave', '54', '123-4567')\n",
    "    person3 = Person('John Doe', '234 Maple St', '23', '432-8604')"
   ]
  }
 ],
 "metadata": {
  "kernelspec": {
   "display_name": "Python 3 (ipykernel)",
   "language": "python",
   "name": "python3"
  },
  "language_info": {
   "codemirror_mode": {
    "name": "ipython",
    "version": 3
   },
   "file_extension": ".py",
   "mimetype": "text/x-python",
   "name": "python",
   "nbconvert_exporter": "python",
   "pygments_lexer": "ipython3",
   "version": "3.11.7"
  }
 },
 "nbformat": 4,
 "nbformat_minor": 5
}
