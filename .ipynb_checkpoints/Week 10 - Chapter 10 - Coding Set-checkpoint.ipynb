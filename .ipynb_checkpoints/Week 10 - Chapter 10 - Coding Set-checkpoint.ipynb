{
 "cells": [
  {
   "cell_type": "markdown",
   "id": "42b187e9",
   "metadata": {},
   "source": [
    "# Coding Set - Chapter 10 (Week 10)"
   ]
  },
  {
   "cell_type": "markdown",
   "id": "98fc84fe",
   "metadata": {},
   "source": [
    "## Programming Exercises - Problem 1"
   ]
  },
  {
   "cell_type": "markdown",
   "id": "b9936d9f",
   "metadata": {},
   "source": [
    "Write a class named Pet, which should have the following data attributes:\n",
    "\n",
    "__name (for the name of a pet)\n",
    "__animal_type (for the type of animal that a pet is. Example values are ‘Dog’, ‘Cat’,and ‘Bird’)\n",
    "__age (for the pet’s age)\n",
    "The Pet class should have an __init__ method that creates these attributes. It should also have the following methods:\n",
    "\n",
    "set_name\n",
    "This method assigns a value to the __name field.\n",
    "set_animal_type\n",
    "This method assigns a value to the __animal_type field.\n",
    "set_age\n",
    "This method assigns a value to the __age field.\n",
    "get_name\n",
    "This method returns the value of the __name field.\n",
    "get_animal_type\n",
    "This method returns the value of the __animal_type field.\n",
    "get_age\n",
    "This method returns the value of the __age field.\n",
    "Once you have written the class, write a program that creates an object of the class and prompts the user to enter the name, type, and age of his or her pet. This data should be stored as the object’s attributes. Use the object’s accessor methods to retrieve the pet’s name, type, and age and display this data on the screen."
   ]
  },
  {
   "cell_type": "code",
   "execution_count": null,
   "id": "0b318e46",
   "metadata": {},
   "outputs": [],
   "source": [
    "#Create class named Pet\n",
    "class Pet:\n",
    "    #Initialize the attributes for the class\n",
    "    def __init__(self, name, animal_type, age):\n",
    "        #Create variables\n",
    "        self.__name = name\n",
    "        self.__animal_type = animal_type\n",
    "        self.__age = age\n",
    "    \n",
    "    #Use set_name method to set name\n",
    "    def set_name(self, name):\n",
    "        self.__name = name"
   ]
  },
  {
   "cell_type": "markdown",
   "id": "f4d3b4d3",
   "metadata": {},
   "source": [
    "## Programming Exercises - Problem 3"
   ]
  },
  {
   "cell_type": "markdown",
   "id": "bd5dfa96",
   "metadata": {},
   "source": [
    "Design a class that holds the following personal data: name, address, age, and phone number. Write appropriate accessor and mutator methods. Also, write a program that creates three instances of the class. Each instance should hold fictional information for a fake person. (For privacy purposes, do not store real personal information in your program.)"
   ]
  },
  {
   "cell_type": "code",
   "execution_count": null,
   "id": "14d3da52",
   "metadata": {},
   "outputs": [],
   "source": []
  }
 ],
 "metadata": {
  "kernelspec": {
   "display_name": "Python 3 (ipykernel)",
   "language": "python",
   "name": "python3"
  },
  "language_info": {
   "codemirror_mode": {
    "name": "ipython",
    "version": 3
   },
   "file_extension": ".py",
   "mimetype": "text/x-python",
   "name": "python",
   "nbconvert_exporter": "python",
   "pygments_lexer": "ipython3",
   "version": "3.11.7"
  }
 },
 "nbformat": 4,
 "nbformat_minor": 5
}
