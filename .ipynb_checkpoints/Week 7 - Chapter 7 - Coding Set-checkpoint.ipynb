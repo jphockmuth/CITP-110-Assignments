{
 "cells": [
  {
   "cell_type": "markdown",
   "id": "9f69d6c6",
   "metadata": {},
   "source": [
    "# Coding Set - Chapter 7 (Week 7)"
   ]
  },
  {
   "cell_type": "markdown",
   "id": "ebf6bfec",
   "metadata": {},
   "source": [
    "## Algorithm Workbench - Problem 1"
   ]
  },
  {
   "cell_type": "markdown",
   "id": "c50e8c8b",
   "metadata": {},
   "source": [
    "Write a statement that creates a list with the following strings: 'Einstein', 'Newton', 'Copernicus', and 'Kepler'."
   ]
  },
  {
   "cell_type": "code",
   "execution_count": 4,
   "id": "280e174f",
   "metadata": {},
   "outputs": [
    {
     "name": "stdout",
     "output_type": "stream",
     "text": [
      "['Einstein', 'Newton', 'Copernicus', 'Kepler']\n"
     ]
    }
   ],
   "source": [
    "#Use list command to create list of items\n",
    "list = ['Einstein', 'Newton', 'Copernicus', 'Kepler']\n",
    "#Use print command to display list \n",
    "print(list)"
   ]
  },
  {
   "cell_type": "markdown",
   "id": "d891a158",
   "metadata": {},
   "source": [
    "For this problem, I used the list command to create a list of strings. It's important to remember to use quotations so the program knows that the text are strings, not variables to be called. I then used the print command to verify functionality."
   ]
  },
  {
   "cell_type": "markdown",
   "id": "83613bcf",
   "metadata": {},
   "source": [
    "## Algorithm Workbench - Problem 2"
   ]
  },
  {
   "cell_type": "markdown",
   "id": "f8fa0c6f",
   "metadata": {},
   "source": [
    "Assume names references a list. Write a for loop that displays each element of the list."
   ]
  },
  {
   "cell_type": "code",
   "execution_count": 8,
   "id": "97f5fcbb",
   "metadata": {},
   "outputs": [
    {
     "name": "stdout",
     "output_type": "stream",
     "text": [
      "John\n",
      "Jane\n",
      "Robert\n",
      "Allison\n"
     ]
    }
   ],
   "source": [
    "#Create list \"names\"\n",
    "names = list = ['John', 'Jane', 'Robert', 'Allison']\n",
    "#Use for loop to display each element\n",
    "for element in names:\n",
    "    print(element)"
   ]
  },
  {
   "cell_type": "markdown",
   "id": "9b450ff7",
   "metadata": {},
   "source": [
    "This problem was quite similar to the one above. I began by defining \"names\" as a list of random names. I then created a for loop that would print each element in the list until it reached the end of the list. Code functions properly."
   ]
  },
  {
   "cell_type": "markdown",
   "id": "219c8fbe",
   "metadata": {},
   "source": [
    "## Programming Exercises - Problem 1"
   ]
  },
  {
   "cell_type": "markdown",
   "id": "0110dbb2",
   "metadata": {},
   "source": [
    "Design a program that asks the user to enter a store’s sales for each day of the week. The amounts should be stored in a list. Use a loop to calculate the total sales for the week and display the result."
   ]
  },
  {
   "cell_type": "code",
   "execution_count": 13,
   "id": "53575787",
   "metadata": {},
   "outputs": [
    {
     "name": "stdout",
     "output_type": "stream",
     "text": [
      "Please enter the sales for day 1: 2500.00\n",
      "Please enter the sales for day 2: 4350.50\n",
      "Please enter the sales for day 3: 3575.00\n",
      "Please enter the sales for day 4: 1995.95\n",
      "Please enter the sales for day 5: 5150.00\n",
      "Please enter the sales for day 6: 6250.50\n",
      "Please enter the sales for day 7: 4800.00\n",
      "The weekly sales amount is $ 28621.95\n"
     ]
    }
   ],
   "source": [
    "#Create main function\n",
    "def main():\n",
    "    \n",
    "    #Create daily sales list\n",
    "    daily_sales= list = []\n",
    "    #Create weekly sales accumulator\n",
    "    weekly_sales= 0.00\n",
    "    \n",
    "    #Create for loop for 7 days\n",
    "    for day in range(7):\n",
    "        #Ask user to input sales for each day using f string\n",
    "        sales =float(input(f'Please enter the sales for day {day+1}: '))\n",
    "        #Append sales variable to the daily_sales list\n",
    "        daily_sales.append(sales)\n",
    "        \n",
    "    #Create for loop to calculate weekly sales\n",
    "    for sale in daily_sales:\n",
    "        #Use augmented assignment operator to calculate sales\n",
    "        weekly_sales += sale\n",
    "        \n",
    "    #Display the weekly sales amount\n",
    "    print('The weekly sales amount is', '$', weekly_sales)\n",
    "main()"
   ]
  },
  {
   "cell_type": "markdown",
   "id": "6b60ef54",
   "metadata": {},
   "source": [
    "For this problem, I started by creating a main function, a daily_sales list, and weekly_sales as an accumulator. I then used a for loop that repeats 7 times to ask the user to enter the sales for each day. I then used the append command to add each day's sales to the list. I then created an additional for loop that added each day's sales together using an augmented assignment operator. Finally, I used the print command to display the total weekly sales amount."
   ]
  },
  {
   "cell_type": "markdown",
   "id": "45222e09",
   "metadata": {},
   "source": [
    "## Programming Exercises - Problem 2"
   ]
  },
  {
   "cell_type": "markdown",
   "id": "82627e3a",
   "metadata": {},
   "source": [
    "Design a program that generates a seven-digit lottery number. The program should generate seven random numbers, each in the range of 0 through 9, and assign each number to a list element. (Random numbers were discussed in Chapter 5.) Then write another loop that displays the contents of the list."
   ]
  },
  {
   "cell_type": "code",
   "execution_count": 17,
   "id": "c0b6897f",
   "metadata": {},
   "outputs": [
    {
     "name": "stdout",
     "output_type": "stream",
     "text": [
      "Here are the lottery numbers:\n",
      "0466649"
     ]
    }
   ],
   "source": [
    "#Import random module\n",
    "import random\n",
    "\n",
    "#Create named constants\n",
    "max_digits = 7\n",
    "low = 0\n",
    "high = 9\n",
    "\n",
    "#Create main function\n",
    "def main():\n",
    "    #Create list\n",
    "    numbers = [0] * 7\n",
    "    \n",
    "    #Use for loop to build list with random numbers using randint command\n",
    "    for index in range(max_digits):\n",
    "        numbers[index] = random.randint (low, high)\n",
    "    #Display the random numbers using for loop\n",
    "    print('Here are the lottery numbers:')\n",
    "    for index in range(max_digits):\n",
    "        print(numbers[index], end='')\n",
    "#Call the main function   \n",
    "main()"
   ]
  },
  {
   "cell_type": "markdown",
   "id": "e7dc3cf3",
   "metadata": {},
   "source": [
    "For this problem, I began by importing the random module to the code. I then created the necessary named constants to define the ranges for this program. I then created the main function and the numbers list, specifying for the list to repeat until it contains 7 numbers. I then used a for loop and the randint command to build the list with random numbers. Finally, I used an additional for loop and the print command to display the random numbers."
   ]
  },
  {
   "cell_type": "markdown",
   "id": "4cfa5c90",
   "metadata": {},
   "source": [
    "## Programming Exercises - Problem 6"
   ]
  },
  {
   "cell_type": "markdown",
   "id": "1cd2cf38",
   "metadata": {},
   "source": [
    "In a program, write a function that accepts two arguments: a list, and a number n. Assume that the list contains numbers. The function should display all of the numbers in the list that are greater than the number n."
   ]
  },
  {
   "cell_type": "code",
   "execution_count": 22,
   "id": "b36dcf4f",
   "metadata": {},
   "outputs": [
    {
     "name": "stdout",
     "output_type": "stream",
     "text": [
      "13 is greater than n\n",
      "21 is greater than n\n",
      "24 is greater than n\n",
      "27 is greater than n\n",
      "28 is greater than n\n"
     ]
    }
   ],
   "source": [
    "#Create list and 'n' variable\n",
    "num_list = [1, 3, 6, 8, 9, 13, 21, 24, 27, 28]\n",
    "n = 10\n",
    "\n",
    "#Create main function\n",
    "def main():\n",
    "    #Create for loop\n",
    "    for number in num_list:\n",
    "        #Use if command to verify which numbers are greater than n\n",
    "        if number > n:\n",
    "            print (number, 'is greater than n')\n",
    "#Call main function\n",
    "main()"
   ]
  },
  {
   "cell_type": "markdown",
   "id": "35b44190",
   "metadata": {},
   "source": [
    "For this problem, I created a list of numbers, and then created a value 'n' that can be changed to any number. I then created the main function, and used a for loop with an if command to check if each number in the list is greater than n. Finally, I used the print command to display each number that was greater than n."
   ]
  },
  {
   "cell_type": "markdown",
   "id": "2be53da9",
   "metadata": {},
   "source": [
    "## Programming Exercises - Problem 14"
   ]
  },
  {
   "cell_type": "markdown",
   "id": "15f45b5a",
   "metadata": {},
   "source": [
    "Create a text file that contains your expenses for last month in the following categories:\n",
    "\n",
    "* Rent\n",
    "* Gas\n",
    "* Food\n",
    "* Clothing\n",
    "* Car payment\n",
    "* Misc\n",
    "\n",
    "Write a Python program that reads the data from the file and uses matplotlib to plot a pie chart showing how you spend your money."
   ]
  },
  {
   "cell_type": "code",
   "execution_count": 33,
   "id": "b8255358",
   "metadata": {},
   "outputs": [
    {
     "data": {
      "image/png": "[encoded data removed]",
      "text/plain": [
       "<Figure size 640x480 with 1 Axes>"
      ]
     },
     "metadata": {},
     "output_type": "display_data"
    }
   ],
   "source": [
    "#Import matplotlib\n",
    "import matplotlib.pyplot as plt\n",
    "\n",
    "#Create main function\n",
    "def main():\n",
    "    #Open expense file\n",
    "    with open('expenses.txt') as expenses_file:\n",
    "        #Create list using the expenses in the file\n",
    "        expenses = expenses_file.readlines()\n",
    "        #Use for loop to apply this to all expenses\n",
    "        for i in range(len(expenses)):\n",
    "            #Remove newline characters from each expense\n",
    "            expenses[i] = expenses[i].strip()\n",
    "        #Create list for pie slices\n",
    "        slice_labels = ['Rent', 'Gas', 'Food', 'Clothing', 'Car Payment', 'Misc']\n",
    "        #Create pie chart with from slice labels\n",
    "        plt.pie(expenses, labels=slice_labels)\n",
    "        plt.show()\n",
    "        \n",
    "main()"
   ]
  },
  {
   "cell_type": "code",
   "execution_count": null,
   "id": "d4ec1ca0",
   "metadata": {},
   "outputs": [],
   "source": []
  }
 ],
 "metadata": {
  "kernelspec": {
   "display_name": "Python 3 (ipykernel)",
   "language": "python",
   "name": "python3"
  },
  "language_info": {
   "codemirror_mode": {
    "name": "ipython",
    "version": 3
   },
   "file_extension": ".py",
   "mimetype": "text/x-python",
   "name": "python",
   "nbconvert_exporter": "python",
   "pygments_lexer": "ipython3",
   "version": "3.11.7"
  }
 },
 "nbformat": 4,
 "nbformat_minor": 5
}
