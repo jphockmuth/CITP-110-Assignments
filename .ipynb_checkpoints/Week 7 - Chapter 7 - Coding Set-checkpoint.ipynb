{
 "cells": [
  {
   "cell_type": "markdown",
   "id": "bfdbc305",
   "metadata": {},
   "source": [
    "# Coding Set - Chapter 7 (Week 7)"
   ]
  },
  {
   "cell_type": "markdown",
   "id": "c0d2594a",
   "metadata": {},
   "source": [
    "## Algorithm Workbench - Problem 1"
   ]
  },
  {
   "cell_type": "markdown",
   "id": "0a751b82",
   "metadata": {},
   "source": [
    "Write a statement that creates a list with the following strings: 'Einstein', 'Newton', 'Copernicus', and 'Kepler'."
   ]
  },
  {
   "cell_type": "code",
   "execution_count": 4,
   "id": "ddba7344",
   "metadata": {},
   "outputs": [
    {
     "name": "stdout",
     "output_type": "stream",
     "text": [
      "['Einstein', 'Newton', 'Copernicus', 'Kepler']\n"
     ]
    }
   ],
   "source": [
    "#Use list command to create list of items\n",
    "list = ['Einstein', 'Newton', 'Copernicus', 'Kepler']\n",
    "#Use print command to display list \n",
    "print(list)"
   ]
  },
  {
   "cell_type": "markdown",
   "id": "c67f794a",
   "metadata": {},
   "source": [
    "For this problem, I used the list command to create a list of strings. It's important to remember to use quotations so the program knows that the text are strings, not variables to be called. I then used the print command to verify functionality."
   ]
  },
  {
   "cell_type": "markdown",
   "id": "833b62a3",
   "metadata": {},
   "source": [
    "## Algorithm Workbench - Problem 2"
   ]
  },
  {
   "cell_type": "markdown",
   "id": "69f801fb",
   "metadata": {},
   "source": [
    "Assume names references a list. Write a for loop that displays each element of the list."
   ]
  },
  {
   "cell_type": "code",
   "execution_count": 6,
   "id": "80a8c082",
   "metadata": {},
   "outputs": [
    {
     "ename": "SyntaxError",
     "evalue": "expected ':' (1343475436.py, line 4)",
     "output_type": "error",
     "traceback": [
      "\u001b[1;36m  Cell \u001b[1;32mIn[6], line 4\u001b[1;36m\u001b[0m\n\u001b[1;33m    for element in names\u001b[0m\n\u001b[1;37m                        ^\u001b[0m\n\u001b[1;31mSyntaxError\u001b[0m\u001b[1;31m:\u001b[0m expected ':'\n"
     ]
    }
   ],
   "source": [
    "#Create list \"names\"\n",
    "names = list = ['John', 'Jane', 'Robert,' 'Allison']\n",
    "#Use for loop to display each element\n",
    "for element in names\n",
    "    print(element)\n",
    "\n"
   ]
  },
  {
   "cell_type": "markdown",
   "id": "fac77abb",
   "metadata": {},
   "source": [
    "## Programming Exercises - Problem 1"
   ]
  },
  {
   "cell_type": "markdown",
   "id": "c4a4c15f",
   "metadata": {},
   "source": [
    "Design a program that asks the user to enter a store’s sales for each day of the week. The amounts should be stored in a list. Use a loop to calculate the total sales for the week and display the result."
   ]
  },
  {
   "cell_type": "code",
   "execution_count": null,
   "id": "94b0ff4a",
   "metadata": {},
   "outputs": [],
   "source": []
  },
  {
   "cell_type": "markdown",
   "id": "e8a5e1e3",
   "metadata": {},
   "source": [
    "## Programming Exercises - Problem 2"
   ]
  },
  {
   "cell_type": "markdown",
   "id": "410a1f20",
   "metadata": {},
   "source": [
    "Design a program that generates a seven-digit lottery number. The program should generate seven random numbers, each in the range of 0 through 9, and assign each number to a list element. (Random numbers were discussed in Chapter 5.) Then write another loop that displays the contents of the list."
   ]
  },
  {
   "cell_type": "code",
   "execution_count": null,
   "id": "cf93341e",
   "metadata": {},
   "outputs": [],
   "source": []
  }
 ],
 "metadata": {
  "kernelspec": {
   "display_name": "Python 3 (ipykernel)",
   "language": "python",
   "name": "python3"
  },
  "language_info": {
   "codemirror_mode": {
    "name": "ipython",
    "version": 3
   },
   "file_extension": ".py",
   "mimetype": "text/x-python",
   "name": "python",
   "nbconvert_exporter": "python",
   "pygments_lexer": "ipython3",
   "version": "3.11.7"
  }
 },
 "nbformat": 4,
 "nbformat_minor": 5
}
