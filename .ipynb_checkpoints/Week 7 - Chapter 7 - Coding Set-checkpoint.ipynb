{
 "cells": [
  {
   "cell_type": "markdown",
   "id": "598452be",
   "metadata": {},
   "source": [
    "# Coding Set - Chapter 7 (Week 7)"
   ]
  },
  {
   "cell_type": "markdown",
   "id": "5bb81d76",
   "metadata": {},
   "source": [
    "## Algorithm Workbench - Problem 1"
   ]
  },
  {
   "cell_type": "markdown",
   "id": "2d1dec19",
   "metadata": {},
   "source": [
    "Write a statement that creates a list with the following strings: 'Einstein', 'Newton', 'Copernicus', and 'Kepler'."
   ]
  },
  {
   "cell_type": "code",
   "execution_count": 4,
   "id": "7dc6b310",
   "metadata": {},
   "outputs": [
    {
     "name": "stdout",
     "output_type": "stream",
     "text": [
      "['Einstein', 'Newton', 'Copernicus', 'Kepler']\n"
     ]
    }
   ],
   "source": [
    "#Use list command to create list of items\n",
    "list = ['Einstein', 'Newton', 'Copernicus', 'Kepler']\n",
    "#Use print command to display list \n",
    "print(list)"
   ]
  },
  {
   "cell_type": "markdown",
   "id": "7df64209",
   "metadata": {},
   "source": [
    "For this problem, I used the list command to create a list of strings. It's important to remember to use quotations so the program knows that the text are strings, not variables to be called. I then used the print command to verify functionality."
   ]
  },
  {
   "cell_type": "markdown",
   "id": "16f4bda1",
   "metadata": {},
   "source": [
    "## Algorithm Workbench - Problem 2"
   ]
  },
  {
   "cell_type": "markdown",
   "id": "32d01aa1",
   "metadata": {},
   "source": [
    "Assume names references a list. Write a for loop that displays each element of the list."
   ]
  },
  {
   "cell_type": "code",
   "execution_count": 8,
   "id": "d1e80953",
   "metadata": {},
   "outputs": [
    {
     "name": "stdout",
     "output_type": "stream",
     "text": [
      "John\n",
      "Jane\n",
      "Robert\n",
      "Allison\n"
     ]
    }
   ],
   "source": [
    "#Create list \"names\"\n",
    "names = list = ['John', 'Jane', 'Robert', 'Allison']\n",
    "#Use for loop to display each element\n",
    "for element in names:\n",
    "    print(element)"
   ]
  },
  {
   "cell_type": "markdown",
   "id": "c234d01f",
   "metadata": {},
   "source": [
    "This problem was quite similar to the one above. I began by defining \"names\" as a list of random names. I then created a for loop that would print each element in the list until it reached the end of the list. Code functions properly."
   ]
  },
  {
   "cell_type": "markdown",
   "id": "abbfa4a1",
   "metadata": {},
   "source": [
    "## Programming Exercises - Problem 1"
   ]
  },
  {
   "cell_type": "markdown",
   "id": "5b859600",
   "metadata": {},
   "source": [
    "Design a program that asks the user to enter a store’s sales for each day of the week. The amounts should be stored in a list. Use a loop to calculate the total sales for the week and display the result."
   ]
  },
  {
   "cell_type": "code",
   "execution_count": 11,
   "id": "9b1675a3",
   "metadata": {},
   "outputs": [],
   "source": [
    "#Create main function\n",
    "def main():\n",
    "    \n",
    "    #Create daily sales list\n",
    "    daily_sales= list = []\n",
    "    #Create weekly sales accumulator\n",
    "    weekly_sales= 0.00\n",
    "    \n",
    "    #Create for loop for 7 days\n",
    "    for day in range(7):\n",
    "        #Ask user to input sales for each day using f string\n",
    "        sales =float(input(f'Please enter the sales for day {day+1}: '))\n",
    "        #Append sales variable to the daily_sales list\n",
    "        daily_sales.append(sales)\n",
    "        \n",
    "    #Create for loop to calculate weekly sales\n",
    "    for sale in daily_sales:\n",
    "        #Use augmented assignment operator to calculate sales\n",
    "        weekly_sales += sale\n",
    "        \n",
    "    #Display the weekly sales amount\n",
    "    print('The weekly sales amount is', '$', sales)\n",
    "    "
   ]
  },
  {
   "cell_type": "markdown",
   "id": "25ff0efd",
   "metadata": {},
   "source": [
    "## Programming Exercises - Problem 2"
   ]
  },
  {
   "cell_type": "markdown",
   "id": "f308ed7a",
   "metadata": {},
   "source": [
    "Design a program that generates a seven-digit lottery number. The program should generate seven random numbers, each in the range of 0 through 9, and assign each number to a list element. (Random numbers were discussed in Chapter 5.) Then write another loop that displays the contents of the list."
   ]
  },
  {
   "cell_type": "code",
   "execution_count": null,
   "id": "f2be8448",
   "metadata": {},
   "outputs": [],
   "source": []
  }
 ],
 "metadata": {
  "kernelspec": {
   "display_name": "Python 3 (ipykernel)",
   "language": "python",
   "name": "python3"
  },
  "language_info": {
   "codemirror_mode": {
    "name": "ipython",
    "version": 3
   },
   "file_extension": ".py",
   "mimetype": "text/x-python",
   "name": "python",
   "nbconvert_exporter": "python",
   "pygments_lexer": "ipython3",
   "version": "3.11.7"
  }
 },
 "nbformat": 4,
 "nbformat_minor": 5
}
