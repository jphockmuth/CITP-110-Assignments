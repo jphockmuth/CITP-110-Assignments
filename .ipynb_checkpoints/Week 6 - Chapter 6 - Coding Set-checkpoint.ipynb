{
 "cells": [
  {
   "cell_type": "markdown",
   "id": "1cc0a681",
   "metadata": {},
   "source": [
    "# Coding Set - Chapter 6 (Week 6)"
   ]
  },
  {
   "cell_type": "markdown",
   "id": "2a9f39db",
   "metadata": {},
   "source": [
    "## Algorithm Workbench - Problem 1"
   ]
  },
  {
   "cell_type": "markdown",
   "id": "4cdd1787",
   "metadata": {},
   "source": [
    "Write a program that opens an output file with the filename my_name.txt, writes your name to the file, then closes the file. "
   ]
  },
  {
   "cell_type": "code",
   "execution_count": 4,
   "id": "78a1114a",
   "metadata": {},
   "outputs": [],
   "source": [
    "#Create main function\n",
    "def main():\n",
    "    #Use open function to open the file\n",
    "    my_name = open('my_name.txt', 'w')\n",
    "    #Use write method to write data into file as a string\n",
    "    my_name.write('Jared Hockmuth')\n",
    "    #Use object close method to close file\n",
    "    my_name.close()\n",
    "main()"
   ]
  },
  {
   "cell_type": "markdown",
   "id": "8ebe52cc",
   "metadata": {},
   "source": [
    "Notes Placeholder"
   ]
  },
  {
   "cell_type": "markdown",
   "id": "133c3705",
   "metadata": {},
   "source": [
    "## Algorithm Workbench - Problem 2"
   ]
  },
  {
   "cell_type": "markdown",
   "id": "7872d9e2",
   "metadata": {},
   "source": [
    "Write a program that opens the my_name.txt file that was created by the program in problem 1, reads your name from the file, displays the name on the screen, then closes the file."
   ]
  },
  {
   "cell_type": "code",
   "execution_count": null,
   "id": "ff213396",
   "metadata": {},
   "outputs": [],
   "source": [
    "#Create function to display name\n",
    "def read_name():\n",
    "    #Open the file in read mode and assign to my_name file variable\n",
    "    with open ('my_name.txt', 'r') as my_name"
   ]
  }
 ],
 "metadata": {
  "kernelspec": {
   "display_name": "Python 3 (ipykernel)",
   "language": "python",
   "name": "python3"
  },
  "language_info": {
   "codemirror_mode": {
    "name": "ipython",
    "version": 3
   },
   "file_extension": ".py",
   "mimetype": "text/x-python",
   "name": "python",
   "nbconvert_exporter": "python",
   "pygments_lexer": "ipython3",
   "version": "3.11.7"
  }
 },
 "nbformat": 4,
 "nbformat_minor": 5
}
