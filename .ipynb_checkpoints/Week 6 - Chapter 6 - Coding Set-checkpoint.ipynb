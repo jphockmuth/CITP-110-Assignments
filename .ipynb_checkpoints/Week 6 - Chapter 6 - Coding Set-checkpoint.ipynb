{
 "cells": [
  {
   "cell_type": "markdown",
   "id": "171ad46d",
   "metadata": {},
   "source": [
    "# Coding Set - Chapter 6 (Week 6)"
   ]
  },
  {
   "cell_type": "markdown",
   "id": "1568c0ae",
   "metadata": {},
   "source": [
    "## Algorithm Workbench - Problem 1"
   ]
  },
  {
   "cell_type": "markdown",
   "id": "05644adf",
   "metadata": {},
   "source": [
    "Write a program that opens an output file with the filename my_name.txt, writes your name to the file, then closes the file. "
   ]
  },
  {
   "cell_type": "code",
   "execution_count": 4,
   "id": "1e8c5e44",
   "metadata": {},
   "outputs": [],
   "source": [
    "#Create main function\n",
    "def main():\n",
    "    #Use open function to open the file\n",
    "    my_name = open('my_name.txt', 'w')\n",
    "    #Use write method to write data into file as a string\n",
    "    my_name.write('Jared Hockmuth')\n",
    "    #Use object close method to close file\n",
    "    my_name.close()\n",
    "#Call function\n",
    "main()"
   ]
  },
  {
   "cell_type": "markdown",
   "id": "e2a27da7",
   "metadata": {},
   "source": [
    "Notes Placeholder"
   ]
  },
  {
   "cell_type": "markdown",
   "id": "fe954bb1",
   "metadata": {},
   "source": [
    "## Algorithm Workbench - Problem 2"
   ]
  },
  {
   "cell_type": "markdown",
   "id": "902e547a",
   "metadata": {},
   "source": [
    "Write a program that opens the my_name.txt file that was created by the program in problem 1, reads your name from the file, displays the name on the screen, then closes the file."
   ]
  },
  {
   "cell_type": "code",
   "execution_count": 10,
   "id": "9fc82be6",
   "metadata": {
    "scrolled": true
   },
   "outputs": [
    {
     "name": "stdout",
     "output_type": "stream",
     "text": [
      "Your name is Jared Hockmuth\n"
     ]
    }
   ],
   "source": [
    "#Create function to display name\n",
    "def read_name():\n",
    "    #Open the file in read mode and assign to my_name file variable\n",
    "    with open ('my_name.txt', 'r') as my_name:\n",
    "    #Read the file contents and assign to variable name, strip of newline\n",
    "        y_name = my_name.read().rstrip()\n",
    "    #Ouput the name as read from the file\n",
    "    print(f'Your name is', y_name)\n",
    "#Call function\n",
    "read_name()"
   ]
  },
  {
   "cell_type": "markdown",
   "id": "56b84c1c",
   "metadata": {},
   "source": [
    "Notes placeholder"
   ]
  },
  {
   "cell_type": "markdown",
   "id": "fdcbde4f",
   "metadata": {},
   "source": [
    "## Programming Exercises - Problem 1"
   ]
  },
  {
   "cell_type": "markdown",
   "id": "b81fb415",
   "metadata": {},
   "source": [
    "Assume a file containing a series of integers is named numbers.txt and exists on the computer’s disk. Write a program that displays all of the numbers in the file."
   ]
  },
  {
   "cell_type": "code",
   "execution_count": 4,
   "id": "07f70a87",
   "metadata": {},
   "outputs": [
    {
     "name": "stdout",
     "output_type": "stream",
     "text": [
      "5162\n",
      "3716\n",
      "290\n",
      "5710\n",
      "852\n",
      "4975\n",
      "7378\n",
      "5120\n",
      "7123\n"
     ]
    }
   ],
   "source": [
    "#Open the file in read mode\n",
    "myfile = open('numbers.txt', 'r')\n",
    "#Read/display the numbers in the file\n",
    "for line in myfile:\n",
    "    number = int(line)\n",
    "    print (number)\n",
    "#Close the file\n",
    "myfile.close()"
   ]
  },
  {
   "cell_type": "markdown",
   "id": "2b40c4c4",
   "metadata": {},
   "source": [
    "Notes placeholder"
   ]
  },
  {
   "cell_type": "markdown",
   "id": "8582c159",
   "metadata": {},
   "source": [
    "## Programming Exercises - Problem 5"
   ]
  },
  {
   "cell_type": "markdown",
   "id": "5e312525",
   "metadata": {},
   "source": [
    "Assume a file containing a series of integers is named numbers.txt and exists on the computer’s disk. Write a program that reads all of the numbers stored in the file and calculates their total."
   ]
  },
  {
   "cell_type": "code",
   "execution_count": null,
   "id": "cb54f6a1",
   "metadata": {},
   "outputs": [],
   "source": [
    "#Create main function\n",
    "def main():\n",
    "#Open the file in read mode\n",
    "    myfile = open('numbers.txt', 'r')\n",
    "#Create variable for total\n",
    "    total = 0\n",
    "#Read the numbers in the file\n",
    "    for line in myfile:\n",
    "        total += int(line)"
   ]
  }
 ],
 "metadata": {
  "kernelspec": {
   "display_name": "Python 3 (ipykernel)",
   "language": "python",
   "name": "python3"
  },
  "language_info": {
   "codemirror_mode": {
    "name": "ipython",
    "version": 3
   },
   "file_extension": ".py",
   "mimetype": "text/x-python",
   "name": "python",
   "nbconvert_exporter": "python",
   "pygments_lexer": "ipython3",
   "version": "3.11.7"
  }
 },
 "nbformat": 4,
 "nbformat_minor": 5
}
