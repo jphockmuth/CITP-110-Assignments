{
 "cells": [
  {
   "cell_type": "markdown",
   "id": "a7dabcd4",
   "metadata": {},
   "source": [
    "# Coding Set - Chapter 4 (Week 4)"
   ]
  },
  {
   "cell_type": "markdown",
   "id": "22db7d8b",
   "metadata": {},
   "source": [
    "## Algorithm Workbench - Problem 1"
   ]
  },
  {
   "cell_type": "markdown",
   "id": "a9789972",
   "metadata": {},
   "source": [
    "Write a while loop that lets the user enter a number. The number should be multiplied by 10, and the result assigned to a variable named product. The loop should iterate as long as product is less than 100."
   ]
  },
  {
   "cell_type": "code",
   "execution_count": 3,
   "id": "90c1be3b",
   "metadata": {},
   "outputs": [
    {
     "name": "stdout",
     "output_type": "stream",
     "text": [
      "Enter a number1\n",
      "The product is: 10\n",
      "Enter a number3\n",
      "The product is: 30\n",
      "Enter a number5\n",
      "The product is: 50\n",
      "Enter a number9\n",
      "The product is: 90\n",
      "Enter a number10\n",
      "The product is: 100\n"
     ]
    }
   ],
   "source": [
    "# Start the product as 0\n",
    "product = 0\n",
    "# Create while statement\n",
    "while product < 100:\n",
    "# Ask user to input number\n",
    "    number = int(input('Enter a number'))\n",
    "# Calculate product based on input\n",
    "    product = number*10\n",
    "# Display the product to the user \n",
    "    print('The product is:', product)"
   ]
  },
  {
   "cell_type": "markdown",
   "id": "c6061c8e",
   "metadata": {},
   "source": [
    "## Algorithm Workbench - Problem 8"
   ]
  },
  {
   "cell_type": "markdown",
   "id": "66d78c61",
   "metadata": {},
   "source": [
    "Write code that prompts the user to enter a positive nonzero number and validates the input."
   ]
  },
  {
   "cell_type": "code",
   "execution_count": 5,
   "id": "c6294ecf",
   "metadata": {},
   "outputs": [
    {
     "name": "stdout",
     "output_type": "stream",
     "text": [
      "Enter a positive nonzero number:-1\n",
      "The number must be greater than 0\n",
      "Enter a positive nonzero number:5\n"
     ]
    }
   ],
   "source": [
    "#Create while loop, ask user to input number.\n",
    "while (number := int(input('Enter a positive nonzero number:'))) < 0:\n",
    "# If the number is less than 0, the code will print that the number is invalid\n",
    "    print('The number must be greater than 0')"
   ]
  },
  {
   "cell_type": "code",
   "execution_count": null,
   "id": "5bf92f14",
   "metadata": {},
   "outputs": [],
   "source": []
  }
 ],
 "metadata": {
  "kernelspec": {
   "display_name": "Python 3 (ipykernel)",
   "language": "python",
   "name": "python3"
  },
  "language_info": {
   "codemirror_mode": {
    "name": "ipython",
    "version": 3
   },
   "file_extension": ".py",
   "mimetype": "text/x-python",
   "name": "python",
   "nbconvert_exporter": "python",
   "pygments_lexer": "ipython3",
   "version": "3.11.7"
  }
 },
 "nbformat": 4,
 "nbformat_minor": 5
}
