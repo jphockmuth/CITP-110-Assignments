{
 "cells": [
  {
   "cell_type": "markdown",
   "id": "a7dabcd4",
   "metadata": {},
   "source": [
    "# Coding Set - Chapter 4 (Week 4)"
   ]
  },
  {
   "cell_type": "markdown",
   "id": "22db7d8b",
   "metadata": {},
   "source": [
    "## Algorithm Workbench - Problem 1"
   ]
  },
  {
   "cell_type": "markdown",
   "id": "4fa2a6ec",
   "metadata": {},
   "source": [
    "Write a while loop that lets the user enter a number. The number should be multiplied by 10, and the result assigned to a variable named product. The loop should iterate as long as product is less than 100."
   ]
  },
  {
   "cell_type": "code",
   "execution_count": 3,
   "id": "c985899d",
   "metadata": {},
   "outputs": [
    {
     "name": "stdout",
     "output_type": "stream",
     "text": [
      "Enter a number1\n",
      "The product is: 10\n",
      "Enter a number3\n",
      "The product is: 30\n",
      "Enter a number5\n",
      "The product is: 50\n",
      "Enter a number9\n",
      "The product is: 90\n",
      "Enter a number10\n",
      "The product is: 100\n"
     ]
    }
   ],
   "source": [
    "# Start the product as 0\n",
    "product = 0\n",
    "# Create while statement\n",
    "while product < 100:\n",
    "# Ask user to input number\n",
    "    number = int(input('Enter a number'))\n",
    "# Calculate product based on input\n",
    "    product = number*10\n",
    "# Display the product to the user \n",
    "    print('The product is:', product)"
   ]
  },
  {
   "cell_type": "markdown",
   "id": "c84baab6",
   "metadata": {},
   "source": [
    "## Algorithm Workbench - Problem 8"
   ]
  },
  {
   "cell_type": "markdown",
   "id": "cfc12372",
   "metadata": {},
   "source": [
    "Write code that prompts the user to enter a positive nonzero number and validates the input."
   ]
  },
  {
   "cell_type": "code",
   "execution_count": 5,
   "id": "ce68487d",
   "metadata": {},
   "outputs": [
    {
     "name": "stdout",
     "output_type": "stream",
     "text": [
      "Enter a positive nonzero number:-1\n",
      "The number must be greater than 0\n",
      "Enter a positive nonzero number:5\n"
     ]
    }
   ],
   "source": [
    "#Create while loop, ask user to input number.\n",
    "while (number := int(input('Enter a positive nonzero number:'))) < 0:\n",
    "# If the number is less than 0, the code will print that the number is invalid\n",
    "    print('The number must be greater than 0')"
   ]
  },
  {
   "cell_type": "markdown",
   "id": "8352101f",
   "metadata": {},
   "source": [
    "## Programming Exercises - Problem 1"
   ]
  },
  {
   "cell_type": "markdown",
   "id": "740f0fc4",
   "metadata": {},
   "source": [
    "A bug collector collects bugs every day for five days. Write a program that keeps a running total of the number of bugs collected during the five days. The loop should ask for the number of bugs collected for each day, and when the loop is finished, the program should display the total number of bugs collected."
   ]
  },
  {
   "cell_type": "code",
   "execution_count": 3,
   "id": "1b3c4b37",
   "metadata": {},
   "outputs": [
    {
     "name": "stdout",
     "output_type": "stream",
     "text": [
      "Input the number of bugs collected on day 1\n",
      "5\n",
      "Input the number of bugs collected on day 2\n",
      "7\n",
      "Input the number of bugs collected on day 3\n",
      "3\n",
      "Input the number of bugs collected on day 4\n",
      "2\n",
      "Input the number of bugs collected on day 5\n",
      "8\n",
      "Input the number of bugs collected on day 6\n",
      "10\n",
      "Input the number of bugs collected on day 7\n",
      "12\n",
      "You have collected a total of 47 bugs this week.\n"
     ]
    }
   ],
   "source": [
    "# Start the accumulator, in this case number of bugs, as 0\n",
    "total_bugs = 0\n",
    "#Ask user to input the number of bugs collected for each day\n",
    "for day in range(1, 8):\n",
    "    # Use print command to prompt user to input\n",
    "    print('Input the number of bugs collected on day', day)\n",
    "    # User inputs the number of bugs\n",
    "    bugs = int(input())\n",
    "    # Use augmented assignment operator to add number of bugs to total\n",
    "    total_bugs += bugs\n",
    "#Display the total number of bugs collected for the week\n",
    "print('You have collected a total of', total_bugs, 'bugs this week.')\n",
    "    "
   ]
  },
  {
   "cell_type": "markdown",
   "id": "4807f20f",
   "metadata": {},
   "source": [
    "## Programming Exercises - Problem 4"
   ]
  },
  {
   "cell_type": "markdown",
   "id": "9b6068f5",
   "metadata": {},
   "source": [
    "The distance a vehicle travels can be calculated as follows:\n",
    "\n",
    "distance = speed x time\n",
    "For example, if a train travels 40 miles per hour for three hours, the distance traveled is 120 miles. Write a program that asks the user for the speed of a vehicle (in miles per hour) and the number of hours it has traveled. It should then use a loop to display the distance the vehicle has traveled for each hour of that time period. "
   ]
  },
  {
   "cell_type": "code",
   "execution_count": 9,
   "id": "d1e59633",
   "metadata": {},
   "outputs": [
    {
     "name": "stdout",
     "output_type": "stream",
     "text": [
      "Enter the speed in miles per hour 40\n",
      "Enter the time traveled in hours 3\n",
      "\n",
      "Hour    Distance Traveled\n",
      "----------------------\n",
      "1    40\n",
      "2    80\n",
      "3    120\n",
      "\n"
     ]
    }
   ],
   "source": [
    "# Have user input the speed in miles per hour\n",
    "speed = int(input('Enter the speed in miles per hour'))\n",
    "# Verify that the entered speed is a positive input\n",
    "while speed < 0:\n",
    "    speed = int(input('Please enter a positive number'))\n",
    "# Have user input the time traveled in hours\n",
    "hours = int(input('Enter the time traveled in hours'))\n",
    "# Verify that the entered hours is a positive input\n",
    "while hours < 0:\n",
    "    hours = int(input('Please enter a positive number of hours'))\n",
    "# Create distance variable as accumulator\n",
    "distance = 0\n",
    "# Create output variale to assist with formatting the table\n",
    "output =  \"\\nHour    Distance Traveled\\n\" \\\n",
    "         \"----------------------\\n\"\n",
    "# Create for loop to calculate distance traveled by hour\n",
    "for hour in range (hours):\n",
    "    distance = speed * (hour+1)\n",
    "# Add the hour and distance to the formatted table.    \n",
    "    output += format(hour+1) + \"    \" + \\\n",
    "              format(distance) + \"\\n\"\n",
    "# Print the final output of the code\n",
    "print (output)"
   ]
  },
  {
   "cell_type": "markdown",
   "id": "503eb97a",
   "metadata": {},
   "source": [
    "## Programming Exercises - Problem 11"
   ]
  },
  {
   "cell_type": "markdown",
   "id": "d702a54e",
   "metadata": {},
   "source": [
    "In mathematics, the notation n! represents the factorial of the nonnegative integer n. The factorial of n is the product of all the nonnegative integers from 1 to n. For example,\n",
    "\n",
    "7!=1x2x3x4x5x6x7=5040\n",
    "\n",
    "and\n",
    "\n",
    "4!=1x2x3x4=24\n",
    "\n",
    "Write a program that lets the user enter a nonnegative integer then uses a loop to calculate the factorial of that number. Display the factorial."
   ]
  },
  {
   "cell_type": "code",
   "execution_count": 21,
   "id": "600ababa",
   "metadata": {},
   "outputs": [
    {
     "name": "stdout",
     "output_type": "stream",
     "text": [
      "Enter a non-negative number:-2\n",
      "The number must be non-negative.\n",
      "Enter a non-negative number:0\n",
      "The number must be greater than zero.\n",
      "Enter a non-negative number:5\n"
     ]
    }
   ],
   "source": [
    "# Have user input a non-negative number\n",
    "number = int(input('Enter a non-negative number:'))\n",
    "#Use an input validation loop to verify the number\n",
    "while number < 1:\n",
    "# Display the relevant rule to the user\n",
    "    if number < 0:\n",
    "        print('The number must be non-negative.')\n",
    "    else:\n",
    "# Display the relevant rule to the user\n",
    "        print('The number must be greater than zero.')\n",
    "# Have user input a valid non-negative number\n",
    "    number =int(input('Enter a non-negative number:'))\n",
    "    "
   ]
  },
  {
   "cell_type": "markdown",
   "id": "27eff16b",
   "metadata": {},
   "source": [
    "## Programming Exercises - Problem 14"
   ]
  },
  {
   "cell_type": "code",
   "execution_count": 13,
   "id": "8edd9048",
   "metadata": {},
   "outputs": [
    {
     "ename": "SyntaxError",
     "evalue": "invalid syntax (2598171478.py, line 3)",
     "output_type": "error",
     "traceback": [
      "\u001b[1;36m  Cell \u001b[1;32mIn[13], line 3\u001b[1;36m\u001b[0m\n\u001b[1;33m    Write a program that uses nested loops to draw this pattern:\u001b[0m\n\u001b[1;37m          ^\u001b[0m\n\u001b[1;31mSyntaxError\u001b[0m\u001b[1;31m:\u001b[0m invalid syntax\n"
     ]
    }
   ],
   "source": [
    "# I had to include this question as a line of code instead of markdown, \n",
    "# otherwise the \"#\" signs are not visible\n",
    "Write a program that uses nested loops to draw this pattern:\n",
    " \n",
    " ##  \n",
    " # #  \n",
    " #  #  \n",
    " #   #  \n",
    " #    #  \n",
    " #     # "
   ]
  },
  {
   "cell_type": "code",
   "execution_count": 20,
   "id": "2a590854",
   "metadata": {},
   "outputs": [
    {
     "name": "stdout",
     "output_type": "stream",
     "text": [
      "\n",
      "##\n",
      "# #\n",
      "#  #\n",
      "#   #\n",
      "#    #\n",
      "#     #\n",
      "#      #\n",
      "\n"
     ]
    }
   ],
   "source": [
    "# Set the constant for the range of the loop\n",
    "size = 7\n",
    "# Set the variable for output as a new line\n",
    "output = '\\n'\n",
    "# Create \"for\" loop based on range set above\n",
    "for row in range(size):\n",
    "# Use augmented assignment operator to add \"#\" to each row\n",
    "    output += '#'\n",
    "# The program will add a space for each additional column\n",
    "    for column in range(row):\n",
    "        output += \" \"\n",
    "# The program will add \"#\" to each column before moving to the next column\n",
    "    output += \"#\\n\"\n",
    "# The program will print the final output created by the loop.\n",
    "print(output)"
   ]
  }
 ],
 "metadata": {
  "kernelspec": {
   "display_name": "Python 3 (ipykernel)",
   "language": "python",
   "name": "python3"
  },
  "language_info": {
   "codemirror_mode": {
    "name": "ipython",
    "version": 3
   },
   "file_extension": ".py",
   "mimetype": "text/x-python",
   "name": "python",
   "nbconvert_exporter": "python",
   "pygments_lexer": "ipython3",
   "version": "3.11.7"
  }
 },
 "nbformat": 4,
 "nbformat_minor": 5
}
