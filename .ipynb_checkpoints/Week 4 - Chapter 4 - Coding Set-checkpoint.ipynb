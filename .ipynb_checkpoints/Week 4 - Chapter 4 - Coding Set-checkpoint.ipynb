{
 "cells": [
  {
   "cell_type": "markdown",
   "id": "a7dabcd4",
   "metadata": {},
   "source": [
    "# Coding Set - Chapter 4 (Week 4)"
   ]
  },
  {
   "cell_type": "markdown",
   "id": "22db7d8b",
   "metadata": {},
   "source": [
    "## Algorithm Workbench - Problem 1"
   ]
  },
  {
   "cell_type": "markdown",
   "id": "1e2e7f90",
   "metadata": {},
   "source": [
    "Write a while loop that lets the user enter a number. The number should be multiplied by 10, and the result assigned to a variable named product. The loop should iterate as long as product is less than 100."
   ]
  },
  {
   "cell_type": "code",
   "execution_count": 1,
   "id": "6fa427d3",
   "metadata": {},
   "outputs": [],
   "source": [
    "# Start the product as 0\n",
    "product=0\n",
    "# Create while statement\n",
    "while product < 100\n",
    "# Ask user to input number\n"
   ]
  },
  {
   "cell_type": "code",
   "execution_count": null,
   "id": "5e1cc8f5",
   "metadata": {},
   "outputs": [],
   "source": []
  }
 ],
 "metadata": {
  "kernelspec": {
   "display_name": "Python 3 (ipykernel)",
   "language": "python",
   "name": "python3"
  },
  "language_info": {
   "codemirror_mode": {
    "name": "ipython",
    "version": 3
   },
   "file_extension": ".py",
   "mimetype": "text/x-python",
   "name": "python",
   "nbconvert_exporter": "python",
   "pygments_lexer": "ipython3",
   "version": "3.11.7"
  }
 },
 "nbformat": 4,
 "nbformat_minor": 5
}
