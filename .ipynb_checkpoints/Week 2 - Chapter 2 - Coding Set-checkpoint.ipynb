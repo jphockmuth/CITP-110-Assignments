{
 "cells": [
  {
   "cell_type": "markdown",
   "id": "7936ea38",
   "metadata": {},
   "source": [
    "# Coding Set - Chapter 2 (Week 2)"
   ]
  },
  {
   "cell_type": "markdown",
   "id": "1e70f6a6",
   "metadata": {},
   "source": [
    "## Algorithm Workbench - Problem 8"
   ]
  },
  {
   "cell_type": "markdown",
   "id": "ec6b7850",
   "metadata": {},
   "source": [
    "What would the following display?"
   ]
  },
  {
   "cell_type": "markdown",
   "id": "b53bac2d",
   "metadata": {},
   "source": [
    "a = 5\n",
    "b = 2\n",
    "c = 3\n",
    "result a + b * c"
   ]
  },
  {
   "cell_type": "markdown",
   "id": "ba73f97f",
   "metadata": {},
   "source": [
    "Given the variables listed above and the rules of operator precedence, the multiplication of variable b and variable c should take place first, followed by the addition of variable a. Variable b multiplied by c would equal 6, and adding variable a will give us a final value of 11. I will confirm this prediction below."
   ]
  },
  {
   "cell_type": "code",
   "execution_count": 5,
   "id": "44ea1891",
   "metadata": {},
   "outputs": [],
   "source": [
    "a=5"
   ]
  },
  {
   "cell_type": "code",
   "execution_count": 6,
   "id": "4bfcfe6f",
   "metadata": {},
   "outputs": [],
   "source": [
    "b=2"
   ]
  },
  {
   "cell_type": "code",
   "execution_count": 7,
   "id": "8fdb492e",
   "metadata": {},
   "outputs": [],
   "source": [
    "c=3"
   ]
  },
  {
   "cell_type": "code",
   "execution_count": 8,
   "id": "be8777aa",
   "metadata": {},
   "outputs": [],
   "source": [
    "result=a+b*c"
   ]
  },
  {
   "cell_type": "code",
   "execution_count": 10,
   "id": "184ec3e9",
   "metadata": {},
   "outputs": [
    {
     "name": "stdout",
     "output_type": "stream",
     "text": [
      "11\n"
     ]
    }
   ],
   "source": [
    "print(result)"
   ]
  },
  {
   "cell_type": "markdown",
   "id": "ad99251c",
   "metadata": {},
   "source": [
    "## Programming Exercises - Problem 2"
   ]
  },
  {
   "cell_type": "markdown",
   "id": "8df81b1a",
   "metadata": {},
   "source": [
    "A company has determined that its annual profit is typically 23 percent of total sales. Write a program that asks the user to enter the projected amount of total sales, then displays the profit that will be made from that amount."
   ]
  },
  {
   "cell_type": "markdown",
   "id": "76fc857a",
   "metadata": {},
   "source": [
    "In order to solve this problem, I will create an input function that asks the user to input the projected total sales amount. I will also create a named constant for the profit percentage. Combining both the sales amount and profit percentage will allow us to calcualte the profit."
   ]
  },
  {
   "cell_type": "code",
   "execution_count": 13,
   "id": "686d32ca",
   "metadata": {},
   "outputs": [],
   "source": [
    "#This is the named constant for the profit percentage\n",
    "profit_percentage=0.23"
   ]
  },
  {
   "cell_type": "markdown",
   "id": "208167e3",
   "metadata": {},
   "source": [
    "## Programming Exercises - Problem 13"
   ]
  },
  {
   "cell_type": "code",
   "execution_count": null,
   "id": "debaae12",
   "metadata": {},
   "outputs": [],
   "source": []
  }
 ],
 "metadata": {
  "kernelspec": {
   "display_name": "Python 3 (ipykernel)",
   "language": "python",
   "name": "python3"
  },
  "language_info": {
   "codemirror_mode": {
    "name": "ipython",
    "version": 3
   },
   "file_extension": ".py",
   "mimetype": "text/x-python",
   "name": "python",
   "nbconvert_exporter": "python",
   "pygments_lexer": "ipython3",
   "version": "3.11.7"
  }
 },
 "nbformat": 4,
 "nbformat_minor": 5
}
