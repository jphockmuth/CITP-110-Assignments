{
 "cells": [
  {
   "cell_type": "markdown",
   "id": "7936ea38",
   "metadata": {},
   "source": [
    "# Coding Set - Chapter 2 (Week 2)"
   ]
  },
  {
   "cell_type": "markdown",
   "id": "1e70f6a6",
   "metadata": {},
   "source": [
    "## Algorithm Workbench - Problem 8"
   ]
  },
  {
   "cell_type": "markdown",
   "id": "495054b1",
   "metadata": {},
   "source": [
    "What would the following display?"
   ]
  },
  {
   "cell_type": "markdown",
   "id": "98fe4ce1",
   "metadata": {},
   "source": [
    "a = 5\n",
    "b = 2\n",
    "c = 3\n",
    "result a + b * c"
   ]
  },
  {
   "cell_type": "markdown",
   "id": "0be24994",
   "metadata": {},
   "source": [
    "Given the variables listed above and the rules of operator precedence, the multiplication of variable b and variable c should take place first, followed by the addition of variable a. Variable b multiplied by c would equal 6, and adding variable a will give us a final value of 11. I will confirm this prediction below."
   ]
  },
  {
   "cell_type": "code",
   "execution_count": 5,
   "id": "31e9cddb",
   "metadata": {},
   "outputs": [],
   "source": [
    "a=5"
   ]
  },
  {
   "cell_type": "code",
   "execution_count": 6,
   "id": "c97e7ed8",
   "metadata": {},
   "outputs": [],
   "source": [
    "b=2"
   ]
  },
  {
   "cell_type": "code",
   "execution_count": 7,
   "id": "4ea31af7",
   "metadata": {},
   "outputs": [],
   "source": [
    "c=3"
   ]
  },
  {
   "cell_type": "code",
   "execution_count": 8,
   "id": "f34f1f07",
   "metadata": {},
   "outputs": [],
   "source": [
    "result=a+b*c"
   ]
  },
  {
   "cell_type": "code",
   "execution_count": 9,
   "id": "99243a4e",
   "metadata": {},
   "outputs": [
    {
     "ename": "SyntaxError",
     "evalue": "Missing parentheses in call to 'print'. Did you mean print(...)? (2834153870.py, line 1)",
     "output_type": "error",
     "traceback": [
      "\u001b[1;36m  Cell \u001b[1;32mIn[9], line 1\u001b[1;36m\u001b[0m\n\u001b[1;33m    print result\u001b[0m\n\u001b[1;37m    ^\u001b[0m\n\u001b[1;31mSyntaxError\u001b[0m\u001b[1;31m:\u001b[0m Missing parentheses in call to 'print'. Did you mean print(...)?\n"
     ]
    }
   ],
   "source": [
    "print result"
   ]
  },
  {
   "cell_type": "markdown",
   "id": "ad99251c",
   "metadata": {},
   "source": [
    "## Programming Exercises - Problem Num."
   ]
  },
  {
   "cell_type": "code",
   "execution_count": null,
   "id": "edbca35a",
   "metadata": {},
   "outputs": [],
   "source": []
  },
  {
   "cell_type": "markdown",
   "id": "208167e3",
   "metadata": {},
   "source": [
    "## Programming Exercises - Problem 13"
   ]
  },
  {
   "cell_type": "code",
   "execution_count": null,
   "id": "5f9624e3",
   "metadata": {},
   "outputs": [],
   "source": []
  }
 ],
 "metadata": {
  "kernelspec": {
   "display_name": "Python 3 (ipykernel)",
   "language": "python",
   "name": "python3"
  },
  "language_info": {
   "codemirror_mode": {
    "name": "ipython",
    "version": 3
   },
   "file_extension": ".py",
   "mimetype": "text/x-python",
   "name": "python",
   "nbconvert_exporter": "python",
   "pygments_lexer": "ipython3",
   "version": "3.11.7"
  }
 },
 "nbformat": 4,
 "nbformat_minor": 5
}
