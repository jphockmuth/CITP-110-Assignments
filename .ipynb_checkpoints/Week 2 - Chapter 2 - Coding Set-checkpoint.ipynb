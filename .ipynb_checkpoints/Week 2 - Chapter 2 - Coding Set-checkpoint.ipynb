{
 "cells": [
  {
   "cell_type": "markdown",
   "id": "7936ea38",
   "metadata": {},
   "source": [
    "# Coding Set - Chapter 2 (Week 2)"
   ]
  },
  {
   "cell_type": "markdown",
   "id": "1e70f6a6",
   "metadata": {},
   "source": [
    "## Algorithm Workbench - Problem 8"
   ]
  },
  {
   "cell_type": "markdown",
   "id": "bf0131e5",
   "metadata": {},
   "source": [
    "What would the following display?"
   ]
  },
  {
   "cell_type": "markdown",
   "id": "13d4c34b",
   "metadata": {},
   "source": [
    "a = 5\n",
    "b = 2\n",
    "c = 3\n",
    "result a + b * c"
   ]
  },
  {
   "cell_type": "markdown",
   "id": "06068dc9",
   "metadata": {},
   "source": [
    "Given the variables listed above and the rules of operator precedence, the multiplication of variable b and variable c should take place first, followed by the addition of variable a. Variable b multiplied by c would equal 6, and adding variable a will give us a final value of 11. I will confirm this prediction below."
   ]
  },
  {
   "cell_type": "code",
   "execution_count": 5,
   "id": "9e9b1da9",
   "metadata": {},
   "outputs": [],
   "source": [
    "a=5"
   ]
  },
  {
   "cell_type": "code",
   "execution_count": 6,
   "id": "d79dfeb6",
   "metadata": {},
   "outputs": [],
   "source": [
    "b=2"
   ]
  },
  {
   "cell_type": "code",
   "execution_count": 7,
   "id": "34e78b67",
   "metadata": {},
   "outputs": [],
   "source": [
    "c=3"
   ]
  },
  {
   "cell_type": "code",
   "execution_count": 8,
   "id": "71a357cb",
   "metadata": {},
   "outputs": [],
   "source": [
    "result=a+b*c"
   ]
  },
  {
   "cell_type": "code",
   "execution_count": 10,
   "id": "ff60fe45",
   "metadata": {},
   "outputs": [
    {
     "name": "stdout",
     "output_type": "stream",
     "text": [
      "11\n"
     ]
    }
   ],
   "source": [
    "print(result)"
   ]
  },
  {
   "cell_type": "markdown",
   "id": "ad99251c",
   "metadata": {},
   "source": [
    "## Programming Exercises - Problem 2"
   ]
  },
  {
   "cell_type": "markdown",
   "id": "5f8f9417",
   "metadata": {},
   "source": [
    "A company has determined that its annual profit is typically 23 percent of total sales. Write a program that asks the user to enter the projected amount of total sales, then displays the profit that will be made from that amount."
   ]
  },
  {
   "cell_type": "markdown",
   "id": "3c4dec29",
   "metadata": {},
   "source": [
    "In order to solve this problem, I will create an input function that asks the user to input the projected total sales amount. I will also create a named constant for the profit percentage. Combining both the sales amount and profit percentage will allow us to calcualte the profit."
   ]
  },
  {
   "cell_type": "code",
   "execution_count": 13,
   "id": "8e472f3e",
   "metadata": {},
   "outputs": [],
   "source": [
    "#This is the named constant for the profit percentage\n",
    "profit_percentage=0.23"
   ]
  },
  {
   "cell_type": "code",
   "execution_count": 18,
   "id": "fb5ae60e",
   "metadata": {},
   "outputs": [
    {
     "name": "stdout",
     "output_type": "stream",
     "text": [
      "Please enter the projected sales amount\n",
      "150000.00\n"
     ]
    }
   ],
   "source": [
    "#This function will have the user input the projected sales amount.\n",
    "print(\"Please enter the projected sales amount\")\n",
    "#wait for imput from user for the projected sales amount\n",
    "sales=input()"
   ]
  },
  {
   "cell_type": "code",
   "execution_count": 19,
   "id": "2e0f0576",
   "metadata": {},
   "outputs": [
    {
     "ename": "TypeError",
     "evalue": "can't multiply sequence by non-int of type 'float'",
     "output_type": "error",
     "traceback": [
      "\u001b[1;31m---------------------------------------------------------------------------\u001b[0m",
      "\u001b[1;31mTypeError\u001b[0m                                 Traceback (most recent call last)",
      "Cell \u001b[1;32mIn[19], line 1\u001b[0m\n\u001b[1;32m----> 1\u001b[0m result\u001b[38;5;241m=\u001b[39mprofit_percentage\u001b[38;5;241m*\u001b[39msales\n",
      "\u001b[1;31mTypeError\u001b[0m: can't multiply sequence by non-int of type 'float'"
     ]
    }
   ],
   "source": [
    "result=profit_percentage*sales"
   ]
  },
  {
   "cell_type": "markdown",
   "id": "208167e3",
   "metadata": {},
   "source": [
    "## Programming Exercises - Problem 13"
   ]
  },
  {
   "cell_type": "code",
   "execution_count": null,
   "id": "f40cdc64",
   "metadata": {},
   "outputs": [],
   "source": []
  }
 ],
 "metadata": {
  "kernelspec": {
   "display_name": "Python 3 (ipykernel)",
   "language": "python",
   "name": "python3"
  },
  "language_info": {
   "codemirror_mode": {
    "name": "ipython",
    "version": 3
   },
   "file_extension": ".py",
   "mimetype": "text/x-python",
   "name": "python",
   "nbconvert_exporter": "python",
   "pygments_lexer": "ipython3",
   "version": "3.11.7"
  }
 },
 "nbformat": 4,
 "nbformat_minor": 5
}
