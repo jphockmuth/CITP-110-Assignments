{
 "cells": [
  {
   "cell_type": "markdown",
   "id": "869f0ac7",
   "metadata": {},
   "source": [
    "# Coding Set - Chapter 3 (Week 3)"
   ]
  },
  {
   "cell_type": "markdown",
   "id": "f3095724",
   "metadata": {},
   "source": [
    "## Algorithm Workbench - Problem 4"
   ]
  },
  {
   "cell_type": "markdown",
   "id": "bb3202b9",
   "metadata": {},
   "source": [
    "The following code contains several nested  statements. Unfortunately, it was written without proper alignment and indentation. Rewrite the code and use the proper conventions of alignment and indentation.\n",
    "\n",
    "if score >= A_score: \n",
    "print('Your grade is A.') \n",
    "else: \n",
    "if score >= B_score: \n",
    "print('Your grade is B.') \n",
    "else: \n",
    "if score >= C_score: \n",
    "print('Your grade is C.') \n",
    "else: \n",
    "if score >= D_score: \n",
    "print('Your grade is D.') \n",
    "else: \n",
    "print('Your grade is F.') "
   ]
  },
  {
   "cell_type": "code",
   "execution_count": 11,
   "id": "267973c2",
   "metadata": {},
   "outputs": [
    {
     "name": "stdout",
     "output_type": "stream",
     "text": [
      "Enter your test score: 84\n",
      "Your grade is B.\n"
     ]
    }
   ],
   "source": [
    "#Receives an inputted test score from the user and displays the corresponding grade.\n",
    "\n",
    "#Named constants representing letter grades\n",
    "A_score = 90\n",
    "B_score = 80\n",
    "C_score = 70\n",
    "D_score = 60\n",
    "\n",
    "#This command will have the user input their test score\n",
    "score = int(input('Enter your test score: '))\n",
    "\n",
    "if score >= A_score: \n",
    "    print('Your grade is A.') \n",
    "else: \n",
    "    if score >= B_score: \n",
    "        print('Your grade is B.') \n",
    "    else: \n",
    "        if score >= C_score: \n",
    "            print('Your grade is C.') \n",
    "        else: \n",
    "            if score >= D_score: \n",
    "                print('Your grade is D.') \n",
    "            else: \n",
    "                    print('Your grade is F.') "
   ]
  },
  {
   "cell_type": "markdown",
   "id": "c1309301",
   "metadata": {},
   "source": [
    "Each if/else statement must be properly aligned in terms of indentation. The first if/else statement starts on the far left, and subsequent if/else statements are indented further to the right. The relevant statement(s) for each if/else statement must be indented one tab to the right of the if/else text. Alternatively, you may choose to use if/elif/else statements to simplify the nested statements."
   ]
  },
  {
   "cell_type": "code",
   "execution_count": null,
   "id": "ec38fef0",
   "metadata": {},
   "outputs": [],
   "source": []
  },
  {
   "cell_type": "markdown",
   "id": "8ac315ff",
   "metadata": {},
   "source": [
    "## Algorithm Workbench - Problem 5"
   ]
  },
  {
   "cell_type": "markdown",
   "id": "7e1921c4",
   "metadata": {},
   "source": [
    "Write nested decision structures that perform the following: If amount1 is greater than 10 and amount2 is less than 100, display the greater of amount1 and amount2."
   ]
  },
  {
   "cell_type": "code",
   "execution_count": null,
   "id": "fd6e987e",
   "metadata": {},
   "outputs": [],
   "source": [
    "amount1 = int(input('Enter amount1'))\n",
    "amount2 = int(input('Enter amount2'))\n",
    "if amount1 > 10 and amount 2"
   ]
  },
  {
   "cell_type": "code",
   "execution_count": null,
   "id": "038b97cc",
   "metadata": {},
   "outputs": [],
   "source": []
  }
 ],
 "metadata": {
  "kernelspec": {
   "display_name": "Python 3 (ipykernel)",
   "language": "python",
   "name": "python3"
  },
  "language_info": {
   "codemirror_mode": {
    "name": "ipython",
    "version": 3
   },
   "file_extension": ".py",
   "mimetype": "text/x-python",
   "name": "python",
   "nbconvert_exporter": "python",
   "pygments_lexer": "ipython3",
   "version": "3.11.7"
  }
 },
 "nbformat": 4,
 "nbformat_minor": 5
}
