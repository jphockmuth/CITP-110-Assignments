{
 "cells": [
  {
   "cell_type": "markdown",
   "id": "e5274afe",
   "metadata": {},
   "source": [
    "# Coding Set - Chapter 8 (Week 8)"
   ]
  },
  {
   "cell_type": "markdown",
   "id": "436546b6",
   "metadata": {},
   "source": [
    "## Algorithm Workbench - Problem 1"
   ]
  },
  {
   "cell_type": "markdown",
   "id": "934fd02e",
   "metadata": {},
   "source": [
    "Assume choice references a string. The following if statement determines whether choice is equal to ‘Y’ or ‘y’:\n",
    "- if choice == 'Y' or choice == 'y': "
   ]
  },
  {
   "cell_type": "code",
   "execution_count": 2,
   "id": "9e370272",
   "metadata": {},
   "outputs": [
    {
     "ename": "SyntaxError",
     "evalue": "incomplete input (2930324110.py, line 2)",
     "output_type": "error",
     "traceback": [
      "\u001b[1;36m  Cell \u001b[1;32mIn[2], line 2\u001b[1;36m\u001b[0m\n\u001b[1;33m    if choice.upper() == 'Y':\u001b[0m\n\u001b[1;37m                             ^\u001b[0m\n\u001b[1;31mSyntaxError\u001b[0m\u001b[1;31m:\u001b[0m incomplete input\n"
     ]
    }
   ],
   "source": [
    "#Use if command and upper method to determine whether the statement is uppercase\n",
    "if choice.upper() == 'Y':"
   ]
  },
  {
   "cell_type": "markdown",
   "id": "e655839f",
   "metadata": {},
   "source": [
    "Notes"
   ]
  },
  {
   "cell_type": "markdown",
   "id": "efc3a21b",
   "metadata": {},
   "source": [
    "## Algorithm Workbench - Problem 3"
   ]
  },
  {
   "cell_type": "markdown",
   "id": "a0f3b7b5",
   "metadata": {},
   "source": [
    "Write a loop that counts the number of digits that appear in the string referenced by mystring."
   ]
  },
  {
   "cell_type": "code",
   "execution_count": 8,
   "id": "211c881e",
   "metadata": {},
   "outputs": [
    {
     "name": "stdout",
     "output_type": "stream",
     "text": [
      "The number of digits is 3\n"
     ]
    }
   ],
   "source": [
    "#Create string\n",
    "mystring = ['2', '3', '5', 'hello']\n",
    "#Create accumulator \n",
    "digits = 0\n",
    "#Create for loop to iterate for the entire string\n",
    "for char in mystring:\n",
    "    #Create if command and isdigit method to check for digits in string\n",
    "    if char.isdigit():\n",
    "        #Use augmented assignemnt operator to add each digit\n",
    "        digits += 1\n",
    "#Display number of digits\n",
    "print('The number of digits is', digits)"
   ]
  },
  {
   "cell_type": "code",
   "execution_count": null,
   "id": "155fa05e",
   "metadata": {},
   "outputs": [],
   "source": []
  }
 ],
 "metadata": {
  "kernelspec": {
   "display_name": "Python 3 (ipykernel)",
   "language": "python",
   "name": "python3"
  },
  "language_info": {
   "codemirror_mode": {
    "name": "ipython",
    "version": 3
   },
   "file_extension": ".py",
   "mimetype": "text/x-python",
   "name": "python",
   "nbconvert_exporter": "python",
   "pygments_lexer": "ipython3",
   "version": "3.11.7"
  }
 },
 "nbformat": 4,
 "nbformat_minor": 5
}
