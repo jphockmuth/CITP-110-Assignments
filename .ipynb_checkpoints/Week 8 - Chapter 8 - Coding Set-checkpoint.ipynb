{
 "cells": [
  {
   "cell_type": "markdown",
   "id": "3267e0b7",
   "metadata": {},
   "source": [
    "# Coding Set - Chapter 8 (Week 8)"
   ]
  },
  {
   "cell_type": "markdown",
   "id": "61b21761",
   "metadata": {},
   "source": [
    "## Algorithm Workbench - Problem 1"
   ]
  },
  {
   "cell_type": "markdown",
   "id": "311214f7",
   "metadata": {},
   "source": [
    "Assume choice references a string. The following if statement determines whether choice is equal to ‘Y’ or ‘y’:\n",
    "- if choice == 'Y' or choice == 'y': \n",
    "\n",
    "Rewrite this statement so it only makes one comparison, and does not use the or operator. (Hint: use either the upper or lower methods.)"
   ]
  },
  {
   "cell_type": "code",
   "execution_count": 11,
   "id": "6d448909",
   "metadata": {},
   "outputs": [
    {
     "name": "stdout",
     "output_type": "stream",
     "text": [
      "The choice is uppercase\n"
     ]
    }
   ],
   "source": [
    "#Define choice to test function\n",
    "choice = 'Y'\n",
    "#Use if command and upper method to determine whether the statement is uppercase\n",
    "if choice.upper() == 'Y':\n",
    "    #Print the result\n",
    "    print('The choice is uppercase')"
   ]
  },
  {
   "cell_type": "markdown",
   "id": "3fe74feb",
   "metadata": {},
   "source": [
    "For this problem, I used the upper command to check if the input is Y or y. If the input is Y, the program prints the result declaring that the choice is uppercase. By using this, I was able to remove the 'or' operator."
   ]
  },
  {
   "cell_type": "markdown",
   "id": "e6612de1",
   "metadata": {},
   "source": [
    "## Algorithm Workbench - Problem 3"
   ]
  },
  {
   "cell_type": "markdown",
   "id": "8afc770c",
   "metadata": {},
   "source": [
    "Write a loop that counts the number of digits that appear in the string referenced by mystring."
   ]
  },
  {
   "cell_type": "code",
   "execution_count": 8,
   "id": "93e3d816",
   "metadata": {},
   "outputs": [
    {
     "name": "stdout",
     "output_type": "stream",
     "text": [
      "The number of digits is 3\n"
     ]
    }
   ],
   "source": [
    "#Create string\n",
    "mystring = ['2', '3', '5', 'hello']\n",
    "#Create accumulator \n",
    "digits = 0\n",
    "#Create for loop to iterate for the entire string\n",
    "for char in mystring:\n",
    "    #Create if command and isdigit method to check for digits in string\n",
    "    if char.isdigit():\n",
    "        #Use augmented assignemnt operator to add each digit\n",
    "        digits += 1\n",
    "#Display number of digits\n",
    "print('The number of digits is', digits)"
   ]
  },
  {
   "cell_type": "markdown",
   "id": "fe470505",
   "metadata": {},
   "source": [
    "For this problem, I began by creating an accumulator named 'digits'. I then created a for loop to iterate throughout the length of the string, and used the isdigit method to add each digit to the accumulator using the augmented assignment operator. This worked to keep a count of the number of digits in the string. Finally, I used the print command to display the number of digits."
   ]
  },
  {
   "cell_type": "markdown",
   "id": "21de76f0",
   "metadata": {},
   "source": [
    "## Programming Exercises - Problem 1"
   ]
  },
  {
   "cell_type": "markdown",
   "id": "1ad1e472",
   "metadata": {},
   "source": [
    "Write a program that gets a string containing a person’s first, middle, and last names, and displays their first, middle, and last initials. For example, if the user enters John William Smith, the program should display J. W. S."
   ]
  },
  {
   "cell_type": "code",
   "execution_count": 7,
   "id": "6d3780ca",
   "metadata": {},
   "outputs": [
    {
     "name": "stdout",
     "output_type": "stream",
     "text": [
      "Enter your full name in the format of first middle last:Jared Paul Hockmuth\n",
      "Your initials are: J.P.H\n"
     ]
    }
   ],
   "source": [
    "#Create get initials function\n",
    "def get_initials(mystring):\n",
    "    #Return a string with the initials of first, middle, and last names\n",
    "    return '.'.join(word[0].upper() for word in mystring.split())\n",
    "#Ask the user to input their name\n",
    "name = input('Enter your full name in the format of first middle last:')\n",
    "\n",
    "#Call get initials function to retrieve the initials and output them\n",
    "initials = get_initials(name)\n",
    "print(f'Your initials are: {initials}')"
   ]
  },
  {
   "cell_type": "markdown",
   "id": "7386cade",
   "metadata": {},
   "source": [
    "For this problem, I began by defining the get_initials function. I then Asked the user to input their full name, and subsequently prepared the code to call the get initial function, and print the results. I then created the return code to retrieve the initials from each word in the string. I did use Google's Gemini AI to assist with the formatting of this line of code, which was quite helpful. Finally, I executed the program to ensure that it functioned properly."
   ]
  },
  {
   "cell_type": "markdown",
   "id": "cfbc8493",
   "metadata": {},
   "source": [
    "## Programming Exercises - Problem 9"
   ]
  },
  {
   "cell_type": "markdown",
   "id": "84186344",
   "metadata": {},
   "source": [
    "Write a program with a function that accepts a string as an argument and returns the number of vowels that the string contains. The application should have another function that accepts a string as an argument and returns the number of consonants that the string contains. The application should let the user enter a string, and should display the number of vowels and the number of consonants it contains."
   ]
  },
  {
   "cell_type": "code",
   "execution_count": 3,
   "id": "e3d7233c",
   "metadata": {},
   "outputs": [
    {
     "name": "stdout",
     "output_type": "stream",
     "text": [
      "Enter a string of alphabetic charactersa, b, c, d, e, f, g, h, i\n",
      "The string has 3 vowels and 6 consonants.\n"
     ]
    }
   ],
   "source": [
    "def num_vowels(mystring):\n",
    "    #Create list containing vowels\n",
    "    vowels = ['a','e','i','o','u']\n",
    "    #Create accumulator\n",
    "    vowel_count = 0\n",
    "    #Count the number of vowels in string\n",
    "    for ch in mystring:\n",
    "        #If character is vowel, add to accumulator\n",
    "        if ch.lower() in vowels:\n",
    "            vowel_count += 1\n",
    "    #Return the count of vowels\n",
    "    return vowel_count\n",
    "\n",
    "\n",
    "#Create function for number of consonants\n",
    "def num_consonants(mystring, vowels):\n",
    "    #Create accumulator\n",
    "    consonant_count = 0\n",
    "    #Count the number of consonants in string by determining if not a vowel\n",
    "    for ch in mystring:\n",
    "        if ch.isalpha() and ch.lower() not in vowels:\n",
    "            consonant_count += 1\n",
    "    #Return the count of consonants\n",
    "    return consonant_count\n",
    "\n",
    "#Create main function\n",
    "def main():\n",
    "    #Have the user input a string of characters\n",
    "    mystring = input('Enter a string of alphabetic characters')\n",
    "    #Define both functions as variables to display below.\n",
    "    vowels = ['a','e','i','o','u']\n",
    "    vowel_count = num_vowels(mystring)\n",
    "    consonant_count = num_consonants(mystring, vowels)\n",
    "    #Display the number of vowels and consonants\n",
    "    print(f\"The string has {vowel_count} vowels and {consonant_count} consonants.\")\n",
    "#Create function for number of vowels\n",
    "main()"
   ]
  },
  {
   "cell_type": "markdown",
   "id": "d46ba347",
   "metadata": {},
   "source": [
    "For this problem, I began by creating the num_vowels function, using an accumulator and for loop to check each character in the string to determine if itis a vowel. To do this, I used the if command to check each character against the list of vowels, and if it matched it would add to the total count of vowels. Finally, the function would return the count of vowels. I then created the num_consonants function, which is nearly identical, but instead would add to the accumulator if the character did not match any of the vowels in the list. I then created a main function which asked the user to input a string of characters, and then displayed the number of vowels and consonants by calling each function."
   ]
  },
  {
   "cell_type": "markdown",
   "id": "2d5db411",
   "metadata": {},
   "source": [
    "## Programming Exercises - Problem 10"
   ]
  },
  {
   "cell_type": "markdown",
   "id": "ff8e2cb7",
   "metadata": {},
   "source": [
    "Write a program that lets the user enter a string and displays the character that appears most frequently in the string."
   ]
  },
  {
   "cell_type": "code",
   "execution_count": 6,
   "id": "3eade934",
   "metadata": {},
   "outputs": [
    {
     "name": "stdout",
     "output_type": "stream",
     "text": [
      "Enter a string of characters112343454677892334321344567\n",
      "The most frequent character is: 3\n"
     ]
    }
   ],
   "source": [
    "#Create function\n",
    "def most_frequent_character(mystring):\n",
    "    #Create place to store character counts\n",
    "    character_counts = {}\n",
    "    #Create for loop to iterate through entire string\n",
    "    for char in mystring: \n",
    "        #Make all characters lowercase to ensure a proper count\n",
    "        char = char.lower()\n",
    "        #Use if command and augmented assignment operator to add to accumulator\n",
    "        if char in character_counts:\n",
    "            character_counts[char] += 1\n",
    "        else:\n",
    "            character_counts[char] = 1\n",
    "    #Find the character with the highest count\n",
    "    most_frequent = max(character_counts, key=character_counts.get)\n",
    "    return most_frequent\n",
    "#Have user input characters to create string\n",
    "mystring = input('Enter a string of characters')\n",
    "#Find the most frequent character\n",
    "most_frequent_character = most_frequent_character(mystring)\n",
    "#Display the result\n",
    "print(f'The most frequent character is: {most_frequent_character}')"
   ]
  },
  {
   "cell_type": "markdown",
   "id": "2a307235",
   "metadata": {},
   "source": [
    "For this problem I created the most_frequent_character function, prompted the program to store the count for each character, and then used the augmented assignment operator to keep a count of each character in the string. I then used the max function to determine which character was most frequent. I had the user input a string of characters, and then the program would display the most frequent character."
   ]
  },
  {
   "cell_type": "markdown",
   "id": "949537ce",
   "metadata": {},
   "source": [
    "## Programming Exercises - Problem 2"
   ]
  },
  {
   "cell_type": "markdown",
   "id": "6c06e2e5",
   "metadata": {},
   "source": [
    "Write a program that asks the user to enter a series of single-digit numbers with nothing separating them. The program should display the sum of all the single digit numbers in the string. For example, if the user enters 2514, the method should return 12, which is the sum of 2, 5, 1, and 4."
   ]
  },
  {
   "cell_type": "code",
   "execution_count": null,
   "id": "5297eda6",
   "metadata": {},
   "outputs": [],
   "source": [
    "#Create function\n",
    "def sum_of_digits(mystring):"
   ]
  }
 ],
 "metadata": {
  "kernelspec": {
   "display_name": "Python 3 (ipykernel)",
   "language": "python",
   "name": "python3"
  },
  "language_info": {
   "codemirror_mode": {
    "name": "ipython",
    "version": 3
   },
   "file_extension": ".py",
   "mimetype": "text/x-python",
   "name": "python",
   "nbconvert_exporter": "python",
   "pygments_lexer": "ipython3",
   "version": "3.11.7"
  }
 },
 "nbformat": 4,
 "nbformat_minor": 5
}
