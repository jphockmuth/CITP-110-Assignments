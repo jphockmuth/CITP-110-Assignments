{
 "cells": [
  {
   "cell_type": "markdown",
   "id": "3ad5ad51",
   "metadata": {},
   "source": [
    "# Coding Set - Chapter 8 (Week 8)"
   ]
  },
  {
   "cell_type": "markdown",
   "id": "0d5e506e",
   "metadata": {},
   "source": [
    "## Algorithm Workbench - Problem 1"
   ]
  },
  {
   "cell_type": "markdown",
   "id": "aed772ed",
   "metadata": {},
   "source": [
    "Assume choice references a string. The following if statement determines whether choice is equal to ‘Y’ or ‘y’:\n",
    "- if choice == 'Y' or choice == 'y': "
   ]
  },
  {
   "cell_type": "code",
   "execution_count": 2,
   "id": "8e8b343d",
   "metadata": {},
   "outputs": [
    {
     "ename": "SyntaxError",
     "evalue": "incomplete input (2930324110.py, line 2)",
     "output_type": "error",
     "traceback": [
      "\u001b[1;36m  Cell \u001b[1;32mIn[2], line 2\u001b[1;36m\u001b[0m\n\u001b[1;33m    if choice.upper() == 'Y':\u001b[0m\n\u001b[1;37m                             ^\u001b[0m\n\u001b[1;31mSyntaxError\u001b[0m\u001b[1;31m:\u001b[0m incomplete input\n"
     ]
    }
   ],
   "source": [
    "#Use if command and upper method to determine whether the statement is uppercase\n",
    "if choice.upper() == 'Y':"
   ]
  },
  {
   "cell_type": "markdown",
   "id": "220c0537",
   "metadata": {},
   "source": [
    "Notes"
   ]
  },
  {
   "cell_type": "markdown",
   "id": "8dd3ea20",
   "metadata": {},
   "source": [
    "## Algorithm Workbench - Problem 3"
   ]
  },
  {
   "cell_type": "markdown",
   "id": "a0b6305f",
   "metadata": {},
   "source": [
    "Write a loop that counts the number of digits that appear in the string referenced by mystring."
   ]
  },
  {
   "cell_type": "code",
   "execution_count": null,
   "id": "d9ae7f50",
   "metadata": {},
   "outputs": [],
   "source": [
    "#Create accumulator \n",
    "digits = 0\n",
    "#Create for loop to iterate for the entire string\n",
    "for char in mystring:\n",
    "    #Create if command and isdigit method to check for digits in string\n",
    "    if char.isdigit():\n",
    "        #Use augmented assignemnt operator to add each digit\n",
    "        digit_count += 1"
   ]
  }
 ],
 "metadata": {
  "kernelspec": {
   "display_name": "Python 3 (ipykernel)",
   "language": "python",
   "name": "python3"
  },
  "language_info": {
   "codemirror_mode": {
    "name": "ipython",
    "version": 3
   },
   "file_extension": ".py",
   "mimetype": "text/x-python",
   "name": "python",
   "nbconvert_exporter": "python",
   "pygments_lexer": "ipython3",
   "version": "3.11.7"
  }
 },
 "nbformat": 4,
 "nbformat_minor": 5
}
