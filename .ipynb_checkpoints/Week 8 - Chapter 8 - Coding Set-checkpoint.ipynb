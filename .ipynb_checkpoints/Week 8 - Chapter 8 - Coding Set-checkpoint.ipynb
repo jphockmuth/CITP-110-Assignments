{
 "cells": [
  {
   "cell_type": "markdown",
   "id": "3267e0b7",
   "metadata": {},
   "source": [
    "# Coding Set - Chapter 8 (Week 8)"
   ]
  },
  {
   "cell_type": "markdown",
   "id": "61b21761",
   "metadata": {},
   "source": [
    "## Algorithm Workbench - Problem 1"
   ]
  },
  {
   "cell_type": "markdown",
   "id": "311214f7",
   "metadata": {},
   "source": [
    "Assume choice references a string. The following if statement determines whether choice is equal to ‘Y’ or ‘y’:\n",
    "- if choice == 'Y' or choice == 'y': \n",
    "\n",
    "Rewrite this statement so it only makes one comparison, and does not use the or operator. (Hint: use either the upper or lower methods.)"
   ]
  },
  {
   "cell_type": "code",
   "execution_count": 11,
   "id": "6d448909",
   "metadata": {},
   "outputs": [
    {
     "name": "stdout",
     "output_type": "stream",
     "text": [
      "The choice is uppercase\n"
     ]
    }
   ],
   "source": [
    "#Define choice to test function\n",
    "choice = 'Y'\n",
    "#Use if command and upper method to determine whether the statement is uppercase\n",
    "if choice.upper() == 'Y':\n",
    "    #Print the result\n",
    "    print('The choice is uppercase')"
   ]
  },
  {
   "cell_type": "markdown",
   "id": "3fe74feb",
   "metadata": {},
   "source": [
    "For this problem, I used the upper command to check if the input is Y or y. If the input is Y, the program prints the result declaring that the choice is uppercase. By using this, I was able to remove the 'or' operator."
   ]
  },
  {
   "cell_type": "markdown",
   "id": "e6612de1",
   "metadata": {},
   "source": [
    "## Algorithm Workbench - Problem 3"
   ]
  },
  {
   "cell_type": "markdown",
   "id": "8afc770c",
   "metadata": {},
   "source": [
    "Write a loop that counts the number of digits that appear in the string referenced by mystring."
   ]
  },
  {
   "cell_type": "code",
   "execution_count": 8,
   "id": "93e3d816",
   "metadata": {},
   "outputs": [
    {
     "name": "stdout",
     "output_type": "stream",
     "text": [
      "The number of digits is 3\n"
     ]
    }
   ],
   "source": [
    "#Create string\n",
    "mystring = ['2', '3', '5', 'hello']\n",
    "#Create accumulator \n",
    "digits = 0\n",
    "#Create for loop to iterate for the entire string\n",
    "for char in mystring:\n",
    "    #Create if command and isdigit method to check for digits in string\n",
    "    if char.isdigit():\n",
    "        #Use augmented assignemnt operator to add each digit\n",
    "        digits += 1\n",
    "#Display number of digits\n",
    "print('The number of digits is', digits)"
   ]
  },
  {
   "cell_type": "markdown",
   "id": "fe470505",
   "metadata": {},
   "source": [
    "For this problem, I began by creating an accumulator named 'digits'. I then created a for loop to iterate throughout the length of the string, and used the isdigit method to add each digit to the accumulator using the augmented assignment operator. This worked to keep a count of the number of digits in the string. Finally, I used the print command to display the number of digits."
   ]
  },
  {
   "cell_type": "markdown",
   "id": "4c9134ec",
   "metadata": {},
   "source": [
    "## Programming Exercises - Problem 1"
   ]
  },
  {
   "cell_type": "markdown",
   "id": "fe98ddc5",
   "metadata": {},
   "source": [
    "Write a program that gets a string containing a person’s first, middle, and last names, and displays their first, middle, and last initials. For example, if the user enters John William Smith, the program should display J. W. S."
   ]
  },
  {
   "cell_type": "code",
   "execution_count": 7,
   "id": "8a96c2f3",
   "metadata": {},
   "outputs": [
    {
     "name": "stdout",
     "output_type": "stream",
     "text": [
      "Enter your full name in the format of first middle last:Jared Paul Hockmuth\n",
      "Your initials are: J.P.H\n"
     ]
    }
   ],
   "source": [
    "#Create get initials function\n",
    "def get_initials(mystring):\n",
    "    #Return a string with the initials of first, middle, and last names\n",
    "    return '.'.join(word[0].upper() for word in mystring.split())\n",
    "#Ask the user to input their name\n",
    "name = input('Enter your full name in the format of first middle last:')\n",
    "\n",
    "#Call get initials function to retrieve the initials and output them\n",
    "initials = get_initials(name)\n",
    "print(f'Your initials are: {initials}')"
   ]
  },
  {
   "cell_type": "markdown",
   "id": "26e53650",
   "metadata": {},
   "source": [
    "For this problem, I began by defining the get_initials function. I then Asked the user to input their full name, and subsequently prepared the code to call the get initial function, and print the results. I then created the return code to retrieve the initials from each word in the string. I did use Google's Gemini AI to assist with the formatting of this line of code, which was quite helpful. Finally, I executed the program to ensure that it functioned properly."
   ]
  },
  {
   "cell_type": "markdown",
   "id": "05a815f9",
   "metadata": {},
   "source": [
    "## Programming Exercises - Problem 9"
   ]
  },
  {
   "cell_type": "markdown",
   "id": "127b0496",
   "metadata": {},
   "source": [
    "Write a program with a function that accepts a string as an argument and returns the number of vowels that the string contains. The application should have another function that accepts a string as an argument and returns the number of consonants that the string contains. The application should let the user enter a string, and should display the number of vowels and the number of consonants it contains."
   ]
  },
  {
   "cell_type": "code",
   "execution_count": 27,
   "id": "8aaa8b8a",
   "metadata": {},
   "outputs": [
    {
     "name": "stdout",
     "output_type": "stream",
     "text": [
      "Enter a string of alphabetic charactersa, b, c, d, e, f, g, h, i\n"
     ]
    },
    {
     "ename": "AttributeError",
     "evalue": "'str' object has no attribute 'num_consonants'",
     "output_type": "error",
     "traceback": [
      "\u001b[1;31m---------------------------------------------------------------------------\u001b[0m",
      "\u001b[1;31mAttributeError\u001b[0m                            Traceback (most recent call last)",
      "Cell \u001b[1;32mIn[27], line 36\u001b[0m\n\u001b[0;32m     33\u001b[0m     \u001b[38;5;28mprint\u001b[39m(\u001b[38;5;124m'\u001b[39m\u001b[38;5;124mThe string has\u001b[39m\u001b[38;5;124m'\u001b[39m, num_vowels(mystring), \u001b[38;5;124m'\u001b[39m\u001b[38;5;124mvowels and has\u001b[39m\u001b[38;5;124m'\u001b[39m\u001b[38;5;241m.\u001b[39m \\\n\u001b[0;32m     34\u001b[0m          num_consonants(mystring), \u001b[38;5;124m'\u001b[39m\u001b[38;5;124mconsonants.\u001b[39m\u001b[38;5;124m'\u001b[39m)\n\u001b[0;32m     35\u001b[0m \u001b[38;5;66;03m#Create function for number of vowels\u001b[39;00m\n\u001b[1;32m---> 36\u001b[0m main()\n",
      "Cell \u001b[1;32mIn[27], line 34\u001b[0m, in \u001b[0;36mmain\u001b[1;34m()\u001b[0m\n\u001b[0;32m     31\u001b[0m mystring \u001b[38;5;241m=\u001b[39m \u001b[38;5;28minput\u001b[39m(\u001b[38;5;124m'\u001b[39m\u001b[38;5;124mEnter a string of alphabetic characters\u001b[39m\u001b[38;5;124m'\u001b[39m)\n\u001b[0;32m     32\u001b[0m \u001b[38;5;66;03m#Display the number of vowels and consonants in the string\u001b[39;00m\n\u001b[0;32m     33\u001b[0m \u001b[38;5;28mprint\u001b[39m(\u001b[38;5;124m'\u001b[39m\u001b[38;5;124mThe string has\u001b[39m\u001b[38;5;124m'\u001b[39m, num_vowels(mystring), \u001b[38;5;124m'\u001b[39m\u001b[38;5;124mvowels and has\u001b[39m\u001b[38;5;124m'\u001b[39m\u001b[38;5;241m.\u001b[39m \\\n\u001b[1;32m---> 34\u001b[0m      num_consonants(mystring), \u001b[38;5;124m'\u001b[39m\u001b[38;5;124mconsonants.\u001b[39m\u001b[38;5;124m'\u001b[39m)\n",
      "\u001b[1;31mAttributeError\u001b[0m: 'str' object has no attribute 'num_consonants'"
     ]
    }
   ],
   "source": [
    "def num_vowels(mystring):\n",
    "    #Create list containing vowels\n",
    "    vowels = ['a','e','i','o','u']\n",
    "    #Create accumulator\n",
    "    vowel_count = 0\n",
    "    #Count the number of vowels in string\n",
    "    for ch in mystring:\n",
    "        #If character is vowel, add to accumulator\n",
    "        if ch.lower() in vowels:\n",
    "            vowel_count += 1\n",
    "    #Return the count of vowels\n",
    "    return vowel_count\n",
    "\n",
    "\n",
    "#Create function for number of consonants\n",
    "def num_consonants(mystring):\n",
    "    #Re-use list containing vowels from above\n",
    "    vowels = ['a','e','i','o','u']\n",
    "    #Create accumulator\n",
    "    consonant_count = 0\n",
    "    #Count the number of consonants in string by determining if not a vowel\n",
    "    for ch in mystring:\n",
    "        if ch.lower() not in vowels:\n",
    "            consonant_count += 1\n",
    "    #Return the count of consonants\n",
    "    return consonant_count\n",
    "\n",
    "#Create main function\n",
    "def main():\n",
    "    #Have the user input a string of characters\n",
    "    mystring = input('Enter a string of alphabetic characters')\n",
    "    #Display the number of vowels and consonants in the string\n",
    "    print('The string has', num_vowels(mystring), 'vowels and has'. \\\n",
    "         num_consonants(mystring), 'consonants.')\n",
    "#Create function for number of vowels\n",
    "main()"
   ]
  },
  {
   "cell_type": "markdown",
   "id": "8db7dd9b",
   "metadata": {},
   "source": [
    "## Programming Exercises - Problem 10"
   ]
  },
  {
   "cell_type": "markdown",
   "id": "f1f8b478",
   "metadata": {},
   "source": [
    "Write a program that lets the user enter a string and displays the character that appears most frequently in the string."
   ]
  },
  {
   "cell_type": "code",
   "execution_count": null,
   "id": "804c21ce",
   "metadata": {},
   "outputs": [],
   "source": []
  }
 ],
 "metadata": {
  "kernelspec": {
   "display_name": "Python 3 (ipykernel)",
   "language": "python",
   "name": "python3"
  },
  "language_info": {
   "codemirror_mode": {
    "name": "ipython",
    "version": 3
   },
   "file_extension": ".py",
   "mimetype": "text/x-python",
   "name": "python",
   "nbconvert_exporter": "python",
   "pygments_lexer": "ipython3",
   "version": "3.11.7"
  }
 },
 "nbformat": 4,
 "nbformat_minor": 5
}
