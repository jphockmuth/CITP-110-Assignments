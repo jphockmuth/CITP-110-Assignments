{
 "cells": [
  {
   "cell_type": "markdown",
   "id": "caf07ad3",
   "metadata": {},
   "source": [
    "# Week 12 - Final Exam Practical"
   ]
  },
  {
   "cell_type": "markdown",
   "id": "d97f8065",
   "metadata": {},
   "source": [
    "## Problem 1"
   ]
  },
  {
   "cell_type": "markdown",
   "id": "4f3eb6a9",
   "metadata": {},
   "source": [
    "Please paste the following line of Python code in your coding environment:\n",
    "greeting = \"  Hello, little people of Earth!      \"\n",
    "\n",
    "Perform the following operations using a combination of Python functions, string methods, and math capabilities.\n",
    "\n",
    "Determine the length of the string.\n",
    "Determine if this length is evenly divisible by 5.\n",
    "Create and store a new version of the string in a newly named variable that removes any spaces at the end or the beginning of the string.\n",
    "Using string you created in step 3, store the first 5 characters of the string in a new variable.\n",
    "Using the string you created in step 4, append 59 'o' characters to the string and print out the result."
   ]
  },
  {
   "cell_type": "code",
   "execution_count": 19,
   "id": "8f8e3ab6",
   "metadata": {},
   "outputs": [
    {
     "name": "stdout",
     "output_type": "stream",
     "text": [
      "The length is 38\n",
      "Is string length divisble by 5? False\n",
      "Hello, little people of Earth!\n",
      "Hello\n",
      "Helloooooooooooooooooooooooooooooooooooooooooooooooooooooooooooo\n"
     ]
    }
   ],
   "source": [
    "#Create string\n",
    "mystring = \"  Hello, little people of Earth!      \"\n",
    "\n",
    "#Determine length\n",
    "length = len(mystring)\n",
    "#Display length of string\n",
    "print('The length is', length)\n",
    "\n",
    "#Determine if length is evenly divisble by 5\n",
    "divisible = length % 5 == 0\n",
    "#Display answer\n",
    "print('Is string length divisble by 5?', divisible)\n",
    "\n",
    "#Create new string, strip beginning and end spaces\n",
    "newstring = mystring.strip()\n",
    "#Display new string\n",
    "print(newstring)\n",
    "\n",
    "#Store first 5 characters from the new string\n",
    "fivechar = newstring [:5]\n",
    "#Display first five characters\n",
    "print(fivechar)\n",
    "\n",
    "#Using first five characters, append 59 'o's\n",
    "finalstring = fivechar + 'o' * 59\n",
    "#Display the final string\n",
    "print(finalstring)"
   ]
  },
  {
   "cell_type": "markdown",
   "id": "0ae872f6",
   "metadata": {},
   "source": [
    "## Problem 2"
   ]
  },
  {
   "cell_type": "markdown",
   "id": "12d23ea6",
   "metadata": {},
   "source": [
    "Please define a function named wow_kazow that accepts a number and then returns one of the following values:\n",
    "\n",
    "The function returns \"wow\" if the number is evenly divisible by 5.\n",
    "The function returns \"kazow\" if the number is evenly divisible by 7.\n",
    "The function returns \"wowkazow\" if the number is evenly divisible by 5 and 7.\n",
    "The function returns the number it was originally passed if the number is not divisible by either 5 or 7.\n",
    "Finally, please define a main function that loops through numbers 41 through 89 (inclusive) as inputs to the wow_kazow function and prints each of the results. Your instructor will call this main method to test your solution."
   ]
  },
  {
   "cell_type": "code",
   "execution_count": 25,
   "id": "5e644f2b",
   "metadata": {},
   "outputs": [
    {
     "name": "stdout",
     "output_type": "stream",
     "text": [
      "41\n",
      "kazow\n",
      "43\n",
      "44\n",
      "wow\n",
      "46\n",
      "47\n",
      "48\n",
      "kazow\n",
      "wow\n",
      "51\n",
      "52\n",
      "53\n",
      "54\n",
      "wow\n",
      "kazow\n",
      "57\n",
      "58\n",
      "59\n",
      "wow\n",
      "61\n",
      "62\n",
      "kazow\n",
      "64\n",
      "wow\n",
      "66\n",
      "67\n",
      "68\n",
      "69\n",
      "wowkazow\n",
      "71\n",
      "72\n",
      "73\n",
      "74\n",
      "wow\n",
      "76\n",
      "kazow\n",
      "78\n",
      "79\n",
      "wow\n",
      "81\n",
      "82\n",
      "83\n",
      "kazow\n",
      "wow\n",
      "86\n",
      "87\n",
      "88\n",
      "89\n"
     ]
    }
   ],
   "source": [
    "#Create function\n",
    "def wow_kazow(number):\n",
    "    #If number number is divisible by 5 and 7, return wowkazow\n",
    "    if  number % 5 == 0 and number % 7 == 0:\n",
    "        return 'wowkazow'\n",
    "    #If number is divisible by 5 only, return wow\n",
    "    elif number % 5 == 0:\n",
    "        return 'wow'\n",
    "    #If number is divisible by 7 only, return kazow\n",
    "    elif number % 7 == 0:\n",
    "        return 'kazow'\n",
    "    #Else, return the number\n",
    "    else:\n",
    "        return number\n",
    "\n",
    "#Create main function\n",
    "def main():\n",
    "    #Create for loop to iterate through range of numbers\n",
    "    for num in range(41, 90):\n",
    "        #Use number in range as num variable for wow_kazow function\n",
    "        answer = wow_kazow(num)\n",
    "        #Display the answer for each number in the range\n",
    "        print(answer)\n",
    "main()"
   ]
  },
  {
   "cell_type": "markdown",
   "id": "e89917ef",
   "metadata": {},
   "source": [
    "## Problem 3"
   ]
  },
  {
   "cell_type": "markdown",
   "id": "eb2d5d35",
   "metadata": {},
   "source": [
    "Please create two classes that implement all of the names, data attributes, and methods reflected in the following UML diagram. These classes will be used within an inventory management system for ACME Eyewear.\n",
    "\n",
    "The __str__() method in both classes should create a reasonable string representation for use in calls to the Python print() function.\n",
    "\n",
    "Please remember to record your work using Snagit (you'll share your recording in a separate assignment after completing this quiz) and paste the resulting code in as your response here."
   ]
  },
  {
   "cell_type": "code",
   "execution_count": 36,
   "id": "bce4d2ad",
   "metadata": {},
   "outputs": [],
   "source": [
    "#Create class named Glasses\n",
    "class Glasses:\n",
    "    #Initialize class attributes\n",
    "    def __init__(self, color, price, prescription):\n",
    "    \n",
    "        #Use accessor method\n",
    "        def get_price(self):\n",
    "            return self._price\n",
    "        def get_prescription(self):\n",
    "            return self._prescription\n",
    "    \n",
    "        #Use mutator method\n",
    "        def set_price(self, price):\n",
    "            self._price = price\n",
    "        def set_prescription(self, prescription):\n",
    "            self._prescription = prescription\n",
    "            \n",
    "        #Use string method\n",
    "        def __str__(self):\n",
    "            return 'Price: {self._price}, Prescription: {self._prescription}'\n",
    "        \n",
    "#Create subclass named Bifocals\n",
    "class Bifocals(Glasses):\n",
    "    #Initialize subclass attributes\n",
    "    def __init__(self, color, price, prescription, reading_prescription):\n",
    "    \n",
    "        #Use accessor method\n",
    "        def get_reading_prescription(self):\n",
    "            return self._reading_prescription\n",
    "        \n",
    "        #Use mutator method\n",
    "        def set_reading_prescription(self, reading_prescription):\n",
    "            self._reading_prescription = reading_prescription\n",
    "        \n",
    "        #Use string method\n",
    "        def __str__(self):\n",
    "            return 'Price: {self._price}, Prescription: {self._prescription}, Reading Prescription: {reading_prescription}'\n",
    "    "
   ]
  }
 ],
 "metadata": {
  "kernelspec": {
   "display_name": "Python 3 (ipykernel)",
   "language": "python",
   "name": "python3"
  },
  "language_info": {
   "codemirror_mode": {
    "name": "ipython",
    "version": 3
   },
   "file_extension": ".py",
   "mimetype": "text/x-python",
   "name": "python",
   "nbconvert_exporter": "python",
   "pygments_lexer": "ipython3",
   "version": "3.11.7"
  }
 },
 "nbformat": 4,
 "nbformat_minor": 5
}
