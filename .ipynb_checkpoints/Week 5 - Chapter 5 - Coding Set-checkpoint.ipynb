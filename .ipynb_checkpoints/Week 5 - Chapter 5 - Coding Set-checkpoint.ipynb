{
 "cells": [
  {
   "cell_type": "markdown",
   "id": "f193c60a",
   "metadata": {},
   "source": [
    "# Coding Set - Chapter 5 (Week 5)"
   ]
  },
  {
   "cell_type": "markdown",
   "id": "c0b20d45",
   "metadata": {},
   "source": [
    "## Algorithm Workbench - Problem 1"
   ]
  },
  {
   "cell_type": "markdown",
   "id": "52495104",
   "metadata": {},
   "source": [
    "Write a function named times_ten. The function should accept an argument and display the product of its argument multiplied times 10."
   ]
  },
  {
   "cell_type": "code",
   "execution_count": 3,
   "id": "07168b2f",
   "metadata": {},
   "outputs": [
    {
     "name": "stdout",
     "output_type": "stream",
     "text": [
      "130\n"
     ]
    }
   ],
   "source": [
    "#Define function with \"num\" as variable\n",
    "def times_ten(num):\n",
    "#Multiply the entered variable by 10 to get product\n",
    "    product=num*10\n",
    "#Print the product\n",
    "    print(product)\n",
    "#Test function\n",
    "times_ten(13)"
   ]
  },
  {
   "cell_type": "markdown",
   "id": "72d15f81",
   "metadata": {},
   "source": [
    "## Algorithm Workbench - Problem 3"
   ]
  },
  {
   "cell_type": "markdown",
   "id": "2cc71991",
   "metadata": {},
   "source": [
    "Look at the following function header:\n",
    "def my_function(a, b, c): \n",
    "Now look at the following call to my_function:﻿\n",
    "my_function(3, 2, 1) \n",
    "When this call executes, what value will be assigned to a? What value will be assigned to b? What value will be assigned to c?"
   ]
  },
  {
   "cell_type": "markdown",
   "id": "89b249f9",
   "metadata": {},
   "source": [
    "When this function executes, the values assigned will follow the same format as the variables listed in the function. Therefore, 3 will be assigned to \"a\", 2 will be assigned to \"b\", and 1 will be assigned to \"c\"."
   ]
  },
  {
   "cell_type": "markdown",
   "id": "a9ecdeae",
   "metadata": {},
   "source": [
    "## Programming Exercises - Problem 1"
   ]
  },
  {
   "cell_type": "markdown",
   "id": "042106fc",
   "metadata": {},
   "source": [
    "Write a program that asks the user to enter a distance in kilometers, then uses a function to convert that distance to miles. The conversion formula is as follows:\n",
    "\n",
    "Miles = Kilometers x 0.6214"
   ]
  },
  {
   "cell_type": "code",
   "execution_count": 5,
   "id": "7582d047",
   "metadata": {},
   "outputs": [
    {
     "name": "stdout",
     "output_type": "stream",
     "text": [
      "Please enter a distance in kilometers:100\n",
      "100.0 kilometers is equal to 62.13999999999999 miles.\n"
     ]
    }
   ],
   "source": [
    "#Define conversion factor for the program\n",
    "conversion_factor = 0.6214\n",
    "\n",
    "#Start function, have user input distance in kilometers\n",
    "def main():\n",
    "    kilometers = float(input('Please enter a distance in kilometers:'))\n",
    "    #Display the distance converted to miles\n",
    "    show_miles (kilometers)\n",
    "    \n",
    "def show_miles (km):\n",
    "    #Calculate miles using conversion formula\n",
    "    miles = km * conversion_factor\n",
    "    #Display the calculated miles to the user\n",
    "    print(km, 'kilometers is equal to', miles, 'miles.')\n",
    "main()"
   ]
  },
  {
   "cell_type": "markdown",
   "id": "f2615efb",
   "metadata": {},
   "source": [
    "Notes placeholder"
   ]
  },
  {
   "cell_type": "markdown",
   "id": "b214695c",
   "metadata": {},
   "source": [
    "## Programming Exercises - Problem 3"
   ]
  },
  {
   "cell_type": "markdown",
   "id": "b50af690",
   "metadata": {},
   "source": [
    "Many financial experts advise that property owners should insure their homes or buildings for at least 80 percent of the amount it would cost to replace the structure. Write a program that asks the user to enter the replacement cost of a building, then displays the minimum amount of insurance he or she should buy for the property."
   ]
  },
  {
   "cell_type": "code",
   "execution_count": 8,
   "id": "a5a728ed",
   "metadata": {},
   "outputs": [
    {
     "name": "stdout",
     "output_type": "stream",
     "text": [
      "Enter the replacement cost of your building:100000\n",
      "80000.0 is the recommended minimum amount of insurance\n"
     ]
    }
   ],
   "source": [
    "#Define replacement percentage as 80% of value\n",
    "replacement_percentage = 0.8\n",
    "\n",
    "#Start function, have user input the replacement cost of a building\n",
    "def main():\n",
    "    replacement_cost = int(input('Enter the replacement cost of your building:'))\n",
    "    #Display the recommended amount of insurance\n",
    "    recommended_insurance (replacement_cost)\n",
    "    \n",
    "def recommended_insurance (rc):\n",
    "    #Calculate recommended insurance using formula\n",
    "    insurance = rc * replacement_percentage\n",
    "    #Display the recommended insurance to the user\n",
    "    print(insurance, 'is the recommended minimum amount of insurance')\n",
    "main()\n",
    "    "
   ]
  },
  {
   "cell_type": "markdown",
   "id": "ee50a2fd",
   "metadata": {},
   "source": [
    "Notes placeholder"
   ]
  },
  {
   "cell_type": "markdown",
   "id": "abfc816b",
   "metadata": {},
   "source": [
    "## Programming Exercises - Problem 16"
   ]
  },
  {
   "cell_type": "markdown",
   "id": "e0df9fdb",
   "metadata": {},
   "source": [
    "A prime number is a number that is only evenly divisible by itself and 1. For example, the number 5 is prime because it can only be evenly divided by 1 and 5. The number 6, however, is not prime because it can be divided evenly by 1, 2, 3, and 6.\n",
    "\n",
    "Write a Boolean function named is_prime which takes an integer as an argument and returns true if the argument is a prime number, or false otherwise. Use the function in a program that prompts the user to enter a number then displays a message indicating whether the number is prime."
   ]
  },
  {
   "cell_type": "code",
   "execution_count": 51,
   "id": "c6e2d645",
   "metadata": {},
   "outputs": [],
   "source": [
    "import math\n",
    "#Create main function\n",
    "def main():\n",
    "    num = int(input('Please enter a number to test if it is prime'))\n",
    "    #If number is prime, display to the user\n",
    "    if is_prime(num):\n",
    "        print('You found a prime number!')\n",
    "    else:\n",
    "        print('This number is not a prime number!')\n",
    "#Create function to test if entered number is prime\n",
    "def is_prime(num):\n",
    "    #Test range beginning from 2 - going until the entered number\n",
    "    for i in range(2, math.floor(math.sqrt(num)) + 1):\n",
    "        if num % i == 0:\n",
    "            return False\n",
    "    return True"
   ]
  },
  {
   "cell_type": "code",
   "execution_count": 40,
   "id": "d77505af",
   "metadata": {},
   "outputs": [
    {
     "data": {
      "text/plain": [
       "False"
      ]
     },
     "execution_count": 40,
     "metadata": {},
     "output_type": "execute_result"
    }
   ],
   "source": [
    "is_prime(6)"
   ]
  },
  {
   "cell_type": "code",
   "execution_count": 42,
   "id": "252fc103",
   "metadata": {},
   "outputs": [
    {
     "data": {
      "text/plain": [
       "False"
      ]
     },
     "execution_count": 42,
     "metadata": {},
     "output_type": "execute_result"
    }
   ],
   "source": [
    "is_prime(39)"
   ]
  },
  {
   "cell_type": "code",
   "execution_count": 50,
   "id": "07a8d28e",
   "metadata": {},
   "outputs": [
    {
     "name": "stdout",
     "output_type": "stream",
     "text": [
      "Please enter a number to test if it is prime 5479\n",
      "You found a prime number!\n"
     ]
    }
   ],
   "source": [
    "main()"
   ]
  },
  {
   "cell_type": "markdown",
   "id": "74bee524",
   "metadata": {},
   "source": [
    "## Programming Exercises - Problem 17"
   ]
  },
  {
   "cell_type": "markdown",
   "id": "cca7887c",
   "metadata": {},
   "source": [
    "This exercise assumes that you have already written the is_prime function in Programming Exercise 16. Write another program that displays all of the prime numbers from 1 to 100. The program should have a loop that calls the is_prime function."
   ]
  },
  {
   "cell_type": "code",
   "execution_count": 57,
   "id": "705d8c3b",
   "metadata": {},
   "outputs": [
    {
     "name": "stdout",
     "output_type": "stream",
     "text": [
      "Prime numbers from 1 to 100:\n"
     ]
    },
    {
     "ename": "NameError",
     "evalue": "name 'prime_numbers' is not defined",
     "output_type": "error",
     "traceback": [
      "\u001b[1;31m---------------------------------------------------------------------------\u001b[0m",
      "\u001b[1;31mNameError\u001b[0m                                 Traceback (most recent call last)",
      "Cell \u001b[1;32mIn[57], line 24\u001b[0m\n\u001b[0;32m     22\u001b[0m \u001b[38;5;66;03m#Once function has been ran, display the prime numbers found\u001b[39;00m\n\u001b[0;32m     23\u001b[0m \u001b[38;5;28mprint\u001b[39m(\u001b[38;5;124m'\u001b[39m\u001b[38;5;124mPrime numbers from 1 to 100:\u001b[39m\u001b[38;5;124m'\u001b[39m)\n\u001b[1;32m---> 24\u001b[0m \u001b[38;5;28mprint\u001b[39m(prime_numbers)\n",
      "\u001b[1;31mNameError\u001b[0m: name 'prime_numbers' is not defined"
     ]
    }
   ],
   "source": [
    "#Most of this code can be re-used, it simply requires changes to the main function\n",
    "import math\n",
    "#Create main function\n",
    "def main():\n",
    "    #Create list of prime numbers\n",
    "    prime_numbers = []\n",
    "    #Create range for program to check within\n",
    "    for num in range (1, 101):\n",
    "    #If number is prime, display to the user\n",
    "        if is_prime(num):\n",
    "            prime_numbers.append(num)\n",
    "#Create function to test if entered number is prime\n",
    "def is_prime(num):\n",
    "    #error check to avoid 0 or negative numbers\n",
    "    if num <= 1:\n",
    "        return False\n",
    "    #Test range beginning from 2 - going until the entered number\n",
    "    for i in range(2, math.floor(math.sqrt(num)) + 1):\n",
    "        if num % i == 0:\n",
    "            return False\n",
    "    return True\n",
    "#Once function has been ran, display the prime numbers found\n",
    "print('Prime numbers from 1 to 100:')\n",
    "print(prime_numbers)"
   ]
  },
  {
   "cell_type": "code",
   "execution_count": null,
   "id": "68b4aa40",
   "metadata": {},
   "outputs": [],
   "source": []
  }
 ],
 "metadata": {
  "kernelspec": {
   "display_name": "Python 3 (ipykernel)",
   "language": "python",
   "name": "python3"
  },
  "language_info": {
   "codemirror_mode": {
    "name": "ipython",
    "version": 3
   },
   "file_extension": ".py",
   "mimetype": "text/x-python",
   "name": "python",
   "nbconvert_exporter": "python",
   "pygments_lexer": "ipython3",
   "version": "3.11.7"
  }
 },
 "nbformat": 4,
 "nbformat_minor": 5
}
