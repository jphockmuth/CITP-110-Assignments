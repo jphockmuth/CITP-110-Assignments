{
 "cells": [
  {
   "cell_type": "markdown",
   "id": "43a8d242",
   "metadata": {},
   "source": [
    "# Coding Set - Chapter 5 (Week 5)"
   ]
  },
  {
   "cell_type": "markdown",
   "id": "83d2b3e5",
   "metadata": {},
   "source": [
    "## Algorithm Workbench - Problem 1"
   ]
  },
  {
   "cell_type": "markdown",
   "id": "0639fac1",
   "metadata": {},
   "source": [
    "Write a function named times_ten. The function should accept an argument and display the product of its argument multiplied times 10."
   ]
  },
  {
   "cell_type": "code",
   "execution_count": null,
   "id": "9fd8191e",
   "metadata": {},
   "outputs": [],
   "source": [
    "#Define function with \"num\" as variable\n",
    "def times_ten(num):\n",
    "#Multiply the entered variable by 10\n",
    "product=num*10\n",
    "\n",
    "    "
   ]
  }
 ],
 "metadata": {
  "kernelspec": {
   "display_name": "Python 3 (ipykernel)",
   "language": "python",
   "name": "python3"
  },
  "language_info": {
   "codemirror_mode": {
    "name": "ipython",
    "version": 3
   },
   "file_extension": ".py",
   "mimetype": "text/x-python",
   "name": "python",
   "nbconvert_exporter": "python",
   "pygments_lexer": "ipython3",
   "version": "3.11.7"
  }
 },
 "nbformat": 4,
 "nbformat_minor": 5
}
