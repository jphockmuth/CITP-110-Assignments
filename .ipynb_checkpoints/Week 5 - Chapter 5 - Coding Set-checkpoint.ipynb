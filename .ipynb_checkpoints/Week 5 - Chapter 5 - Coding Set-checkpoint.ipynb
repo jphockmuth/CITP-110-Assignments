{
 "cells": [
  {
   "cell_type": "markdown",
   "id": "f193c60a",
   "metadata": {},
   "source": [
    "# Coding Set - Chapter 5 (Week 5)"
   ]
  },
  {
   "cell_type": "markdown",
   "id": "c0b20d45",
   "metadata": {},
   "source": [
    "## Algorithm Workbench - Problem 1"
   ]
  },
  {
   "cell_type": "markdown",
   "id": "52495104",
   "metadata": {},
   "source": [
    "Write a function named times_ten. The function should accept an argument and display the product of its argument multiplied times 10."
   ]
  },
  {
   "cell_type": "code",
   "execution_count": 3,
   "id": "07168b2f",
   "metadata": {},
   "outputs": [
    {
     "name": "stdout",
     "output_type": "stream",
     "text": [
      "130\n"
     ]
    }
   ],
   "source": [
    "#Define function with \"num\" as variable\n",
    "def times_ten(num):\n",
    "#Multiply the entered variable by 10 to get product\n",
    "    product=num*10\n",
    "#Print the product\n",
    "    print(product)\n",
    "#Test function\n",
    "times_ten(13)"
   ]
  },
  {
   "cell_type": "markdown",
   "id": "72d15f81",
   "metadata": {},
   "source": [
    "## Algorithm Workbench - Problem 3"
   ]
  },
  {
   "cell_type": "markdown",
   "id": "2cc71991",
   "metadata": {},
   "source": [
    "Look at the following function header:\n",
    "def my_function(a, b, c): \n",
    "Now look at the following call to my_function:﻿\n",
    "my_function(3, 2, 1) \n",
    "When this call executes, what value will be assigned to a? What value will be assigned to b? What value will be assigned to c?"
   ]
  },
  {
   "cell_type": "markdown",
   "id": "89b249f9",
   "metadata": {},
   "source": [
    "When this function executes, the values assigned will follow the same format as the variables listed in the function. Therefore, 3 will be assigned to \"a\", 2 will be assigned to \"b\", and 1 will be assigned to \"c\"."
   ]
  },
  {
   "cell_type": "markdown",
   "id": "f41be005",
   "metadata": {},
   "source": [
    "## Programming Exercises - Problem 1"
   ]
  },
  {
   "cell_type": "markdown",
   "id": "5e5cceaa",
   "metadata": {},
   "source": [
    "Write a program that asks the user to enter a distance in kilometers, then uses a function to convert that distance to miles. The conversion formula is as follows:\n",
    "\n",
    "Miles = Kilometers x 0.6214"
   ]
  },
  {
   "cell_type": "code",
   "execution_count": 5,
   "id": "41c28b30",
   "metadata": {},
   "outputs": [
    {
     "name": "stdout",
     "output_type": "stream",
     "text": [
      "Please enter a distance in kilometers:100\n",
      "100.0 kilometers is equal to 62.13999999999999 miles.\n"
     ]
    }
   ],
   "source": [
    "#Define conversion factor for the program\n",
    "conversion_factor = 0.6214\n",
    "\n",
    "#Start function, have user input distance in kilometers\n",
    "def main():\n",
    "    kilometers = float(input('Please enter a distance in kilometers:'))\n",
    "    #Display the distance converted to miles\n",
    "    show_miles (kilometers)\n",
    "    \n",
    "def show_miles (km):\n",
    "    #Calculate miles using conversion formula\n",
    "    miles = km * conversion_factor\n",
    "    #Display the calculated miles to the user\n",
    "    print(km, 'kilometers is equal to', miles, 'miles.')\n",
    "main()"
   ]
  },
  {
   "cell_type": "markdown",
   "id": "77334039",
   "metadata": {},
   "source": [
    "Notes placeholder"
   ]
  },
  {
   "cell_type": "markdown",
   "id": "80054939",
   "metadata": {},
   "source": [
    "## Programming Exercises - Problem 3"
   ]
  },
  {
   "cell_type": "markdown",
   "id": "71fc2bd9",
   "metadata": {},
   "source": [
    "Many financial experts advise that property owners should insure their homes or buildings for at least 80 percent of the amount it would cost to replace the structure. Write a program that asks the user to enter the replacement cost of a building, then displays the minimum amount of insurance he or she should buy for the property."
   ]
  },
  {
   "cell_type": "code",
   "execution_count": 8,
   "id": "c0b1647b",
   "metadata": {},
   "outputs": [
    {
     "name": "stdout",
     "output_type": "stream",
     "text": [
      "Enter the replacement cost of your building:100000\n",
      "80000.0 is the recommended minimum amount of insurance\n"
     ]
    }
   ],
   "source": [
    "#Define replacement percentage as 80% of value\n",
    "replacement_percentage = 0.8\n",
    "\n",
    "#Start function, have user input the replacement cost of a building\n",
    "def main():\n",
    "    replacement_cost = int(input('Enter the replacement cost of your building:'))\n",
    "    #Display the recommended amount of insurance\n",
    "    recommended_insurance (replacement_cost)\n",
    "    \n",
    "def recommended_insurance (rc):\n",
    "    #Calculate recommended insurance using formula\n",
    "    insurance = rc * replacement_percentage\n",
    "    #Display the recommended insurance to the user\n",
    "    print(insurance, 'is the recommended minimum amount of insurance')\n",
    "main()\n",
    "    "
   ]
  },
  {
   "cell_type": "markdown",
   "id": "1c52d797",
   "metadata": {},
   "source": [
    "Notes placeholder"
   ]
  },
  {
   "cell_type": "markdown",
   "id": "e67e83a3",
   "metadata": {},
   "source": [
    "## Programming Exercises - Problem 16"
   ]
  },
  {
   "cell_type": "markdown",
   "id": "a820c431",
   "metadata": {},
   "source": [
    "A prime number is a number that is only evenly divisible by itself and 1. For example, the number 5 is prime because it can only be evenly divided by 1 and 5. The number 6, however, is not prime because it can be divided evenly by 1, 2, 3, and 6.\n",
    "\n",
    "Write a Boolean function named is_prime which takes an integer as an argument and returns true if the argument is a prime number, or false otherwise. Use the function in a program that prompts the user to enter a number then displays a message indicating whether the number is prime."
   ]
  },
  {
   "cell_type": "code",
   "execution_count": 34,
   "id": "0725f3fc",
   "metadata": {},
   "outputs": [],
   "source": [
    "import math\n",
    "#Create main function\n",
    "def main():\n",
    "    num = int(input('Please enter a number to test if it is prime'))\n",
    "\n",
    "#Create function to test if entered number is prime\n",
    "def is_prime(num):\n",
    "    #Test range beginning from 2 - going until the entered number\n",
    "    for i in range(2, math.floor(math.sqrt(num)) + 1):\n",
    "        if num % i == 0:\n",
    "            return False\n",
    "    return True"
   ]
  },
  {
   "cell_type": "code",
   "execution_count": 35,
   "id": "29878397",
   "metadata": {},
   "outputs": [
    {
     "data": {
      "text/plain": [
       "True"
      ]
     },
     "execution_count": 35,
     "metadata": {},
     "output_type": "execute_result"
    }
   ],
   "source": [
    "is_prime(5)"
   ]
  },
  {
   "cell_type": "code",
   "execution_count": 36,
   "id": "191c40e3",
   "metadata": {},
   "outputs": [
    {
     "data": {
      "text/plain": [
       "False"
      ]
     },
     "execution_count": 36,
     "metadata": {},
     "output_type": "execute_result"
    }
   ],
   "source": [
    "is_prime(24)"
   ]
  },
  {
   "cell_type": "markdown",
   "id": "6f3c3563",
   "metadata": {},
   "source": [
    "## Programming Exercises - Problem 17"
   ]
  },
  {
   "cell_type": "markdown",
   "id": "9752c75b",
   "metadata": {},
   "source": [
    "This exercise assumes that you have already written the is_prime function in Programming Exercise 16. Write another program that displays all of the prime numbers from 1 to 100. The program should have a loop that calls the is_prime function."
   ]
  },
  {
   "cell_type": "code",
   "execution_count": null,
   "id": "540db872",
   "metadata": {},
   "outputs": [],
   "source": []
  }
 ],
 "metadata": {
  "kernelspec": {
   "display_name": "Python 3 (ipykernel)",
   "language": "python",
   "name": "python3"
  },
  "language_info": {
   "codemirror_mode": {
    "name": "ipython",
    "version": 3
   },
   "file_extension": ".py",
   "mimetype": "text/x-python",
   "name": "python",
   "nbconvert_exporter": "python",
   "pygments_lexer": "ipython3",
   "version": "3.11.7"
  }
 },
 "nbformat": 4,
 "nbformat_minor": 5
}
