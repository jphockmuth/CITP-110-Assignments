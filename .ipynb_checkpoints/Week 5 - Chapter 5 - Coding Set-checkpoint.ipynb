{
 "cells": [
  {
   "cell_type": "markdown",
   "id": "f193c60a",
   "metadata": {},
   "source": [
    "# Coding Set - Chapter 5 (Week 5)"
   ]
  },
  {
   "cell_type": "markdown",
   "id": "c0b20d45",
   "metadata": {},
   "source": [
    "## Algorithm Workbench - Problem 1"
   ]
  },
  {
   "cell_type": "markdown",
   "id": "52495104",
   "metadata": {},
   "source": [
    "Write a function named times_ten. The function should accept an argument and display the product of its argument multiplied times 10."
   ]
  },
  {
   "cell_type": "code",
   "execution_count": 3,
   "id": "07168b2f",
   "metadata": {},
   "outputs": [
    {
     "name": "stdout",
     "output_type": "stream",
     "text": [
      "130\n"
     ]
    }
   ],
   "source": [
    "#Define function with \"num\" as variable\n",
    "def times_ten(num):\n",
    "#Multiply the entered variable by 10 to get product\n",
    "    product=num*10\n",
    "#Print the product\n",
    "    print(product)\n",
    "#Test function\n",
    "times_ten(13)"
   ]
  },
  {
   "cell_type": "markdown",
   "id": "72d15f81",
   "metadata": {},
   "source": [
    "## Algorithm Workbench - Problem 3"
   ]
  },
  {
   "cell_type": "markdown",
   "id": "2cc71991",
   "metadata": {},
   "source": [
    "Look at the following function header:\n",
    "def my_function(a, b, c): \n",
    "Now look at the following call to my_function:﻿\n",
    "my_function(3, 2, 1) \n",
    "When this call executes, what value will be assigned to a? What value will be assigned to b? What value will be assigned to c?"
   ]
  },
  {
   "cell_type": "markdown",
   "id": "89b249f9",
   "metadata": {},
   "source": [
    "When this function executes, the values assigned will follow the same format as the variables listed in the function. Therefore, 3 will be assigned to \"a\", 2 will be assigned to \"b\", and 1 will be assigned to \"c\"."
   ]
  },
  {
   "cell_type": "markdown",
   "id": "9e660135",
   "metadata": {},
   "source": [
    "## Programming Exercises - Problem 1"
   ]
  },
  {
   "cell_type": "markdown",
   "id": "a7084117",
   "metadata": {},
   "source": [
    "Write a program that asks the user to enter a distance in kilometers, then uses a function to convert that distance to miles. The conversion formula is as follows:\n",
    "\n",
    "Miles = Kilometers x 0.6214"
   ]
  },
  {
   "cell_type": "code",
   "execution_count": null,
   "id": "5aebdb7a",
   "metadata": {},
   "outputs": [],
   "source": []
  }
 ],
 "metadata": {
  "kernelspec": {
   "display_name": "Python 3 (ipykernel)",
   "language": "python",
   "name": "python3"
  },
  "language_info": {
   "codemirror_mode": {
    "name": "ipython",
    "version": 3
   },
   "file_extension": ".py",
   "mimetype": "text/x-python",
   "name": "python",
   "nbconvert_exporter": "python",
   "pygments_lexer": "ipython3",
   "version": "3.11.7"
  }
 },
 "nbformat": 4,
 "nbformat_minor": 5
}
