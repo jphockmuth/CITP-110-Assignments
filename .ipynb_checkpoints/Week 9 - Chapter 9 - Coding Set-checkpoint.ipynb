{
 "cells": [
  {
   "cell_type": "markdown",
   "id": "b89a1747",
   "metadata": {},
   "source": [
    "# Coding Set - Chapter 9 (Week 9)"
   ]
  },
  {
   "cell_type": "markdown",
   "id": "5c6ee7a2",
   "metadata": {},
   "source": [
    "## Programming Exercises - Problem 3"
   ]
  },
  {
   "cell_type": "markdown",
   "id": "eb06a09c",
   "metadata": {},
   "source": [
    "Write a program that creates a dictionary containing the U.S. states as keys, and their capitals as values. (Use the Internet to get a list of the states and their capitals.) The program should then randomly quiz the user by displaying the name of a state and asking the user to enter that state’s capital. The program should keep a count of the number of correct and incorrect responses. (As an alternative to the U.S. states, the program can use the names of countries and their capitals.)"
   ]
  },
  {
   "cell_type": "code",
   "execution_count": null,
   "id": "1a29b356",
   "metadata": {},
   "outputs": [
    {
     "name": "stdout",
     "output_type": "stream",
     "text": [
      "What is the capitol of Wyoming\n"
     ]
    }
   ],
   "source": [
    "#Create constant for the number of states to quiz the user on\n",
    "num_states = 10\n",
    "\n",
    "#Create main function to call\n",
    "def main():\n",
    "    #Create variable for the state cap dictionary\n",
    "    state_caps = state_cap_dictionary()\n",
    "    \n",
    "    #Create accumulators to keep count of correct/incorrect answers\n",
    "    correct = 0\n",
    "    incorrect = 0\n",
    "    \n",
    "    #Create for loop to quiz the user based on the number listed as num_states\n",
    "    for count in range (num_states):\n",
    "        #Get a random city/state pair from the dictionary\n",
    "        state, capitol = state_caps.popitem()\n",
    "        \n",
    "        #Ask for the user to input the capitol of the given state\n",
    "        print('What is the capitol of', state)\n",
    "        #Get response from user\n",
    "        response = input()\n",
    "        \n",
    "        #Use if function to determine if user is correct\n",
    "        if response.lower() == capitol.lower():\n",
    "            #Use augmented assignment operator to keep count\n",
    "            correct += 1\n",
    "            print(' You are correct!')\n",
    "        else:\n",
    "            #Use augmented assignment operator to keep count\n",
    "            incorrect += 1\n",
    "            print('You are incorrect.')\n",
    "            \n",
    "    #Display the results to the user\n",
    "    print('You answered', correct, 'correctly and', incorrect, 'incorrectly.')\n",
    "\n",
    "#Create dictionary of States and Capitols\n",
    "def state_cap_dictionary():\n",
    "    sc = {'Alabama' : 'Montgomery',\n",
    "    'Alaska' : 'Juneau',\n",
    "    'Arizona' :'Phoenix',\n",
    "    'Arkansas' :'Little Rock',\n",
    "    'California' : 'Sacramento',\n",
    "    'Colorado' :'Denver',\n",
    "    'Connecticut':'Hartford',\n",
    "    'Delaware' :'Dover',\n",
    "    'Florida' : 'Tallahassee',\n",
    "    'Georgia' : 'Atlanta',\n",
    "    'Hawaii' : 'Honolulu',\n",
    "    'Idaho' : 'Boise',\n",
    "    'Illinios' : 'Springfield',\n",
    "    'Indiana' : 'Indianapolis',\n",
    "    'Iowa' : 'Des Monies',\n",
    "    'Kansas' : 'Topeka',\n",
    "    'Kentucky' : 'Frankfort',\n",
    "    'Louisiana' : 'Baton Rouge',\n",
    "    'Maine' : 'Augusta',\n",
    "    'Maryland' : 'Annapolis',\n",
    "    'Massachusetts' : 'Boston',\n",
    "    'Michigan' : 'Lansing',\n",
    "    'Minnesota' : 'St. Paul',\n",
    "    'Mississippi' : 'Jackson',\n",
    "    'Missouri' : 'Jefferson City',\n",
    "    'Montana' : 'Helena',\n",
    "    'Nebraska' : 'Lincoln',\n",
    "    'Neveda' : 'Carson City',\n",
    "    'New Hampshire' : 'Concord',\n",
    "    'New Jersey' : 'Trenton',\n",
    "    'New Mexico' : 'Santa Fe',\n",
    "    'New York' : 'Albany',\n",
    "    'North Carolina' : 'Raleigh',\n",
    "    'North Dakota' : 'Bismarck',\n",
    "    'Ohio' : 'Columbus',\n",
    "    'Oklahoma' : 'Oklahoma City',\n",
    "    'Oregon' : 'Salem',\n",
    "    'Pennsylvania' : 'Harrisburg',\n",
    "    'Rhoda Island' : 'Providence',\n",
    "    'South Carolina' : 'Columbia',\n",
    "    'South Dakoda' : 'Pierre',\n",
    "    'Tennessee' : 'Nashville',\n",
    "    'Texas' : 'Austin',\n",
    "    'Utah' : 'Salt Lake City',\n",
    "    'Vermont' : 'Montpelier',\n",
    "    'Virginia' : 'Richmond',\n",
    "    'Washington' : 'Olympia',\n",
    "    'West Virginia' : 'Charleston',\n",
    "    'Wisconsin' : 'Madison',\n",
    "    'Wyoming' : 'Cheyenne'}\n",
    "    #Added return statement to end program\n",
    "    return sc\n",
    "\n",
    "#Call main function\n",
    "main()"
   ]
  },
  {
   "cell_type": "code",
   "execution_count": null,
   "id": "2aa9608d",
   "metadata": {},
   "outputs": [],
   "source": []
  }
 ],
 "metadata": {
  "kernelspec": {
   "display_name": "Python 3 (ipykernel)",
   "language": "python",
   "name": "python3"
  },
  "language_info": {
   "codemirror_mode": {
    "name": "ipython",
    "version": 3
   },
   "file_extension": ".py",
   "mimetype": "text/x-python",
   "name": "python",
   "nbconvert_exporter": "python",
   "pygments_lexer": "ipython3",
   "version": "3.11.7"
  }
 },
 "nbformat": 4,
 "nbformat_minor": 5
}
