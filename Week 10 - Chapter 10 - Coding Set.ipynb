{
 "cells": [
  {
   "cell_type": "markdown",
   "id": "9ff745d8",
   "metadata": {},
   "source": [
    "# Coding Set - Chapter 10 (Week 10)"
   ]
  },
  {
   "cell_type": "markdown",
   "id": "eb4213f8",
   "metadata": {},
   "source": [
    "## Programming Exercises - Problem 2"
   ]
  },
  {
   "cell_type": "markdown",
   "id": "07cf3f5d",
   "metadata": {},
   "source": [
    "Write a class named Car that has the following data attributes:\n",
    "\n",
    "__year_model (for the car’s year model)\n",
    "__make (for the make of the car)\n",
    "__speed (for the car’s current speed)\n",
    "The Car class should have an __init__ method that accepts the car’s year model and make as arguments. These values should be assigned to the object’s __year_model and __make data attributes. It should also assign 0 to the __speed data attribute.\n",
    "\n",
    "The class should also have the following methods:\n",
    "\n",
    "accelerate\n",
    "The accelerate method should add 5 to the speed data attribute each time it is called.\n",
    "brake \n",
    "The brake method should subtract 5 from the speed data attribute each time it is called.\n",
    "get_speed\n",
    "The get_speed method should return the current speed.\n",
    "Next, design a program that creates a Car object then calls the accelerate method five times. After each call to the accelerate method, get the current speed of the car and display it. Then call the brake method five times. After each call to the brake method, get the current speed of the car and display it."
   ]
  },
  {
   "cell_type": "code",
   "execution_count": null,
   "id": "454d78c8",
   "metadata": {},
   "outputs": [],
   "source": []
  },
  {
   "cell_type": "markdown",
   "id": "80518b98",
   "metadata": {},
   "source": [
    "## Programming Exercises - Problem 3"
   ]
  },
  {
   "cell_type": "markdown",
   "id": "97a6a426",
   "metadata": {},
   "source": [
    "Design a class that holds the following personal data: name, address, age, and phone number. Write appropriate accessor and mutator methods. Also, write a program that creates three instances of the class. Each instance should hold fictional information for a fake person. (For privacy purposes, do not store real personal information in your program.)"
   ]
  },
  {
   "cell_type": "code",
   "execution_count": null,
   "id": "e6775e50",
   "metadata": {},
   "outputs": [],
   "source": []
  }
 ],
 "metadata": {
  "kernelspec": {
   "display_name": "Python 3 (ipykernel)",
   "language": "python",
   "name": "python3"
  },
  "language_info": {
   "codemirror_mode": {
    "name": "ipython",
    "version": 3
   },
   "file_extension": ".py",
   "mimetype": "text/x-python",
   "name": "python",
   "nbconvert_exporter": "python",
   "pygments_lexer": "ipython3",
   "version": "3.11.7"
  }
 },
 "nbformat": 4,
 "nbformat_minor": 5
}
