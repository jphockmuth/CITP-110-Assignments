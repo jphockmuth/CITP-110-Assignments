{
 "cells": [
  {
   "cell_type": "markdown",
   "id": "5343dcfb",
   "metadata": {},
   "source": [
    "# Coding Set - Chapter 1"
   ]
  },
  {
   "cell_type": "markdown",
   "id": "af2c0cab",
   "metadata": {},
   "source": [
    "## Exercises 1, 3, 6"
   ]
  },
  {
   "cell_type": "markdown",
   "id": "efa46a7a",
   "metadata": {},
   "source": [
    "Exercise 1 - Demonostrating the ability to use the print statement/function as requested by the Textbook."
   ]
  },
  {
   "cell_type": "code",
   "execution_count": 1,
   "id": "6471a07e",
   "metadata": {},
   "outputs": [
    {
     "name": "stdout",
     "output_type": "stream",
     "text": [
      "This is a test of the Python interpreter\n"
     ]
    }
   ],
   "source": [
    "# Below are a few examples demonstrating the print function\n",
    "\n",
    "print('This is a test of the Python interpreter')"
   ]
  },
  {
   "cell_type": "code",
   "execution_count": 2,
   "id": "cfc68fc2",
   "metadata": {},
   "outputs": [
    {
     "name": "stdout",
     "output_type": "stream",
     "text": [
      "I wrote this one with the double quotations\n"
     ]
    }
   ],
   "source": [
    "print (\"I wrote this one with the double quotations\")"
   ]
  },
  {
   "cell_type": "code",
   "execution_count": 3,
   "id": "fec01ad2",
   "metadata": {},
   "outputs": [
    {
     "name": "stdout",
     "output_type": "stream",
     "text": [
      "Hello, my name is Jared\n"
     ]
    }
   ],
   "source": [
    "print ('Hello, my name is Jared')"
   ]
  },
  {
   "cell_type": "markdown",
   "id": "df164996",
   "metadata": {},
   "source": [
    "Exercise 3 - Demonstrating the ability to convert decimal numbers to Binary"
   ]
  },
  {
   "cell_type": "markdown",
   "id": "5f3c6e57",
   "metadata": {},
   "source": [
    "The values of binary digits are expressed as powers of two. Starting from the right, the binary digits ascend from 2^0 until they reach 2^7 at the final digit. These digits expressed in real numbers read as follows (left to right) 128, 64, 32, 16, 8, 4, 2, 1. Please see the decimal numbers listed below and how they convert to binary.\n",
    "\n",
    "11 - 00001011\n",
    "65 - 01000001\n",
    "100 - 01100100\n",
    "255 - 11111111"
   ]
  },
  {
   "cell_type": "markdown",
   "id": "f56d66bd",
   "metadata": {},
   "source": [
    "Exercise 6 - Answering questions regarding the history of Python"
   ]
  },
  {
   "cell_type": "markdown",
   "id": "62c8ea69",
   "metadata": {},
   "source": [
    "Question: Who was the creator of Python?\n",
    "Answer: Python was created by Guido van Rossum. (pythoninstitute.org)\n",
    "\n",
    "Question: When was Python created?\n",
    "Answer: Guido Van Rossum first released Python on February 20th, 1991. (pythoninstitute.org)\n",
    "\n",
    "Question: In the Python programming community, the person who created Python is commonly referred to as the “BDFL.” What does this mean?\n",
    "Answer: The term BDFL, or \"Benevolent Dictator For Life\" is a title given to open-source software development leaders, typically founders, who play the role of mediator in any disputes or arguments within the software community. (computerhistory.org)"
   ]
  }
 ],
 "metadata": {
  "kernelspec": {
   "display_name": "Python 3 (ipykernel)",
   "language": "python",
   "name": "python3"
  },
  "language_info": {
   "codemirror_mode": {
    "name": "ipython",
    "version": 3
   },
   "file_extension": ".py",
   "mimetype": "text/x-python",
   "name": "python",
   "nbconvert_exporter": "python",
   "pygments_lexer": "ipython3",
   "version": "3.11.7"
  }
 },
 "nbformat": 4,
 "nbformat_minor": 5
}
