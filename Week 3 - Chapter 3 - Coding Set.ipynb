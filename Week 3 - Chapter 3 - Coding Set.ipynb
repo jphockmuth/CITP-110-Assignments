{
 "cells": [
  {
   "cell_type": "markdown",
   "id": "3cbdd5e6",
   "metadata": {},
   "source": [
    "# Coding Set - Chapter 3 (Week 3)"
   ]
  },
  {
   "cell_type": "markdown",
   "id": "5b868ece",
   "metadata": {},
   "source": [
    "## Algorithm Workbench - Problem 4"
   ]
  },
  {
   "cell_type": "markdown",
   "id": "a392b257",
   "metadata": {},
   "source": [
    "The following code contains several nested  statements. Unfortunately, it was written without proper alignment and indentation. Rewrite the code and use the proper conventions of alignment and indentation.\n",
    "\n",
    "if score >= A_score: \n",
    "print('Your grade is A.') \n",
    "else: \n",
    "if score >= B_score: \n",
    "print('Your grade is B.') \n",
    "else: \n",
    "if score >= C_score: \n",
    "print('Your grade is C.') \n",
    "else: \n",
    "if score >= D_score: \n",
    "print('Your grade is D.') \n",
    "else: \n",
    "print('Your grade is F.') "
   ]
  },
  {
   "cell_type": "code",
   "execution_count": 10,
   "id": "c2f55acb",
   "metadata": {},
   "outputs": [
    {
     "ename": "NameError",
     "evalue": "name 'A_score' is not defined",
     "output_type": "error",
     "traceback": [
      "\u001b[1;31m---------------------------------------------------------------------------\u001b[0m",
      "\u001b[1;31mNameError\u001b[0m                                 Traceback (most recent call last)",
      "Cell \u001b[1;32mIn[10], line 1\u001b[0m\n\u001b[1;32m----> 1\u001b[0m \u001b[38;5;28;01mif\u001b[39;00m score \u001b[38;5;241m>\u001b[39m\u001b[38;5;241m=\u001b[39m A_score: \n\u001b[0;32m      2\u001b[0m     \u001b[38;5;28mprint\u001b[39m(\u001b[38;5;124m'\u001b[39m\u001b[38;5;124mYour grade is A.\u001b[39m\u001b[38;5;124m'\u001b[39m) \n\u001b[0;32m      3\u001b[0m \u001b[38;5;28;01melse\u001b[39;00m: \n",
      "\u001b[1;31mNameError\u001b[0m: name 'A_score' is not defined"
     ]
    }
   ],
   "source": [
    "if score >= A_score: \n",
    "    print('Your grade is A.') \n",
    "else: \n",
    "    if score >= B_score: \n",
    "        print('Your grade is B.') \n",
    "    else: \n",
    "        if score >= C_score: \n",
    "            print('Your grade is C.') \n",
    "        else: \n",
    "            if score >= D_score: \n",
    "                print('Your grade is D.') \n",
    "            else: \n",
    "                    print('Your grade is F.') "
   ]
  },
  {
   "cell_type": "markdown",
   "id": "ad533bbe",
   "metadata": {},
   "source": [
    "Each if/else statement must be properly aligned in terms of indentation. The first if/else statement starts on the far left, and subsequent if/else statements are indented further to the right. The relevant statement(s) for each if/else statement must be indented one tab to the right of the if/else text. Alternatively, you may choose to use if/elif/else statements to simplify the nested statements."
   ]
  },
  {
   "cell_type": "code",
   "execution_count": null,
   "id": "8670e930",
   "metadata": {},
   "outputs": [],
   "source": []
  },
  {
   "cell_type": "markdown",
   "id": "309d0501",
   "metadata": {},
   "source": [
    "## Algorithm Workbench - Problem 5"
   ]
  },
  {
   "cell_type": "markdown",
   "id": "9392f2eb",
   "metadata": {},
   "source": [
    "Write nested decision structures that perform the following: If amount1 is greater than 10 and amount2 is less than 100, display the greater of amount1 and amount2."
   ]
  },
  {
   "cell_type": "code",
   "execution_count": null,
   "id": "afc9485e",
   "metadata": {},
   "outputs": [],
   "source": []
  }
 ],
 "metadata": {
  "kernelspec": {
   "display_name": "Python 3 (ipykernel)",
   "language": "python",
   "name": "python3"
  },
  "language_info": {
   "codemirror_mode": {
    "name": "ipython",
    "version": 3
   },
   "file_extension": ".py",
   "mimetype": "text/x-python",
   "name": "python",
   "nbconvert_exporter": "python",
   "pygments_lexer": "ipython3",
   "version": "3.11.7"
  }
 },
 "nbformat": 4,
 "nbformat_minor": 5
}
