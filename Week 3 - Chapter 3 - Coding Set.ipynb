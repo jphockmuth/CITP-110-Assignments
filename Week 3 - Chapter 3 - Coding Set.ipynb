{
 "cells": [
  {
   "cell_type": "markdown",
   "id": "1ed15ec0",
   "metadata": {},
   "source": [
    "# Coding Set - Chapter 3 (Week 3)"
   ]
  },
  {
   "cell_type": "markdown",
   "id": "c503e9ec",
   "metadata": {},
   "source": [
    "## Algorithm Workbench - Problem 4"
   ]
  },
  {
   "cell_type": "markdown",
   "id": "1f6581bb",
   "metadata": {},
   "source": [
    "The following code contains several nested  statements. Unfortunately, it was written without proper alignment and indentation. Rewrite the code and use the proper conventions of alignment and indentation.\n",
    "\n",
    "if score >= A_score: \n",
    "print('Your grade is A.') \n",
    "else: \n",
    "if score >= B_score: \n",
    "print('Your grade is B.') \n",
    "else: \n",
    "if score >= C_score: \n",
    "print('Your grade is C.') \n",
    "else: \n",
    "if score >= D_score: \n",
    "print('Your grade is D.') \n",
    "else: \n",
    "print('Your grade is F.') "
   ]
  },
  {
   "cell_type": "code",
   "execution_count": 1,
   "id": "5d96290d",
   "metadata": {},
   "outputs": [
    {
     "name": "stdout",
     "output_type": "stream",
     "text": [
      "Enter your test score: 84\n",
      "Your grade is B.\n"
     ]
    }
   ],
   "source": [
    "#Receives an inputted test score from the user and displays the corresponding grade.\n",
    "\n",
    "#Named constants representing letter grades\n",
    "A_score = 90\n",
    "B_score = 80\n",
    "C_score = 70\n",
    "D_score = 60\n",
    "\n",
    "#This command will have the user input their test score\n",
    "score = int(input('Enter your test score: '))\n",
    "\n",
    "if score >= A_score: \n",
    "    print('Your grade is A.') \n",
    "else: \n",
    "    if score >= B_score: \n",
    "        print('Your grade is B.') \n",
    "    else: \n",
    "        if score >= C_score: \n",
    "            print('Your grade is C.') \n",
    "        else: \n",
    "            if score >= D_score: \n",
    "                print('Your grade is D.') \n",
    "            else: \n",
    "                    print('Your grade is F.') "
   ]
  },
  {
   "cell_type": "markdown",
   "id": "7f0bed1b",
   "metadata": {},
   "source": [
    "Each if/else statement must be properly aligned in terms of indentation. The first if/else statement starts on the far left, and subsequent if/else statements are indented further to the right. The relevant statement(s) for each if/else statement must be indented one tab to the right of the if/else text. Alternatively, you may choose to use if/elif/else statements to simplify the nested statements."
   ]
  },
  {
   "cell_type": "markdown",
   "id": "e4f83f10",
   "metadata": {},
   "source": [
    "## Algorithm Workbench - Problem 5"
   ]
  },
  {
   "cell_type": "markdown",
   "id": "3d15021a",
   "metadata": {},
   "source": [
    "Write nested decision structures that perform the following: If amount1 is greater than 10 and amount2 is less than 100, display the greater of amount1 and amount2."
   ]
  },
  {
   "cell_type": "code",
   "execution_count": 2,
   "id": "26f63a91",
   "metadata": {},
   "outputs": [
    {
     "name": "stdout",
     "output_type": "stream",
     "text": [
      "Enter amount1 89\n",
      "Enter amount2 74\n",
      "amount1 is greater\n"
     ]
    }
   ],
   "source": [
    "amount1 = int(input('Enter amount1'))\n",
    "amount2 = int(input('Enter amount2'))\n",
    "if amount1 > 10 and amount2 < 100:\n",
    "    if amount1 > amount2:\n",
    "        print('amount1 is greater')\n",
    "    elif amount2 > amount1:\n",
    "        print('amount2 is greater')\n",
    "else:\n",
    "    print('Amounts are not within range')"
   ]
  },
  {
   "cell_type": "markdown",
   "id": "cf1d1821",
   "metadata": {},
   "source": [
    "I created user inputs to allow the user to input their numbers for amounts 1 and 2. I created the master if/else statement, and then created a nested if/elif satement to determine which amount is greater, and depending on the greater amount printing the statement. "
   ]
  },
  {
   "cell_type": "markdown",
   "id": "ff812942",
   "metadata": {},
   "source": [
    "## Programming Exercises - Problem 1"
   ]
  },
  {
   "cell_type": "markdown",
   "id": "25fdf169",
   "metadata": {},
   "source": [
    "Write a program that asks the user for a number in the range of 1 through 7. The program should display the corresponding day of the week, where 1 = Monday, 2 = Tuesday, 3 = Wednesday, 4 = Thursday, 5 = Friday, 6 = Saturday, and 7 = Sunday. The program should display an error message if the user enters a number that is outside the range of 1 through 7."
   ]
  },
  {
   "cell_type": "code",
   "execution_count": 3,
   "id": "83235f1f",
   "metadata": {},
   "outputs": [
    {
     "name": "stdout",
     "output_type": "stream",
     "text": [
      "Enter a number between 1 through 7 4\n",
      "Thursday\n"
     ]
    }
   ],
   "source": [
    "# Ask user to input day of the week\n",
    "day = int(input('Enter a number between 1 through 7'))\n",
    "\n",
    "# Determine the correct day of the week corresponding to the number\n",
    "\n",
    "if day == 1:\n",
    "    print('Monday')\n",
    "elif day == 2:\n",
    "    print('Tuesday')\n",
    "elif day == 3:\n",
    "    print('Wednesday')\n",
    "elif day == 4:\n",
    "    print('Thursday')\n",
    "elif day == 5:\n",
    "    print('Fiday')\n",
    "elif day == 6:\n",
    "    print('Saturday')\n",
    "elif day == 7:\n",
    "    print('Sunday')\n",
    "else:\n",
    "    print ('Given number is not within range')"
   ]
  },
  {
   "cell_type": "markdown",
   "id": "5da61f79",
   "metadata": {},
   "source": [
    "I created a statement asking user to input a number 1-7. I utilized the if/elif/else statement to detect the input from the user and properly output the corresponding day of the week. Formatted the statement correctly and code is functional."
   ]
  },
  {
   "cell_type": "markdown",
   "id": "8f8e995a",
   "metadata": {},
   "source": [
    "## Programming Exercises - Problem 5"
   ]
  },
  {
   "cell_type": "markdown",
   "id": "ec66b76d",
   "metadata": {},
   "source": [
    "Scientists measure an object’s mass in kilograms and its weight in newtons. If you know the amount of mass of an object in kilograms, you can calculate its weight in newtons with the following formula:\n",
    "weight=mass x 9.8 . Write a program that asks the user to enter an object’s mass, then calculates its weight. If the object weighs more than 500 newtons, display a message indicating that it is too heavy. If the object weighs less than 100 newtons, display a message indicating that it is too light."
   ]
  },
  {
   "cell_type": "code",
   "execution_count": 9,
   "id": "d73c5b55",
   "metadata": {},
   "outputs": [
    {
     "name": "stdout",
     "output_type": "stream",
     "text": [
      "Enter the mass of the object in kilograms41\n",
      "401.8\n",
      "The object is within the proper weight range\n"
     ]
    }
   ],
   "source": [
    "# Ask user to input object's mass in kilograms.\n",
    "mass = int(input('Enter the mass of the object in kilograms'))\n",
    "# Calculate weight in Newtons using the formula and the mass inputted by user\n",
    "weight = mass*9.8\n",
    "print(weight)\n",
    "\n",
    "if weight<100:\n",
    "    print('The object is too light')\n",
    "elif weight>500:\n",
    "    print('The object is too heavy')\n",
    "else:\n",
    "    print('The object is within the proper weight range')"
   ]
  },
  {
   "cell_type": "markdown",
   "id": "2d061522",
   "metadata": {},
   "source": [
    "I created a statement asking user to input the object's mass in kilograms. Following this, I created a formula to calculate the weight in Newtons based on the user-inputted variable and the constant of 9.8, and printed the calculated weight. I created an if/elif/else statement to print the corresponding message based on the calculated weight. Code is properly formatted and functional."
   ]
  },
  {
   "cell_type": "markdown",
   "id": "316346dd",
   "metadata": {},
   "source": [
    "## Programming Exercise - Problem 15"
   ]
  },
  {
   "cell_type": "markdown",
   "id": "408147e2",
   "metadata": {},
   "source": [
    "The month of February normally has 28 days. But if it is a leap year, February has 29 days. Write a program that asks the user to enter a year. The program should then display the number of days in February that year. Use the following criteria to identify leap years:\n",
    "\n",
    "Determine whether the year is divisible by 100. If it is, then it is a leap year if and only if it is also divisible by 400. For example, 2000 is a leap year, but 2100 is not.\n",
    "If the year is not divisible by 100, then it is a leap year if and only if it is divisible by 4. For example, 2008 is a leap year, but 2009 is not."
   ]
  },
  {
   "cell_type": "code",
   "execution_count": 18,
   "id": "198cbc9a",
   "metadata": {},
   "outputs": [
    {
     "name": "stdout",
     "output_type": "stream",
     "text": [
      "Enter a year 2040\n",
      "February has 29 days\n"
     ]
    }
   ],
   "source": [
    "#Ask user to input a year\n",
    "year =int(input('Enter a year'))\n",
    "\n",
    "# Determine if the year is divisible by 100\n",
    "if year % 100 == 0:\n",
    "#Determine is the year is divisible by 400    \n",
    "    if year % 400 == 0:\n",
    "        print('February has 29 days')\n",
    "    else:\n",
    "        print('February has 28 days')\n",
    "\n",
    "# If none of the above apply, determine if the year is disible by 4\n",
    "else:\n",
    "    if year % 4 == 0:\n",
    "        print('February has 29 days')\n",
    "    else:\n",
    "        print('February has 28 days')"
   ]
  },
  {
   "cell_type": "markdown",
   "id": "e841433c",
   "metadata": {},
   "source": [
    "I created a statement asking the user to input a year. Then, I created a compound if/else statement using % to determine find a remainder of 0, determining whether the year was divisible by 100, then 400, and if neither apply, by 4. The program will print the corresponding number of days in February based on this. Code is properly formatted and functional."
   ]
  },
  {
   "cell_type": "markdown",
   "id": "1f659b8d",
   "metadata": {},
   "source": [
    "## Programming Exercise - Problem 16"
   ]
  },
  {
   "cell_type": "markdown",
   "id": "728dcba5",
   "metadata": {},
   "source": [
    "Figure 3-21 shows a simplified flowchart for troubleshooting a bad Wi-Fi connection. Use the flowchart to create a program that leads a person through the steps of fixing a bad Wi-Fi connection. Here is an example of the program’s output:\n",
    "\n",
    "Reboot the computer and try to connect. \n",
    "Did that fix the problem? no [Enter] \n",
    "Reboot the router and try to connect. \n",
    "Did that fix the problem? yes [Enter]\n",
    "Notice the program ends as soon as a solution is found to the problem. Here is another example of the program’s output:\n",
    "\n",
    "Reboot the computer and try to connect. \n",
    "Did that fix the problem? no  [Enter] \n",
    "Reboot the router and try to connect. \n",
    "Did that fix the problem? no  [Enter] \n",
    "Make sure the cables between the router and modem are plugged in firmly. \n",
    "Did that fix the problem? no  [Enter] \n",
    "Move the router to a new location. \n",
    "Did that fix the problem? no  [Enter] \n",
    "Get a new router."
   ]
  },
  {
   "cell_type": "code",
   "execution_count": null,
   "id": "2fd566bd",
   "metadata": {},
   "outputs": [],
   "source": []
  }
 ],
 "metadata": {
  "kernelspec": {
   "display_name": "Python 3 (ipykernel)",
   "language": "python",
   "name": "python3"
  },
  "language_info": {
   "codemirror_mode": {
    "name": "ipython",
    "version": 3
   },
   "file_extension": ".py",
   "mimetype": "text/x-python",
   "name": "python",
   "nbconvert_exporter": "python",
   "pygments_lexer": "ipython3",
   "version": "3.11.7"
  }
 },
 "nbformat": 4,
 "nbformat_minor": 5
}
