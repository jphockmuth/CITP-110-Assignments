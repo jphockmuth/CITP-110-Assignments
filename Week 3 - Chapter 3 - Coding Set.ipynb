{
 "cells": [
  {
   "cell_type": "markdown",
   "id": "2df08d93",
   "metadata": {},
   "source": [
    "# Coding Set - Chapter 3 (Week 3)"
   ]
  },
  {
   "cell_type": "markdown",
   "id": "07703457",
   "metadata": {},
   "source": [
    "## Algorithm Workbench - Problem 4"
   ]
  },
  {
   "cell_type": "markdown",
   "id": "8c184c15",
   "metadata": {},
   "source": [
    "The following code contains several nested  statements. Unfortunately, it was written without proper alignment and indentation. Rewrite the code and use the proper conventions of alignment and indentation.\n",
    "\n",
    "if score >= A_score: |\n",
    "print('Your grade is A.') \n",
    "else: \n",
    "if score >= B_score: \n",
    "print('Your grade is B.') \n",
    "else: \n",
    "if score >= C_score: \n",
    "print('Your grade is C.') \n",
    "else: \n",
    "if score >= D_score: \n",
    "print('Your grade is D.') \n",
    "else: \n",
    "print('Your grade is F.') "
   ]
  },
  {
   "cell_type": "code",
   "execution_count": null,
   "id": "b432c51b",
   "metadata": {},
   "outputs": [],
   "source": []
  },
  {
   "cell_type": "markdown",
   "id": "202a19c7",
   "metadata": {},
   "source": [
    "## Algorithm Workbench - Problem 5"
   ]
  },
  {
   "cell_type": "markdown",
   "id": "99fc3b6b",
   "metadata": {},
   "source": [
    "Write nested decision structures that perform the following: If amount1 is greater than 10 and amount2 is less than 100, display the greater of amount1 and amount2."
   ]
  },
  {
   "cell_type": "code",
   "execution_count": null,
   "id": "6354851b",
   "metadata": {},
   "outputs": [],
   "source": []
  }
 ],
 "metadata": {
  "kernelspec": {
   "display_name": "Python 3 (ipykernel)",
   "language": "python",
   "name": "python3"
  },
  "language_info": {
   "codemirror_mode": {
    "name": "ipython",
    "version": 3
   },
   "file_extension": ".py",
   "mimetype": "text/x-python",
   "name": "python",
   "nbconvert_exporter": "python",
   "pygments_lexer": "ipython3",
   "version": "3.11.7"
  }
 },
 "nbformat": 4,
 "nbformat_minor": 5
}
