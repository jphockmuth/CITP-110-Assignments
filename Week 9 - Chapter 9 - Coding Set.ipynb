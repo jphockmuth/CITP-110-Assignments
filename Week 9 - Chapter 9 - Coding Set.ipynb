{
 "cells": [
  {
   "cell_type": "markdown",
   "id": "c5d7d848",
   "metadata": {},
   "source": [
    "# Coding Set - Chapter 9 (Week 9)"
   ]
  },
  {
   "cell_type": "markdown",
   "id": "831f71f1",
   "metadata": {},
   "source": [
    "## Programming Exercises - Problem 3"
   ]
  },
  {
   "cell_type": "markdown",
   "id": "c1aaecc7",
   "metadata": {},
   "source": [
    "Write a program that creates a dictionary containing the U.S. states as keys, and their capitals as values. (Use the Internet to get a list of the states and their capitals.) The program should then randomly quiz the user by displaying the name of a state and asking the user to enter that state’s capital. The program should keep a count of the number of correct and incorrect responses. (As an alternative to the U.S. states, the program can use the names of countries and their capitals.)"
   ]
  },
  {
   "cell_type": "code",
   "execution_count": 4,
   "id": "8b0611cf",
   "metadata": {},
   "outputs": [],
   "source": [
    "#Create constant for the number of states to quiz the user on\n",
    "num_states = 10\n",
    "\n",
    "#Create main function to call\n",
    "def main():\n",
    "    #Create variable for the state cap dictionary\n",
    "    state_caps = state_cap_dictionary()\n",
    "\n",
    "#Create dictionary of States and Capitols\n",
    "def state_cap_dictionary():\n",
    "    sc = {'Alabama' : 'Montgomery',\n",
    "    'Alaska' : 'Juneau',\n",
    "    'Arizona' :'Phoenix',\n",
    "    'Arkansas' :'Little Rock',\n",
    "    'California' : 'Sacramento',\n",
    "    'Colorado' :'Denver',\n",
    "    'Connecticut':'Hartford',\n",
    "    'Delaware' :'Dover',\n",
    "    'Florida' : 'Tallahassee',\n",
    "    'Georgia' : 'Atlanta',\n",
    "    'Hawaii' : 'Honolulu',\n",
    "    'Idaho' : 'Boise',\n",
    "    'Illinios' : 'Springfield',\n",
    "    'Indiana' : 'Indianapolis',\n",
    "    'Iowa' : 'Des Monies',\n",
    "    'Kansas' : 'Topeka',\n",
    "    'Kentucky' : 'Frankfort',\n",
    "    'Louisiana' : 'Baton Rouge',\n",
    "    'Maine' : 'Augusta',\n",
    "    'Maryland' : 'Annapolis',\n",
    "    'Massachusetts' : 'Boston',\n",
    "    'Michigan' : 'Lansing',\n",
    "    'Minnesota' : 'St. Paul',\n",
    "    'Mississippi' : 'Jackson',\n",
    "    'Missouri' : 'Jefferson City',\n",
    "    'Montana' : 'Helena',\n",
    "    'Nebraska' : 'Lincoln',\n",
    "    'Neveda' : 'Carson City',\n",
    "    'New Hampshire' : 'Concord',\n",
    "    'New Jersey' : 'Trenton',\n",
    "    'New Mexico' : 'Santa Fe',\n",
    "    'New York' : 'Albany',\n",
    "    'North Carolina' : 'Raleigh',\n",
    "    'North Dakota' : 'Bismarck',\n",
    "    'Ohio' : 'Columbus',\n",
    "    'Oklahoma' : 'Oklahoma City',\n",
    "    'Oregon' : 'Salem',\n",
    "    'Pennsylvania' : 'Harrisburg',\n",
    "    'Rhoda Island' : 'Providence',\n",
    "    'South Carolina' : 'Columbia',\n",
    "    'South Dakoda' : 'Pierre',\n",
    "    'Tennessee' : 'Nashville',\n",
    "    'Texas' : 'Austin',\n",
    "    'Utah' : 'Salt Lake City',\n",
    "    'Vermont' : 'Montpelier',\n",
    "    'Virginia' : 'Richmond',\n",
    "    'Washington' : 'Olympia',\n",
    "    'West Virginia' : 'Charleston',\n",
    "    'Wisconsin' : 'Madison',\n",
    "    'Wyoming' : 'Cheyenne'}\n",
    "    #Added return statement to end program\n",
    "    return sc"
   ]
  }
 ],
 "metadata": {
  "kernelspec": {
   "display_name": "Python 3 (ipykernel)",
   "language": "python",
   "name": "python3"
  },
  "language_info": {
   "codemirror_mode": {
    "name": "ipython",
    "version": 3
   },
   "file_extension": ".py",
   "mimetype": "text/x-python",
   "name": "python",
   "nbconvert_exporter": "python",
   "pygments_lexer": "ipython3",
   "version": "3.11.7"
  }
 },
 "nbformat": 4,
 "nbformat_minor": 5
}
