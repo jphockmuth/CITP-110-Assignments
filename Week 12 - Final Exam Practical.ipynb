{
 "cells": [
  {
   "cell_type": "markdown",
   "id": "1fc68b12",
   "metadata": {},
   "source": [
    "# Week 12 - Final Exam Practical"
   ]
  },
  {
   "cell_type": "markdown",
   "id": "09f8075a",
   "metadata": {},
   "source": [
    "## Problem 1"
   ]
  },
  {
   "cell_type": "markdown",
   "id": "d91e0976",
   "metadata": {},
   "source": [
    "Please paste the following line of Python code in your coding environment:\n",
    "greeting = \"  Hello, little people of Earth!      \"\n",
    "\n",
    "Perform the following operations using a combination of Python functions, string methods, and math capabilities.\n",
    "\n",
    "Determine the length of the string.\n",
    "Determine if this length is evenly divisible by 5.\n",
    "Create and store a new version of the string in a newly named variable that removes any spaces at the end or the beginning of the string.\n",
    "Using string you created in step 3, store the first 5 characters of the string in a new variable.\n",
    "Using the string you created in step 4, append 59 'o' characters to the string and print out the result."
   ]
  },
  {
   "cell_type": "code",
   "execution_count": 4,
   "id": "fd030643",
   "metadata": {},
   "outputs": [
    {
     "name": "stdout",
     "output_type": "stream",
     "text": [
      "  Hello, little people of Earth!      \n"
     ]
    }
   ],
   "source": [
    "mystring = \"  Hello, little people of Earth!      \"\n"
   ]
  },
  {
   "cell_type": "markdown",
   "id": "ce24b9e6",
   "metadata": {},
   "source": [
    "## Problem 2"
   ]
  },
  {
   "cell_type": "markdown",
   "id": "dd431752",
   "metadata": {},
   "source": [
    "Please define a function named wow_kazow that accepts a number and then returns one of the following values:\n",
    "\n",
    "The function returns \"wow\" if the number is evenly divisible by 5.\n",
    "The function returns \"kazow\" if the number is evenly divisible by 7.\n",
    "The function returns \"wowkazow\" if the number is evenly divisible by 5 and 7.\n",
    "The function returns the number it was originally passed if the number is not divisible by either 5 or 7.\n",
    "Finally, please define a main function that loops through numbers 41 through 89 (inclusive) as inputs to the wow_kazow function and prints each of the results. Your instructor will call this main method to test your solution."
   ]
  },
  {
   "cell_type": "code",
   "execution_count": null,
   "id": "78c78a75",
   "metadata": {},
   "outputs": [],
   "source": []
  },
  {
   "cell_type": "markdown",
   "id": "bd9cca66",
   "metadata": {},
   "source": [
    "## Problem 3"
   ]
  },
  {
   "cell_type": "markdown",
   "id": "7cdc1b82",
   "metadata": {},
   "source": [
    "Please create two classes that implement all of the names, data attributes, and methods reflected in the following UML diagram. These classes will be used within an inventory management system for ACME Eyewear.\n",
    "\n",
    "The __str__() method in both classes should create a reasonable string representation for use in calls to the Python print() function.\n",
    "\n",
    "Please remember to record your work using Snagit (you'll share your recording in a separate assignment after completing this quiz) and paste the resulting code in as your response here."
   ]
  },
  {
   "cell_type": "code",
   "execution_count": null,
   "id": "a51d1b0c",
   "metadata": {},
   "outputs": [],
   "source": []
  }
 ],
 "metadata": {
  "kernelspec": {
   "display_name": "Python 3 (ipykernel)",
   "language": "python",
   "name": "python3"
  },
  "language_info": {
   "codemirror_mode": {
    "name": "ipython",
    "version": 3
   },
   "file_extension": ".py",
   "mimetype": "text/x-python",
   "name": "python",
   "nbconvert_exporter": "python",
   "pygments_lexer": "ipython3",
   "version": "3.11.7"
  }
 },
 "nbformat": 4,
 "nbformat_minor": 5
}
