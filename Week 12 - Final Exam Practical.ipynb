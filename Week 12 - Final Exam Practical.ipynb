{
 "cells": [
  {
   "cell_type": "markdown",
   "id": "6b8d7225",
   "metadata": {},
   "source": [
    "# Week 12 - Final Exam Practical"
   ]
  },
  {
   "cell_type": "markdown",
   "id": "3957d13c",
   "metadata": {},
   "source": [
    "## Problem 1"
   ]
  },
  {
   "cell_type": "markdown",
   "id": "f02828cf",
   "metadata": {},
   "source": [
    "Please paste the following line of Python code in your coding environment:\n",
    "greeting = \"  Hello, little people of Earth!      \"\n",
    "\n",
    "Perform the following operations using a combination of Python functions, string methods, and math capabilities.\n",
    "\n",
    "Determine the length of the string.\n",
    "Determine if this length is evenly divisible by 5.\n",
    "Create and store a new version of the string in a newly named variable that removes any spaces at the end or the beginning of the string.\n",
    "Using string you created in step 3, store the first 5 characters of the string in a new variable.\n",
    "Using the string you created in step 4, append 59 'o' characters to the string and print out the result."
   ]
  },
  {
   "cell_type": "code",
   "execution_count": 19,
   "id": "f22f8ae7",
   "metadata": {},
   "outputs": [
    {
     "name": "stdout",
     "output_type": "stream",
     "text": [
      "The length is 38\n",
      "Is string length divisble by 5? False\n",
      "Hello, little people of Earth!\n",
      "Hello\n",
      "Helloooooooooooooooooooooooooooooooooooooooooooooooooooooooooooo\n"
     ]
    }
   ],
   "source": [
    "#Create string\n",
    "mystring = \"  Hello, little people of Earth!      \"\n",
    "\n",
    "#Determine length\n",
    "length = len(mystring)\n",
    "#Display length of string\n",
    "print('The length is', length)\n",
    "\n",
    "#Determine if length is evenly divisble by 5\n",
    "divisible = length % 5 == 0\n",
    "#Display answer\n",
    "print('Is string length divisble by 5?', divisible)\n",
    "\n",
    "#Create new string, strip beginning and end spaces\n",
    "newstring = mystring.strip()\n",
    "#Display new string\n",
    "print(newstring)\n",
    "\n",
    "#Store first 5 characters from the new string\n",
    "fivechar = newstring [:5]\n",
    "#Display first five characters\n",
    "print(fivechar)\n",
    "\n",
    "#Using first five characters, append 59 'o's\n",
    "finalstring = fivechar + 'o' * 59\n",
    "#Display the final string\n",
    "print(finalstring)"
   ]
  },
  {
   "cell_type": "markdown",
   "id": "5a3374f6",
   "metadata": {},
   "source": [
    "## Problem 2"
   ]
  },
  {
   "cell_type": "markdown",
   "id": "28a8efa9",
   "metadata": {},
   "source": [
    "Please define a function named wow_kazow that accepts a number and then returns one of the following values:\n",
    "\n",
    "The function returns \"wow\" if the number is evenly divisible by 5.\n",
    "The function returns \"kazow\" if the number is evenly divisible by 7.\n",
    "The function returns \"wowkazow\" if the number is evenly divisible by 5 and 7.\n",
    "The function returns the number it was originally passed if the number is not divisible by either 5 or 7.\n",
    "Finally, please define a main function that loops through numbers 41 through 89 (inclusive) as inputs to the wow_kazow function and prints each of the results. Your instructor will call this main method to test your solution."
   ]
  },
  {
   "cell_type": "code",
   "execution_count": 23,
   "id": "1a201b69",
   "metadata": {},
   "outputs": [
    {
     "data": {
      "text/plain": [
       "13"
      ]
     },
     "execution_count": 23,
     "metadata": {},
     "output_type": "execute_result"
    }
   ],
   "source": [
    "#Create function\n",
    "def wow_kazow(number):\n",
    "    #If number number is divisible by 5 and 7, return wowkazow\n",
    "    if  number % 5 == 0 and number % 7 == 0:\n",
    "        return 'wowkazow'\n",
    "    #If number is divisible by 5 only, return wow\n",
    "    elif number % 5 == 0:\n",
    "        return 'wow'\n",
    "    #If number is divisible by 7 only, return kazow\n",
    "    elif number % 7 == 0:\n",
    "        return 'kazow'\n",
    "    #Else, return the number\n",
    "    else:\n",
    "        return number\n",
    "\n",
    "#Create main function\n",
    "def main():\n",
    "    #Create for loop to iterate through range of numbers\n",
    "    for num in range(41, 90):\n",
    "        #Use number in range as num variable for wow_kazow function\n",
    "        answer = wow_kazow(num):\n",
    "        #Display the answer for each number in the range\n",
    "        print(answer)\n",
    "        "
   ]
  },
  {
   "cell_type": "markdown",
   "id": "8b6a8133",
   "metadata": {},
   "source": [
    "## Problem 3"
   ]
  },
  {
   "cell_type": "markdown",
   "id": "b3972f7f",
   "metadata": {},
   "source": [
    "Please create two classes that implement all of the names, data attributes, and methods reflected in the following UML diagram. These classes will be used within an inventory management system for ACME Eyewear.\n",
    "\n",
    "The __str__() method in both classes should create a reasonable string representation for use in calls to the Python print() function.\n",
    "\n",
    "Please remember to record your work using Snagit (you'll share your recording in a separate assignment after completing this quiz) and paste the resulting code in as your response here."
   ]
  },
  {
   "cell_type": "code",
   "execution_count": null,
   "id": "5d06c846",
   "metadata": {},
   "outputs": [],
   "source": []
  }
 ],
 "metadata": {
  "kernelspec": {
   "display_name": "Python 3 (ipykernel)",
   "language": "python",
   "name": "python3"
  },
  "language_info": {
   "codemirror_mode": {
    "name": "ipython",
    "version": 3
   },
   "file_extension": ".py",
   "mimetype": "text/x-python",
   "name": "python",
   "nbconvert_exporter": "python",
   "pygments_lexer": "ipython3",
   "version": "3.11.7"
  }
 },
 "nbformat": 4,
 "nbformat_minor": 5
}
