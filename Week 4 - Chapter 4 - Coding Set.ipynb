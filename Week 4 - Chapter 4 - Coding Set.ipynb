{
 "cells": [
  {
   "cell_type": "markdown",
   "id": "a7dabcd4",
   "metadata": {},
   "source": [
    "# Coding Set - Chapter 4 (Week 4)"
   ]
  },
  {
   "cell_type": "markdown",
   "id": "22db7d8b",
   "metadata": {},
   "source": [
    "## Algorithm Workbench - Problem 1"
   ]
  },
  {
   "cell_type": "markdown",
   "id": "4fa2a6ec",
   "metadata": {},
   "source": [
    "Write a while loop that lets the user enter a number. The number should be multiplied by 10, and the result assigned to a variable named product. The loop should iterate as long as product is less than 100."
   ]
  },
  {
   "cell_type": "code",
   "execution_count": 3,
   "id": "c985899d",
   "metadata": {},
   "outputs": [
    {
     "name": "stdout",
     "output_type": "stream",
     "text": [
      "Enter a number1\n",
      "The product is: 10\n",
      "Enter a number3\n",
      "The product is: 30\n",
      "Enter a number5\n",
      "The product is: 50\n",
      "Enter a number9\n",
      "The product is: 90\n",
      "Enter a number10\n",
      "The product is: 100\n"
     ]
    }
   ],
   "source": [
    "# Start the product as 0\n",
    "product = 0\n",
    "# Create while statement\n",
    "while product < 100:\n",
    "# Ask user to input number\n",
    "    number = int(input('Enter a number'))\n",
    "# Calculate product based on input\n",
    "    product = number*10\n",
    "# Display the product to the user \n",
    "    print('The product is:', product)"
   ]
  },
  {
   "cell_type": "markdown",
   "id": "c84baab6",
   "metadata": {},
   "source": [
    "## Algorithm Workbench - Problem 8"
   ]
  },
  {
   "cell_type": "markdown",
   "id": "cfc12372",
   "metadata": {},
   "source": [
    "Write code that prompts the user to enter a positive nonzero number and validates the input."
   ]
  },
  {
   "cell_type": "code",
   "execution_count": 5,
   "id": "ce68487d",
   "metadata": {},
   "outputs": [
    {
     "name": "stdout",
     "output_type": "stream",
     "text": [
      "Enter a positive nonzero number:-1\n",
      "The number must be greater than 0\n",
      "Enter a positive nonzero number:5\n"
     ]
    }
   ],
   "source": [
    "#Create while loop, ask user to input number.\n",
    "while (number := int(input('Enter a positive nonzero number:'))) < 0:\n",
    "# If the number is less than 0, the code will print that the number is invalid\n",
    "    print('The number must be greater than 0')"
   ]
  },
  {
   "cell_type": "markdown",
   "id": "8352101f",
   "metadata": {},
   "source": [
    "## Programming Exercises - Problem 1"
   ]
  },
  {
   "cell_type": "markdown",
   "id": "9bf2654b",
   "metadata": {},
   "source": [
    "A bug collector collects bugs every day for five days. Write a program that keeps a running total of the number of bugs collected during the five days. The loop should ask for the number of bugs collected for each day, and when the loop is finished, the program should display the total number of bugs collected."
   ]
  },
  {
   "cell_type": "code",
   "execution_count": 3,
   "id": "8fed3d02",
   "metadata": {},
   "outputs": [
    {
     "name": "stdout",
     "output_type": "stream",
     "text": [
      "Input the number of bugs collected on day 1\n",
      "5\n",
      "Input the number of bugs collected on day 2\n",
      "7\n",
      "Input the number of bugs collected on day 3\n",
      "3\n",
      "Input the number of bugs collected on day 4\n",
      "2\n",
      "Input the number of bugs collected on day 5\n",
      "8\n",
      "Input the number of bugs collected on day 6\n",
      "10\n",
      "Input the number of bugs collected on day 7\n",
      "12\n",
      "You have collected a total of 47 bugs this week.\n"
     ]
    }
   ],
   "source": [
    "# Start the accumulator, in this case number of bugs, as 0\n",
    "total_bugs = 0\n",
    "#Ask user to input the number of bugs collected for each day\n",
    "for day in range(1, 8):\n",
    "    # Use print command to prompt user to input\n",
    "    print('Input the number of bugs collected on day', day)\n",
    "    # User inputs the number of bugs\n",
    "    bugs = int(input())\n",
    "    # Uses augmented assignment operator to add number of bugs to total\n",
    "    total_bugs += bugs\n",
    "#Display the total number of bugs collected for the week\n",
    "print('You have collected a total of', total_bugs, 'bugs this week.')\n",
    "    "
   ]
  },
  {
   "cell_type": "markdown",
   "id": "4807f20f",
   "metadata": {},
   "source": [
    "## Programming Exercises - Problem 4"
   ]
  },
  {
   "cell_type": "markdown",
   "id": "4e2a9f4f",
   "metadata": {},
   "source": [
    "The distance a vehicle travels can be calculated as follows:\n",
    "\n",
    "d\n",
    "i\n",
    "s\n",
    "t\n",
    "a\n",
    "n\n",
    "c\n",
    "e\n",
    "=\n",
    "s\n",
    "p\n",
    "e\n",
    "e\n",
    "d\n",
    "×\n",
    "t\n",
    "i\n",
    "m\n",
    "e\n",
    "For example, if a train travels 40 miles per hour for three hours, the distance traveled is 120 miles. Write a program that asks the user for the speed of a vehicle (in miles per hour) and the number of hours it has traveled. It should then use a loop to display the distance the vehicle has traveled for each hour of that time period. "
   ]
  },
  {
   "cell_type": "code",
   "execution_count": 7,
   "id": "1e067773",
   "metadata": {},
   "outputs": [
    {
     "name": "stdout",
     "output_type": "stream",
     "text": [
      "Enter the speed in miles per hour5\n",
      "Enter the time traveled in hours10\n"
     ]
    }
   ],
   "source": [
    "# Have user input the speed in miles per hour\n",
    "speed = int(input('Enter the speed in miles per hour'))\n",
    "# Verify that the entered speed is a positive input\n",
    "while speed < 0:\n",
    "    speed = int(input('Please enter a positive number'))\n",
    "# Have user input the time traveled in hours\n",
    "hours = int(input('Enter the time traveled in hours'))\n",
    "# Verify that the entered hours is a positive input\n",
    "while hours < 0:\n",
    "    hours = int(input('Please enter a positive number of hours'))\n",
    "#Create distance variable as accumulator\n",
    "distance = 0\n",
    "#Create output variale to assist with formatting the table\n",
    "output =  \"\\nHour    Distance Traveled\\n\" \\\n",
    "         \"----------------------\\n\"\n",
    "#Create for loop to calculate distance traveled by hour\n",
    "\n",
    "for hour in range (hours):\n",
    "    "
   ]
  },
  {
   "cell_type": "markdown",
   "id": "503eb97a",
   "metadata": {},
   "source": [
    "## Programming Exercises - Problem 11"
   ]
  },
  {
   "cell_type": "markdown",
   "id": "ea85276a",
   "metadata": {},
   "source": [
    "In mathematics, the notation n! represents the factorial of the nonnegative integer n. The factorial of n is the product of all the nonnegative integers from 1 to n. For example,\n",
    "\n",
    "7\n",
    "!\n",
    "=\n",
    "1\n",
    "×\n",
    "2\n",
    "×\n",
    "3\n",
    "×\n",
    "4\n",
    "×\n",
    "5\n",
    "×\n",
    "6\n",
    "×\n",
    "7\n",
    "=\n",
    "5,040\n",
    "\n",
    "and\n",
    "\n",
    "4\n",
    "!\n",
    "=\n",
    "1\n",
    "×\n",
    "2\n",
    "×\n",
    "3\n",
    "×\n",
    "4\n",
    "=\n",
    "24\n",
    "\n",
    "Write a program that lets the user enter a nonnegative integer then uses a loop to calculate the factorial of that number. Display the factorial."
   ]
  },
  {
   "cell_type": "code",
   "execution_count": null,
   "id": "e31dbeea",
   "metadata": {},
   "outputs": [],
   "source": []
  }
 ],
 "metadata": {
  "kernelspec": {
   "display_name": "Python 3 (ipykernel)",
   "language": "python",
   "name": "python3"
  },
  "language_info": {
   "codemirror_mode": {
    "name": "ipython",
    "version": 3
   },
   "file_extension": ".py",
   "mimetype": "text/x-python",
   "name": "python",
   "nbconvert_exporter": "python",
   "pygments_lexer": "ipython3",
   "version": "3.11.7"
  }
 },
 "nbformat": 4,
 "nbformat_minor": 5
}
