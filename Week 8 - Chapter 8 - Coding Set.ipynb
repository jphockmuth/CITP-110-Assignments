{
 "cells": [
  {
   "cell_type": "markdown",
   "id": "3267e0b7",
   "metadata": {},
   "source": [
    "# Coding Set - Chapter 8 (Week 8)"
   ]
  },
  {
   "cell_type": "markdown",
   "id": "61b21761",
   "metadata": {},
   "source": [
    "## Algorithm Workbench - Problem 1"
   ]
  },
  {
   "cell_type": "markdown",
   "id": "311214f7",
   "metadata": {},
   "source": [
    "Assume choice references a string. The following if statement determines whether choice is equal to ‘Y’ or ‘y’:\n",
    "- if choice == 'Y' or choice == 'y': \n",
    "\n",
    "Rewrite this statement so it only makes one comparison, and does not use the or operator. (Hint: use either the upper or lower methods.)"
   ]
  },
  {
   "cell_type": "code",
   "execution_count": 11,
   "id": "6d448909",
   "metadata": {},
   "outputs": [
    {
     "name": "stdout",
     "output_type": "stream",
     "text": [
      "The choice is uppercase\n"
     ]
    }
   ],
   "source": [
    "#Define choice to test function\n",
    "choice = 'Y'\n",
    "#Use if command and upper method to determine whether the statement is uppercase\n",
    "if choice.upper() == 'Y':\n",
    "    #Print the result\n",
    "    print('The choice is uppercase')"
   ]
  },
  {
   "cell_type": "markdown",
   "id": "3fe74feb",
   "metadata": {},
   "source": [
    "For this problem, I used the upper command to check if the input is Y or y. If the input is Y, the program prints the result declaring that the choice is uppercase. By using this, I was able to remove the 'or' operator."
   ]
  },
  {
   "cell_type": "markdown",
   "id": "e6612de1",
   "metadata": {},
   "source": [
    "## Algorithm Workbench - Problem 3"
   ]
  },
  {
   "cell_type": "markdown",
   "id": "8afc770c",
   "metadata": {},
   "source": [
    "Write a loop that counts the number of digits that appear in the string referenced by mystring."
   ]
  },
  {
   "cell_type": "code",
   "execution_count": 8,
   "id": "93e3d816",
   "metadata": {},
   "outputs": [
    {
     "name": "stdout",
     "output_type": "stream",
     "text": [
      "The number of digits is 3\n"
     ]
    }
   ],
   "source": [
    "#Create string\n",
    "mystring = ['2', '3', '5', 'hello']\n",
    "#Create accumulator \n",
    "digits = 0\n",
    "#Create for loop to iterate for the entire string\n",
    "for char in mystring:\n",
    "    #Create if command and isdigit method to check for digits in string\n",
    "    if char.isdigit():\n",
    "        #Use augmented assignemnt operator to add each digit\n",
    "        digits += 1\n",
    "#Display number of digits\n",
    "print('The number of digits is', digits)"
   ]
  },
  {
   "cell_type": "markdown",
   "id": "fe470505",
   "metadata": {},
   "source": [
    "Notes"
   ]
  },
  {
   "cell_type": "markdown",
   "id": "37e4c434",
   "metadata": {},
   "source": [
    "## Programming Exercises - Problem 1"
   ]
  },
  {
   "cell_type": "markdown",
   "id": "0d23130d",
   "metadata": {},
   "source": [
    "Write a program that gets a string containing a person’s first, middle, and last names, and displays their first, middle, and last initials. For example, if the user enters John William Smith, the program should display J. W. S."
   ]
  },
  {
   "cell_type": "code",
   "execution_count": 7,
   "id": "feb44bfc",
   "metadata": {},
   "outputs": [
    {
     "name": "stdout",
     "output_type": "stream",
     "text": [
      "Enter your full name in the format of first middle last:Jared Paul Hockmuth\n",
      "Your initials are: J.P.H\n"
     ]
    }
   ],
   "source": [
    "#Create get initials function\n",
    "def get_initials(mystring):\n",
    "    #Return a string with the initials of first, middle, and last names\n",
    "    return '.'.join(word[0].upper() for word in mystring.split())\n",
    "#Ask the user to input their name\n",
    "name = input('Enter your full name in the format of first middle last:')\n",
    "\n",
    "#Call get initials function to retrieve the initials and output them\n",
    "initials = get_initials(name)\n",
    "print(f'Your initials are: {initials}')"
   ]
  },
  {
   "cell_type": "markdown",
   "id": "42b329e6",
   "metadata": {},
   "source": [
    "For this problem, I began by defining the get_initials function. I then Asked the user to input their full name, and subsequently prepared the code to call the get initial function, and print the results. I then created the return code to retrieve the initials from each word in the string. I did use Google's Gemini AI to assist with the formatting of this line of code, which was quite helpful. Finally, I executed the program to ensure that it functioned properly."
   ]
  },
  {
   "cell_type": "code",
   "execution_count": null,
   "id": "6fca8d3d",
   "metadata": {},
   "outputs": [],
   "source": []
  }
 ],
 "metadata": {
  "kernelspec": {
   "display_name": "Python 3 (ipykernel)",
   "language": "python",
   "name": "python3"
  },
  "language_info": {
   "codemirror_mode": {
    "name": "ipython",
    "version": 3
   },
   "file_extension": ".py",
   "mimetype": "text/x-python",
   "name": "python",
   "nbconvert_exporter": "python",
   "pygments_lexer": "ipython3",
   "version": "3.11.7"
  }
 },
 "nbformat": 4,
 "nbformat_minor": 5
}
